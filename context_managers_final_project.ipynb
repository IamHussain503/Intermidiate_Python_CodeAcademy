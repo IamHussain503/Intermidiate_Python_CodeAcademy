{
 "cells": [
  {
   "cell_type": "code",
   "execution_count": null,
   "metadata": {},
   "outputs": [],
   "source": [
    "# Write your code below:\n",
    "from contextlib import contextmanager\n",
    "\n",
    "\n",
    "@contextmanager\n",
    "def generic(cardType, sender_name, recv):\n",
    "  card = open(cardType, 'r')\n",
    "  recv_card = open(sender_name + \"_generic.txt\", 'w')\n",
    "\n",
    "  try:\n",
    "    yield recv_card.write(\"Dear \" + recv + '\\n' + card.read() + '\\n' + 'Sincerely, ' + sender_name)\n",
    "\n",
    "  finally:\n",
    "    card.close()\n",
    "    recv_card.close()\n",
    "\n",
    "\n",
    "with generic('thankyou_card.txt', 'Mwenda', 'Amanda') as file:\n",
    "  print(\"Card Generated!\")\n",
    "\n",
    "\n",
    "class personalized:\n",
    "  def __init__(self, sender, receiver):\n",
    "    self.receiver = receiver\n",
    "    self.sender = sender\n",
    "    self.new_file = open(self.sender + '_personalized.txt', 'w')\n",
    "\n",
    "  def __enter__(self):\n",
    "    return self.new_file.write(\"Dear \" + self.receiver)\n",
    "\n",
    "  def __exit__(self, *exc):\n",
    "    self.new_file.write(\"Sincerely\" + self.sender)\n",
    "    self.new_file.close()\n",
    "\n",
    "\n",
    "with personalized('John', 'Michael') as pr:\n",
    "  pr.write(\"I am so proud of you! Being your friend for all these years has been nothing but a blessing. I don’t say it often but I just wanted to let you know that you inspire me and I love you! All the best. Always.\")\n"
   ]
  }
 ],
 "metadata": {
  "language_info": {
   "name": "python"
  },
  "orig_nbformat": 4
 },
 "nbformat": 4,
 "nbformat_minor": 2
}
