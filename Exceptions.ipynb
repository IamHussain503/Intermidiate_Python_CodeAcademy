{
 "cells": [
  {
   "cell_type": "code",
   "execution_count": 3,
   "metadata": {},
   "outputs": [],
   "source": [
    "def open_register(employee_status):\n",
    "  if employee_status == 'Authorized':\n",
    "    print('Successfully opened cash register')\n",
    "  else:\n",
    "    # Alternatives: raise TypeError() or TypeError('Message')\n",
    "    raise TypeError(\"You are not authorized\")"
   ]
  },
  {
   "cell_type": "code",
   "execution_count": 4,
   "metadata": {},
   "outputs": [
    {
     "ename": "TypeError",
     "evalue": "You are not authorized",
     "output_type": "error",
     "traceback": [
      "\u001b[1;31m---------------------------------------------------------------------------\u001b[0m",
      "\u001b[1;31mTypeError\u001b[0m                                 Traceback (most recent call last)",
      "\u001b[1;32m<ipython-input-4-bf45ae29b4a7>\u001b[0m in \u001b[0;36m<module>\u001b[1;34m\u001b[0m\n\u001b[1;32m----> 1\u001b[1;33m \u001b[0mopen_register\u001b[0m\u001b[1;33m(\u001b[0m\u001b[1;34m\"not authorized\"\u001b[0m\u001b[1;33m)\u001b[0m\u001b[1;33m\u001b[0m\u001b[1;33m\u001b[0m\u001b[0m\n\u001b[0m",
      "\u001b[1;32m<ipython-input-3-e628da5ad7dc>\u001b[0m in \u001b[0;36mopen_register\u001b[1;34m(employee_status)\u001b[0m\n\u001b[0;32m      4\u001b[0m   \u001b[1;32melse\u001b[0m\u001b[1;33m:\u001b[0m\u001b[1;33m\u001b[0m\u001b[1;33m\u001b[0m\u001b[0m\n\u001b[0;32m      5\u001b[0m     \u001b[1;31m# Alternatives: raise TypeError() or TypeError('Message')\u001b[0m\u001b[1;33m\u001b[0m\u001b[1;33m\u001b[0m\u001b[1;33m\u001b[0m\u001b[0m\n\u001b[1;32m----> 6\u001b[1;33m     \u001b[1;32mraise\u001b[0m \u001b[0mTypeError\u001b[0m\u001b[1;33m(\u001b[0m\u001b[1;34m\"You are not authorized\"\u001b[0m\u001b[1;33m)\u001b[0m\u001b[1;33m\u001b[0m\u001b[1;33m\u001b[0m\u001b[0m\n\u001b[0m",
      "\u001b[1;31mTypeError\u001b[0m: You are not authorized"
     ]
    }
   ],
   "source": [
    "open_register(\"not authorized\")"
   ]
  },
  {
   "cell_type": "code",
   "execution_count": 5,
   "metadata": {},
   "outputs": [
    {
     "name": "stdout",
     "output_type": "stream",
     "text": [
      "The price of a Marimba is 1999\n",
      "The price of a Flute is 899\n"
     ]
    },
    {
     "ename": "KeyError",
     "evalue": "'Piano is not found in instrument catalog!'",
     "output_type": "error",
     "traceback": [
      "\u001b[1;31m---------------------------------------------------------------------------\u001b[0m",
      "\u001b[1;31mKeyError\u001b[0m                                  Traceback (most recent call last)",
      "\u001b[1;32m<ipython-input-5-9eee82fae065>\u001b[0m in \u001b[0;36m<module>\u001b[1;34m\u001b[0m\n\u001b[0;32m     15\u001b[0m \u001b[0mprint_instrument_price\u001b[0m\u001b[1;33m(\u001b[0m\u001b[1;34m'Marimba'\u001b[0m\u001b[1;33m)\u001b[0m\u001b[1;33m\u001b[0m\u001b[1;33m\u001b[0m\u001b[0m\n\u001b[0;32m     16\u001b[0m \u001b[0mprint_instrument_price\u001b[0m\u001b[1;33m(\u001b[0m\u001b[1;34m'Flute'\u001b[0m\u001b[1;33m)\u001b[0m\u001b[1;33m\u001b[0m\u001b[1;33m\u001b[0m\u001b[0m\n\u001b[1;32m---> 17\u001b[1;33m \u001b[0mprint_instrument_price\u001b[0m\u001b[1;33m(\u001b[0m\u001b[1;34m'Piano'\u001b[0m\u001b[1;33m)\u001b[0m\u001b[1;33m\u001b[0m\u001b[1;33m\u001b[0m\u001b[0m\n\u001b[0m",
      "\u001b[1;32m<ipython-input-5-9eee82fae065>\u001b[0m in \u001b[0;36mprint_instrument_price\u001b[1;34m(instrument)\u001b[0m\n\u001b[0;32m     11\u001b[0m     \u001b[0mprint\u001b[0m\u001b[1;33m(\u001b[0m\u001b[1;34m'The price of a '\u001b[0m \u001b[1;33m+\u001b[0m \u001b[0minstrument\u001b[0m \u001b[1;33m+\u001b[0m \u001b[1;34m' is '\u001b[0m \u001b[1;33m+\u001b[0m \u001b[0mstr\u001b[0m\u001b[1;33m(\u001b[0m\u001b[0minstrument_catalog\u001b[0m\u001b[1;33m[\u001b[0m\u001b[0minstrument\u001b[0m\u001b[1;33m]\u001b[0m\u001b[1;33m)\u001b[0m\u001b[1;33m)\u001b[0m\u001b[1;33m\u001b[0m\u001b[1;33m\u001b[0m\u001b[0m\n\u001b[0;32m     12\u001b[0m   \u001b[1;32melse\u001b[0m\u001b[1;33m:\u001b[0m\u001b[1;33m\u001b[0m\u001b[1;33m\u001b[0m\u001b[0m\n\u001b[1;32m---> 13\u001b[1;33m     \u001b[1;32mraise\u001b[0m \u001b[0mKeyError\u001b[0m\u001b[1;33m(\u001b[0m\u001b[0minstrument\u001b[0m \u001b[1;33m+\u001b[0m \u001b[1;34m' is not found in instrument catalog!'\u001b[0m\u001b[1;33m)\u001b[0m\u001b[1;33m\u001b[0m\u001b[1;33m\u001b[0m\u001b[0m\n\u001b[0m\u001b[0;32m     14\u001b[0m \u001b[1;33m\u001b[0m\u001b[0m\n\u001b[0;32m     15\u001b[0m \u001b[0mprint_instrument_price\u001b[0m\u001b[1;33m(\u001b[0m\u001b[1;34m'Marimba'\u001b[0m\u001b[1;33m)\u001b[0m\u001b[1;33m\u001b[0m\u001b[1;33m\u001b[0m\u001b[0m\n",
      "\u001b[1;31mKeyError\u001b[0m: 'Piano is not found in instrument catalog!'"
     ]
    }
   ],
   "source": [
    "instrument_catalog = {\n",
    "  'Marimba': 1999,\n",
    "  'Kora': 499,\n",
    "  'Flute': 899\n",
    "}\n",
    "\n",
    "def print_instrument_price(instrument):\n",
    "  # Write your code below:\n",
    "  if instrument in instrument_catalog:\n",
    "\n",
    "    print('The price of a ' + instrument + ' is ' + str(instrument_catalog[instrument]))\n",
    "  else:\n",
    "    raise KeyError(instrument + ' is not found in instrument catalog!')\n",
    "\n",
    "print_instrument_price('Marimba')\n",
    "print_instrument_price('Flute')\n",
    "print_instrument_price('Piano')\n"
   ]
  },
  {
   "cell_type": "code",
   "execution_count": 6,
   "metadata": {},
   "outputs": [
    {
     "name": "stdout",
     "output_type": "stream",
     "text": [
      "The hex value of red is #FF0000\n",
      "Loop continues...\n",
      "An exception occurred! Color does not exist.\n",
      "Loop continues...\n",
      "The hex value of yellow is #FFFF00\n",
      "Loop continues...\n"
     ]
    }
   ],
   "source": [
    "colors = {\n",
    "    'red': '#FF0000',\n",
    "    'blue': '#0000FF',\n",
    "    'yellow': '#FFFF00',\n",
    "}\n",
    " \n",
    "for color in ('red', 'green', 'yellow'):\n",
    "  try:\n",
    "    print('The hex value of ' + color + ' is ' + colors[color])\n",
    "  except:\n",
    "    print('An exception occurred! Color does not exist.')\n",
    "  print('Loop continues...')"
   ]
  },
  {
   "cell_type": "code",
   "execution_count": 17,
   "metadata": {},
   "outputs": [],
   "source": [
    "staff = {\n",
    "  'Austin': {\n",
    "      'floor managers': 1,\n",
    "      'sales associates': 5\n",
    "  },\n",
    "  'Melbourne': {\n",
    "      'floor managers': 0,\n",
    "      'sales associates': 8\n",
    "  },\n",
    "  'Beijing': {\n",
    "      'floor managers': 2,\n",
    "      'sales associates': 5\n",
    "  },\n",
    "}\n",
    "\n",
    "def print_staff_report(location, staff_dict):\n",
    "  managers = staff_dict['floor managers']\n",
    "  sales_people = staff_dict['sales associates']\n",
    "  try:\n",
    "      ratio = sales_people / managers\n",
    "      print('The ratio of sales people to managers is ' + str(ratio))\n",
    "  except ZeroDivisionError:\n",
    "      print(\"Divsion by zero is not allowed\")                         \n",
    "    \n",
    "  print('Instrument World ' + location + ' has:')\n",
    "  print(str(sales_people) + ' sales employees')\n",
    "  print(str(managers) + ' floor managers')\n",
    "      \n",
    "  print()\n",
    "\n"
   ]
  },
  {
   "cell_type": "code",
   "execution_count": 18,
   "metadata": {},
   "outputs": [
    {
     "name": "stdout",
     "output_type": "stream",
     "text": [
      "The ratio of sales people to managers is 5.0\n",
      "Instrument World Austin has:\n",
      "5 sales employees\n",
      "1 floor managers\n",
      "\n",
      "Divsion by zero is not allowed\n",
      "Instrument World Melbourne has:\n",
      "8 sales employees\n",
      "0 floor managers\n",
      "\n",
      "The ratio of sales people to managers is 2.5\n",
      "Instrument World Beijing has:\n",
      "5 sales employees\n",
      "2 floor managers\n",
      "\n"
     ]
    }
   ],
   "source": [
    "for location, staff in staff.items():\n",
    "  # Write your code below:\n",
    "  print_staff_report(location, staff)"
   ]
  },
  {
   "cell_type": "code",
   "execution_count": 16,
   "metadata": {},
   "outputs": [
    {
     "name": "stdout",
     "output_type": "stream",
     "text": [
      "Instrument World Austin has:\n",
      "5 sales employees\n",
      "1 floor managers\n",
      "The ratio of sales people to managers is 5.0\n",
      "\n",
      "Could not print sales report for Melbourne\n",
      "Instrument World Beijing has:\n",
      "5 sales employees\n",
      "2 floor managers\n",
      "The ratio of sales people to managers is 2.5\n",
      "\n"
     ]
    }
   ],
   "source": [
    "staff = {\n",
    "  'Austin': {\n",
    "      'floor managers': 1,\n",
    "      'sales associates': 5\n",
    "  },\n",
    "  'Melbourne': {\n",
    "      'floor managers': 0,\n",
    "      'sales associates': 8\n",
    "  },\n",
    "  'Beijing': {\n",
    "      'floor managers': 2,\n",
    "      'sales associates': 5\n",
    "  },\n",
    "}\n",
    "\n",
    "def print_staff_report(location, staff_dict):\n",
    "  managers = staff_dict['floor managers']\n",
    "  sales_people = staff_dict['sales associates']\n",
    "  ratio = sales_people / managers\n",
    "  print('Instrument World ' + location + ' has:')\n",
    "  print(str(sales_people) + ' sales employees')\n",
    "  print(str(managers) + ' floor managers')\n",
    "  print('The ratio of sales people to managers is ' + str(ratio))\n",
    "  print()\n",
    "\n",
    "for location, staff in staff.items():\n",
    "  try:\n",
    "    print_staff_report(location, staff)\n",
    "  except:\n",
    "    print('Could not print sales report for ' + location)\n"
   ]
  },
  {
   "cell_type": "code",
   "execution_count": null,
   "metadata": {},
   "outputs": [],
   "source": [
    "# 1.txt 2.txt 4.txt ...10.txt\n",
    "# make some dummy text files in a folder and try to read the files in loop , delibrately miss two files in folder,\n",
    "# then run program with out error., program will out put the line in text file\n",
    "for i in range(1,10):\n",
    "    try:\n",
    "        with file open {i}.txt:\n",
    "            print(content)\n",
    "    except:\n",
    "        print(\" File does not exit\" + str(i.txt))\n",
    "        pass"
   ]
  }
 ],
 "metadata": {
  "kernelspec": {
   "display_name": "Python 3",
   "language": "python",
   "name": "python3"
  },
  "language_info": {
   "codemirror_mode": {
    "name": "ipython",
    "version": 3
   },
   "file_extension": ".py",
   "mimetype": "text/x-python",
   "name": "python",
   "nbconvert_exporter": "python",
   "pygments_lexer": "ipython3",
   "version": "3.9.5"
  }
 },
 "nbformat": 4,
 "nbformat_minor": 4
}
