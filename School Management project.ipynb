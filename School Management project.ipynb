{
 "cells": [
  {
   "cell_type": "markdown",
   "metadata": {},
   "source": [
    "# School Management Project"
   ]
  },
  {
   "cell_type": "markdown",
   "metadata": {},
   "source": [
    "LEARN INTERMEDIATE PYTHON 3\n",
    "School Catalogue\n",
    "Let’s put your knowledge of classes to the test by creating a digital school catalog for the New York City Department of Education. The Department of Education wants the catalog to hold quick reference material for each school in the city.\n",
    "\n",
    "We need to create classes for primary and high schools. Because these classes share properties and methods, each will inherit from a parent School class. Our parent and three child classes have the following properties, getters, setters, and methods:\n",
    "\n",
    "School\n",
    "Properties: name (string), level (one of three strings: 'primary', 'middle', or 'high'), and numberOfStudents (integer)\n",
    "Getters: all properties have getters\n",
    "Setters: the numberOfStudents property has a setter\n",
    "Methods: A __repr__ method that displays information about the school.\n",
    "Primary\n",
    "Includes everything in the School class, plus one additional property\n",
    "Properties: pickupPolicy (string, like \"Pickup after 3pm\")\n",
    "Middle\n",
    "Does not include any additional properties or methods\n",
    "High\n",
    "Includes everything in the School class, plus one additional property\n",
    "Properties: sportsTeams (list of strings, like ['basketball', 'tennis'])"
   ]
  }
 ],
 "metadata": {
  "kernelspec": {
   "display_name": "Python 3",
   "language": "python",
   "name": "python3"
  },
  "language_info": {
   "codemirror_mode": {
    "name": "ipython",
    "version": 3
   },
   "file_extension": ".py",
   "mimetype": "text/x-python",
   "name": "python",
   "nbconvert_exporter": "python",
   "pygments_lexer": "ipython3",
   "version": "3.9.5"
  }
 },
 "nbformat": 4,
 "nbformat_minor": 4
}
