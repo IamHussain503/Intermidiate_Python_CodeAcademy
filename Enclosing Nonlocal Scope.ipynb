{
 "cells": [
  {
   "cell_type": "markdown",
   "metadata": {},
   "source": [
    "# variable scope in functions and nested functions"
   ]
  },
  {
   "cell_type": "markdown",
   "metadata": {},
   "source": [
    "Enclosing/Nonlocal Scope\n",
    "Similar to how nested functions form a unique namespace within their enclosing functions (the enclosing namespace), there also exist special rules that apply for accessing nested values. These rules make up the enclosing scope (also known as nonlocal scope). Let’s take a look at a nested function to see the scope in action:\n",
    "\n",
    "def outer_function():\n",
    "  enclosing_value = 'Enclosing Value'\n",
    " \n",
    "  def nested_function():\n",
    "    nested_value = 'Nested Value'\n",
    "    print(enclosing_value)\n",
    " \n",
    "  nested_function()\n",
    " \n",
    "outer_function()\n",
    "Our output would be:\n",
    "\n",
    "Enclosing Value\n",
    "Enclosing scope allows any value defined in an enclosing function to be accessed in nested functions below it. We can observe this scope since nested_function() can access a variable defined one level above in the enclosing function (outer_function()).\n",
    "\n",
    "We can also observe this scoping rule further if we nested a function one level deeper:\n",
    "\n",
    "def outer_function():\n",
    "  enclosing_value = 'Enclosing Value'\n",
    " \n",
    "  def nested_function():\n",
    "    nested_value = 'Nested Value'\n",
    " \n",
    "    def second_nested():\n",
    "       print(enclosing_value)\n",
    "       print(nested_value)\n",
    " \n",
    "     second_nested() \n",
    " \n",
    "  nested_function()\n",
    " \n",
    "outer_function()\n",
    "Would output:\n",
    "\n",
    "Enclosing Value\n",
    "Nested Value\n",
    "There are two caveats to be aware of with enclosing scope:\n",
    "\n",
    "The flow of scope access only flows upwards. This means that the deepest level has access to every enclosing namespace above it, but not the other way around. For example, if we tried to access nested_value from one level above where it was defined:\n",
    "\n",
    "def outer_function():\n",
    "  enclosing_value = 'Enclosing Value'\n",
    "  print(nested_value)\n",
    " \n",
    "  def nested_function():\n",
    "    nested_value = 'Nested Value'\n",
    " \n",
    "  nested_function()\n",
    " \n",
    "outer_function()\n",
    "The program would produce an error:\n",
    "\n",
    "NameError: name 'nested_value' is not defined\n",
    "Immutable objects, such as strings or numbers, can be accessed in nested functions, but cannot be modified. Let’s try to change enclosing_value to see this restriction in action:\n",
    "\n",
    "def outer_function():\n",
    "  enclosing_value = 'Enclosing Value'\n",
    " \n",
    "  def nested_function():\n",
    "    enclosing_value += 'changed'\n",
    " \n",
    "  nested_function()\n",
    "  print(enclosing_value)\n",
    " \n",
    "outer_function()\n",
    "Would output:\n",
    "\n",
    "UnboundLocalError: local variable 'enclosing_value' referenced before assignment\n",
    "Let’s now practice accessing values in the enclosing scope!\n",
    "\n",
    "Instructions\n",
    "1.\n",
    "A new addition to our painting application that we are building for Jiho will be a function that calculates the amount of paint needed to cover a surface.\n",
    "\n",
    "Typically, a gallon of paint can cover about 400 square feet. Using that knowledge, we can use the width and height of a surface to determine how much paint is needed!\n",
    "\n",
    "Throughout these exercises we will use nested functions to add more utility to the calc_paint_amount() function. Remember, this now makes calc_paint_amount() an enclosing function.\n",
    "\n",
    "Run the code to move to the next exercise.\n",
    "\n",
    "Checkpoint 2 Passed\n",
    "2.\n",
    "First inside of calc_paint_amount():\n",
    "\n",
    "Define a nested function called calc_gallons() that has no parameters.\n",
    "Then inside of calc_gallons(), use enclosing scope to access the variable square_feet from the calc_gallons() function.\n",
    "\n",
    "Return the result of square_feet divided by 400.\n",
    "\n",
    "Stuck? Get a hint\n",
    "3.\n",
    "Finally, in the calc_paint_amount() function, call the calc_gallons() function and return the result. Run the code and take a look at the result!"
   ]
  },
  {
   "cell_type": "code",
   "execution_count": 11,
   "metadata": {},
   "outputs": [
    {
     "name": "stdout",
     "output_type": "stream",
     "text": [
      "grand child Value\n"
     ]
    }
   ],
   "source": [
    "def outer_function():\n",
    "    enclosing_value = 'Enclosing Value'\n",
    "\n",
    " \n",
    "    def nested_function():\n",
    "        nested_value = 'Nested Value'\n",
    "    \n",
    "        def grand_child_function():\n",
    "            grand_value = 'grand child Value'\n",
    "            return grand_value\n",
    "        print(grand_child_function())\n",
    "        \n",
    " \n",
    "    nested_function()\n",
    "outer_function()"
   ]
  },
  {
   "cell_type": "code",
   "execution_count": 50,
   "metadata": {},
   "outputs": [
    {
     "name": "stdout",
     "output_type": "stream",
     "text": [
      "Enclosing Valuechanged\n"
     ]
    }
   ],
   "source": [
    "def outer_function():\n",
    "    enclosing_value= 'Enclosing Value'\n",
    " \n",
    "    def nested_function():\n",
    "        nonlocal enclosing_value\n",
    "        enclosing_value += 'changed'\n",
    "\n",
    "    nested_function()\n",
    "    \n",
    "    return enclosing_value\n",
    " \n",
    "print(outer_function())\n",
    "\n"
   ]
  },
  {
   "cell_type": "code",
   "execution_count": 51,
   "metadata": {},
   "outputs": [
    {
     "name": "stdout",
     "output_type": "stream",
     "text": [
      "Number of paint gallons needed: \n",
      "1.5\n"
     ]
    }
   ],
   "source": [
    "def calc_paint_amount(width, height):\n",
    "\n",
    "  square_feet = width * height\n",
    "  # Write your code below!\n",
    "  def calc_gallons():\n",
    "    return square_feet / 400\n",
    "\n",
    "  return calc_gallons()\n",
    "    \n",
    "\n",
    "print('Number of paint gallons needed: ')\n",
    "print(str(calc_paint_amount(30,20)))"
   ]
  },
  {
   "cell_type": "markdown",
   "metadata": {},
   "source": [
    "# Modifying the enclosing scope with nonlocal keyword"
   ]
  },
  {
   "cell_type": "markdown",
   "metadata": {},
   "source": [
    "Modifying Scope Behavior: nonlocal Statement\n",
    "We just witnessed that we can access names from the enclosing scope with nested functions, but we cannot modify them. Python does however provide a way for us to modify names in the enclosing scope, by using the nonlocal statement.\n",
    "\n",
    "Given the following enclosing and nested function, there is a variable defined in the enclosing scope, which is not modifiable from within the nested function.\n",
    "\n",
    "def enclosing_function():\n",
    "  var = \"value\"\n",
    " \n",
    "  def nested_function():\n",
    "    var = \"new_value\"\n",
    " \n",
    "  nested_function()\n",
    " \n",
    "  print(var)\n",
    " \n",
    "enclosing_function()\n",
    "The output would be:\n",
    "\n",
    "value\n",
    "as the value of var was not modified by the nested function. After using the nonlocal statement, the variable is now modifiable from the local scope.\n",
    "\n",
    "def enclosing_function():\n",
    "  var = \"value\"\n",
    " \n",
    "  def nested_function():\n",
    "    nonlocal var\n",
    "    var = \"new_value\"\n",
    " \n",
    "  nested_function()\n",
    "  print(var)\n",
    " \n",
    "enclosing_function()\n",
    "The output would now be:\n",
    "\n",
    "new_value\n",
    "Let’s practice modifying variables in a nested context in our painting application for Jiho!\n",
    "\n",
    "Instructions\n",
    "1.\n",
    "The users of our applications have requested that we add a way of calculating the amount of paint needed for multiple rooms. To accomplish this the function calc_paint_amount() now accepts a single parameter wall_measurements which should be a list of tuples containing the width and height of each wall.\n",
    "\n",
    "The nested function calc_square_feet() has been added to iterate through the list and add up the square footage. This function is then called within calc_paint_amount().\n",
    "\n",
    "Run the code and notice the UnboundLocalError regarding the variable square_feet. Move to the next task to fix this.\n",
    "\n",
    "2.\n",
    "Since we need to modify square_feet in an enclosing scope, make sure to mark the variable as nonlocal in the appropriate place."
   ]
  },
  {
   "cell_type": "code",
   "execution_count": 10,
   "metadata": {},
   "outputs": [
    {
     "name": "stdout",
     "output_type": "stream",
     "text": [
      "Number of paint gallons needed: \n",
      "0\n",
      "180\n",
      "405\n",
      "585\n",
      "2.025\n"
     ]
    }
   ],
   "source": [
    "walls = [(20, 9), (25, 9), (20, 9), (25, 9)]\n",
    "\n",
    "\n",
    "def calc_paint_amount(wall_measurements):\n",
    "  square_feet = 0\n",
    "  def calc_square_feet():\n",
    "    \n",
    "    for width, height in wall_measurements:\n",
    "      nonlocal square_feet\n",
    "      print(square_feet)\n",
    "      square_feet += width * height\n",
    "\n",
    "  def calc_gallons():\n",
    "    return square_feet / 400\n",
    "\n",
    "  calc_square_feet()\n",
    "\n",
    "  return calc_gallons()\n",
    "\n",
    "\n",
    "print('Number of paint gallons needed: ')\n",
    "print(str(calc_paint_amount(walls)))"
   ]
  },
  {
   "cell_type": "code",
   "execution_count": null,
   "metadata": {},
   "outputs": [],
   "source": []
  },
  {
   "cell_type": "code",
   "execution_count": null,
   "metadata": {},
   "outputs": [],
   "source": []
  },
  {
   "cell_type": "code",
   "execution_count": null,
   "metadata": {},
   "outputs": [],
   "source": []
  },
  {
   "cell_type": "code",
   "execution_count": null,
   "metadata": {},
   "outputs": [],
   "source": []
  },
  {
   "cell_type": "code",
   "execution_count": null,
   "metadata": {},
   "outputs": [],
   "source": []
  },
  {
   "cell_type": "code",
   "execution_count": 39,
   "metadata": {},
   "outputs": [],
   "source": [
    "enclosing += 'right'"
   ]
  },
  {
   "cell_type": "code",
   "execution_count": 40,
   "metadata": {},
   "outputs": [
    {
     "data": {
      "text/plain": [
       "'changedagainrightrightright'"
      ]
     },
     "execution_count": 40,
     "metadata": {},
     "output_type": "execute_result"
    }
   ],
   "source": [
    "enclosing"
   ]
  },
  {
   "cell_type": "code",
   "execution_count": 43,
   "metadata": {},
   "outputs": [
    {
     "ename": "NameError",
     "evalue": "name 'total1' is not defined",
     "output_type": "error",
     "traceback": [
      "\u001b[1;31m---------------------------------------------------------------------------\u001b[0m",
      "\u001b[1;31mNameError\u001b[0m                                 Traceback (most recent call last)",
      "\u001b[1;32m<ipython-input-43-d0c4b705daa4>\u001b[0m in \u001b[0;36m<module>\u001b[1;34m\u001b[0m\n\u001b[0;32m     11\u001b[0m     \u001b[1;32mreturn\u001b[0m \u001b[0mtotal1\u001b[0m\u001b[1;33m\u001b[0m\u001b[1;33m\u001b[0m\u001b[0m\n\u001b[0;32m     12\u001b[0m \u001b[1;33m\u001b[0m\u001b[0m\n\u001b[1;32m---> 13\u001b[1;33m \u001b[0msum_list_items\u001b[0m\u001b[1;33m(\u001b[0m\u001b[1;33m[\u001b[0m\u001b[1;36m1\u001b[0m\u001b[1;33m,\u001b[0m \u001b[1;36m2\u001b[0m\u001b[1;33m,\u001b[0m \u001b[1;36m3\u001b[0m\u001b[1;33m]\u001b[0m\u001b[1;33m)\u001b[0m\u001b[1;33m\u001b[0m\u001b[1;33m\u001b[0m\u001b[0m\n\u001b[0m",
      "\u001b[1;32m<ipython-input-43-d0c4b705daa4>\u001b[0m in \u001b[0;36msum_list_items\u001b[1;34m(_list)\u001b[0m\n\u001b[0;32m      9\u001b[0m     \u001b[0mdo_the_sum\u001b[0m\u001b[1;33m(\u001b[0m\u001b[0m_list\u001b[0m\u001b[1;33m)\u001b[0m\u001b[1;33m\u001b[0m\u001b[1;33m\u001b[0m\u001b[0m\n\u001b[0;32m     10\u001b[0m \u001b[1;33m\u001b[0m\u001b[0m\n\u001b[1;32m---> 11\u001b[1;33m     \u001b[1;32mreturn\u001b[0m \u001b[0mtotal1\u001b[0m\u001b[1;33m\u001b[0m\u001b[1;33m\u001b[0m\u001b[0m\n\u001b[0m\u001b[0;32m     12\u001b[0m \u001b[1;33m\u001b[0m\u001b[0m\n\u001b[0;32m     13\u001b[0m \u001b[0msum_list_items\u001b[0m\u001b[1;33m(\u001b[0m\u001b[1;33m[\u001b[0m\u001b[1;36m1\u001b[0m\u001b[1;33m,\u001b[0m \u001b[1;36m2\u001b[0m\u001b[1;33m,\u001b[0m \u001b[1;36m3\u001b[0m\u001b[1;33m]\u001b[0m\u001b[1;33m)\u001b[0m\u001b[1;33m\u001b[0m\u001b[1;33m\u001b[0m\u001b[0m\n",
      "\u001b[1;31mNameError\u001b[0m: name 'total1' is not defined"
     ]
    }
   ],
   "source": [
    "def sum_list_items(_list):\n",
    "    total = 0\n",
    "\n",
    "    def do_the_sum(_list):\n",
    "        total1 = 0\n",
    "        for i in _list:\n",
    "            total1 += i\n",
    "\n",
    "    do_the_sum(_list)\n",
    "\n",
    "    return total1\n",
    "\n",
    "sum_list_items([1, 2, 3])\n"
   ]
  },
  {
   "cell_type": "code",
   "execution_count": 46,
   "metadata": {},
   "outputs": [
    {
     "data": {
      "text/plain": [
       "6"
      ]
     },
     "execution_count": 46,
     "metadata": {},
     "output_type": "execute_result"
    }
   ],
   "source": [
    "def sum_list_items(_list):\n",
    "\n",
    "    # The nonlocal total binds to this variable.\n",
    "    total = 0\n",
    "\n",
    "    def do_the_sum(_list):\n",
    "\n",
    "        def do_core_computations(_list):\n",
    "\n",
    "            # Define the total variable as non-local, causing it to bind\n",
    "            # to the nearest non-global variable also called total.\n",
    "            nonlocal total\n",
    "\n",
    "            for i in _list:\n",
    "                total += i\n",
    "\n",
    "        do_core_computations(_list)\n",
    "\n",
    "    do_the_sum(_list)\n",
    "\n",
    "    return total\n",
    "\n",
    "sum_list_items([1, 2, 3])"
   ]
  },
  {
   "cell_type": "markdown",
   "metadata": {},
   "source": [
    "# global SCope\n",
    "Global Scope\n",
    "At the highest level of access, we have the global scope. Names defined in the global namespace will automatically be globally scoped and can be accessed anywhere in our program.\n",
    "\n",
    "For example:\n",
    "\n",
    "# global scope variable\n",
    "gravity = 9.8\n",
    " \n",
    "def get_force(mass):\n",
    "  return mass * gravity\n",
    " \n",
    "print(get_force(60))\n",
    "Would output:\n",
    "\n",
    "588.0\n",
    "However, similar to local scope, values can only be accessed but not modified. For example, if we tried to manipulate the value of gravity:\n",
    "\n",
    "# global scope variable\n",
    "gravity = 9.8\n",
    " \n",
    "def get_force(mass):\n",
    "  gravity += 100\n",
    "  return mass * gravity\n",
    " \n",
    "print(get_force(60))\n",
    "Would output:\n",
    "\n",
    "UnboundLocalError: local variable 'gravity' referenced before assignment\n",
    "We probably shouldn’t be manipulating gravity anyway! Let’s practice accessing values in the global scope to get a hang of it.\n",
    "\n",
    "Instructions\n",
    "1.\n",
    "Take a look at the two functions defined. One function named print_available() prints the number of gallons we have available for a specific color. The other function named print_all_colors_available() simply prints all available colors!\n",
    "\n",
    "Ponder what might happen when we run the script and then run it to find out!\n",
    "\n",
    "Checkpoint 2 Passed\n",
    "\n",
    "Stuck? Get a hint\n",
    "2.\n",
    "Whoops! Looks like we have an error with accessing paint_gallons_available in our print_all_colors_available() function. This is because the dictionary is locally scoped.\n",
    "\n",
    "Fix the issue by moving paint_gallons_available into the global scope."
   ]
  },
  {
   "cell_type": "code",
   "execution_count": null,
   "metadata": {},
   "outputs": [],
   "source": [
    "\n",
    "\n",
    "\n",
    "def print_available(color):\n",
    "    paint_gallons_available = {\n",
    "        'red': 50,\n",
    "        'blue': 72,\n",
    "        'green': 99,\n",
    "        'yellow': 33\n",
    "    }\n",
    "    print('There are ' +\n",
    "            str(paint_gallons_available[color]) + ' gallons available of ' + color + ' paint.')\n",
    "\n",
    "\n",
    "def print_all_colors_available():\n",
    "  for color in paint_gallons_available:\n",
    "    print(color)\n",
    "\n",
    "\n",
    "print_available('red')\n",
    "print_all_colors_available()\n"
   ]
  },
  {
   "cell_type": "code",
   "execution_count": 1,
   "metadata": {},
   "outputs": [
    {
     "name": "stdout",
     "output_type": "stream",
     "text": [
      "There are 50 gallons available of red paint.\n",
      "red\n",
      "blue\n",
      "green\n",
      "yellow\n"
     ]
    }
   ],
   "source": [
    "paint_gallons_available = {\n",
    "    'red': 50,\n",
    "    'blue': 72,\n",
    "    'green': 99,\n",
    "    'yellow': 33\n",
    "}\n",
    "\n",
    "\n",
    "def print_available(color):\n",
    "  print('There are ' +\n",
    "        str(paint_gallons_available[color]) + ' gallons available of ' + color + ' paint.')\n",
    "\n",
    "\n",
    "def print_all_colors_available():\n",
    "  for color in paint_gallons_available:\n",
    "    print(color)\n",
    "\n",
    "\n",
    "print_available('red')\n",
    "print_all_colors_available()\n"
   ]
  },
  {
   "cell_type": "markdown",
   "metadata": {},
   "source": [
    "# Modifying Scope Behavior: global Statement\n",
    "Modifying Scope Behavior: global Statement\n",
    "Sometimes, we want to modify a global name from within a local scope. How do we go about doing this?\n",
    "\n",
    "global_var = 10\n",
    " \n",
    "def some_function():\n",
    "  global_var = 20\n",
    " \n",
    "some_function()\n",
    " \n",
    "print(global_var)\n",
    "The output would be:\n",
    "\n",
    "10\n",
    "In the above example, the value of global_var remains 10 because global_var = 20 is in a local scope.\n",
    "\n",
    "Similar to the nonlocal statement, Python provides the global statement to allow the modification of global names from a local scope.\n",
    "\n",
    "global_var = 10\n",
    " \n",
    "def some_function():\n",
    "  global global_var\n",
    "  global_var = 20\n",
    " \n",
    "some_function()\n",
    " \n",
    "print(global_var)\n",
    "The output would now be:\n",
    "\n",
    "20\n",
    "In addition, the global statement can be used even if the name has not been defined in the global namespace. Using the global statement would create the new variable in the global namespace.\n",
    "\n",
    "def some_function():\n",
    "  global x\n",
    "  x = 30\n",
    " \n",
    "some_function()\n",
    "print(x)\n",
    "This would output:\n",
    "\n",
    "30\n",
    "In summary, the global keyword is used within a local scope to associate a variable name with a name in the global namespace. This association is only valid within the local scope global is used.\n",
    "\n",
    "Instructions\n",
    "1.\n",
    "This exercise starts the same as the last with paint_gallons_available declared inside the local scope of the function, print_available(). The difference now is that paint_gallons_available is now being accessed by a for loop in the global scope. This will result in an error.\n",
    "\n",
    "Run the code to confirm the NameError on paint_gallons_available.\n",
    "\n",
    "2.\n",
    "Associate the paint_gallons_available declaration to the global namespace by adding a line to the top of the print_available() function.\n",
    "\n",
    "This will allow paint_gallons_available to be used within the global scope and no NameError will occur."
   ]
  },
  {
   "cell_type": "code",
   "execution_count": 3,
   "metadata": {},
   "outputs": [
    {
     "name": "stdout",
     "output_type": "stream",
     "text": [
      "10\n",
      "20\n",
      "10\n"
     ]
    }
   ],
   "source": [
    "global_var = 10\n",
    "\n",
    "def some_function():\n",
    "  global_var = 20\n",
    "  print(global_var)\n",
    "\n",
    "print(global_var)\n",
    "some_function()\n",
    "print(global_var)"
   ]
  },
  {
   "cell_type": "code",
   "execution_count": 28,
   "metadata": {},
   "outputs": [
    {
     "name": "stdout",
     "output_type": "stream",
     "text": [
      "10\n",
      "21\n"
     ]
    }
   ],
   "source": [
    "global_var = 10\n",
    "\n",
    "def some_function():\n",
    "#     print(global_var)\n",
    "    global_var = 1\n",
    "    global_var = global_var + 20\n",
    "    \n",
    "    print(global_var)\n",
    "\n",
    "print(global_var)\n",
    "some_function()\n"
   ]
  },
  {
   "cell_type": "code",
   "execution_count": 16,
   "metadata": {},
   "outputs": [
    {
     "name": "stdout",
     "output_type": "stream",
     "text": [
      "9.8\n",
      "588.0\n"
     ]
    }
   ],
   "source": [
    "gravity = 9.8\n",
    " \n",
    "def get_force(mass):\n",
    "    print(gravity)\n",
    "    return mass * gravity\n",
    " \n",
    "print(get_force(60))"
   ]
  },
  {
   "cell_type": "markdown",
   "metadata": {},
   "source": [
    "# Scope Resolution: The LEGB Rule\n",
    "While most of our focus so far has been around where we can access namespaces, to truly get a full picture of scoping rules, we must also examine how Python handles scope resolution.\n",
    "\n",
    "Scope resolution is a term used to describe a search procedure for a name in the various namespaces. A set of rules dictates the order that the search needs to follow.\n",
    "\n",
    "In Python, the unofficial rule (often referred to in literature but does not exist in the official documentation) is known as the LEGB rule.\n",
    "\n",
    "LEGB stands for Local, Enclosing, Global, and Built-in. These four letters represent the order of namespaces Python will check to see if a name exists. Here is a visualization of the order:\n",
    "\n",
    "LEGB Rule\n",
    "\n",
    "To see this rule in action, let’s take a look at two specific scenarios where Python is searching for a name. The first scenario is a nested function that wants to print a variable called age:\n",
    "\n",
    "age = 27 \n",
    " \n",
    "def func(): \n",
    " \n",
    "  def inner_func():\n",
    "    print(age)\n",
    "  inner_func()\n",
    " \n",
    "func()\n",
    "Would output:\n",
    "\n",
    "27\n",
    "So what exactly happened here in terms of scope resolution? It went a bit like this:\n",
    "\n",
    "First, Python looked in the local (The L of LEGB) scope that existed inside of inner_func(). This is the lowest level of the LEGB rule and thus where Python starts the search for a name that is trying to be called (in this case via a print()). Python then realized the name of age isn’t in the local namespace and continues the search to the upper levels of scope.\n",
    "\n",
    "The second level Python examined is the enclosing scope (The E of LEGB) of func(). Unfortunately, again the name of age doesn’t exist in the enclosing namespace, and Python moves upwards to higher scopes.\n",
    "\n",
    "Next, Python arrives at the global scope and finds the name of age in the global namespace. The search is finished, and the result is returned.\n",
    "\n",
    "This process of scope resolution is crucial to understanding how programs are able to access names in different scopes. Keep in mind the order that Python searches always start at the lowest level (the local level) and always flows upward to the higher scopes.\n",
    "\n",
    "The second scenario to examine is seeing what happens when we have two of the same name in different namespaces.\n",
    "\n",
    "Let’s examine the same script but with a slight modification that creates a second name called age in a different namespace. Here is what it looks like:\n",
    "\n",
    "age = 27 \n",
    " \n",
    "def func(): \n",
    "  age = 42\n",
    " \n",
    "  def inner_func():\n",
    "    print(age)\n",
    " \n",
    "  inner_func() \n",
    " \n",
    "func()\n",
    "Here the output will be 42 because Python could find a name (age) in the enclosing scope and did not continue to search for the value up into the global scope. If Python cannot find a name in any of the four scopes it searches, it will return a NameError exception.\n",
    "\n",
    "Instructions\n",
    "1.\n",
    "Using the LEGB rule, we are going to try and correct this function to behave how we expect it to. It should replace the color with a new provided color and print out the old and new colors. Try running the code to see what the first issue is.\n",
    "\n",
    "2.\n",
    "The LEGB rule starts with “Local”. Let’s take a look at any local variable issues that we could be running into. Looking at each of the local variables, we can see that to_update is local to the function disp_color(), but we attempt to access it from change_color().\n",
    "\n",
    "Move the initialization of to_update so that the scope is local to change_color(). Try running the code now and see what happens.\n",
    "\n",
    "\n",
    "Stuck? Get a hint\n",
    "3.\n",
    "Now we are not getting any errors, but the output is not correct. There doesn’t seem to be any encompassing scope issues, but there is an issue with the global variable color.\n",
    "\n",
    "We are using the global keyword to allow color to be modified in order to print the new color. If we look at the order of operations, we modify the global variable before calling disp_color().\n",
    "\n",
    "To fix this, move the change to the variable color to after disp_color() is called but before the new color is output.\n",
    "\n",
    "Run the code and see that happens!"
   ]
  },
  {
   "cell_type": "code",
   "execution_count": 2,
   "metadata": {},
   "outputs": [
    {
     "name": "stdout",
     "output_type": "stream",
     "text": [
      "27\n"
     ]
    }
   ],
   "source": [
    "age = 27 \n",
    " \n",
    "def func(): \n",
    "  age = 42\n",
    "\n",
    "  def inner_func():\n",
    "    print(age)\n",
    " \n",
    "  inner_func() \n",
    "\n",
    "func()"
   ]
  },
  {
   "cell_type": "code",
   "execution_count": null,
   "metadata": {},
   "outputs": [],
   "source": []
  }
 ],
 "metadata": {
  "kernelspec": {
   "display_name": "Python 3",
   "language": "python",
   "name": "python3"
  },
  "language_info": {
   "codemirror_mode": {
    "name": "ipython",
    "version": 3
   },
   "file_extension": ".py",
   "mimetype": "text/x-python",
   "name": "python",
   "nbconvert_exporter": "python",
   "pygments_lexer": "ipython3",
   "version": "3.9.5"
  },
  "vscode": {
   "interpreter": {
    "hash": "6fff98fc3b3d81bd655c2cc48858186e4d9e2db7b515bf1c3221888f12a62f87"
   }
  }
 },
 "nbformat": 4,
 "nbformat_minor": 4
}
