{
 "cells": [
  {
   "cell_type": "markdown",
   "metadata": {},
   "source": [
    "# Decorators"
   ]
  },
  {
   "cell_type": "code",
   "execution_count": 32,
   "metadata": {},
   "outputs": [
    {
     "name": "stdout",
     "output_type": "stream",
     "text": [
      "Original Dict {'a': 2, 'b': 4, 'c': 12, 'd': 15}\n",
      "4\n",
      "Modified by decorator {'a': 6.3, 'b': 8.3, 'c': 16.3, 'd': 19.3}\n"
     ]
    }
   ],
   "source": [
    "def deco(func):\n",
    "    def wrapper(op, *args, **ansoo):\n",
    "        func(op,*args, **ansoo)\n",
    "        for k,v in ansoo.items():\n",
    "            ansoo[k] = v + 4.3        \n",
    "        print(\"Modified by decorator\", ansoo)        \n",
    "    return wrapper\n",
    "\n",
    "@deco        \n",
    "def myfun(op,*args, **kwargs):\n",
    "    print(\"Original Dict\",kwargs)\n",
    "    print(kwargs['a'] *2)\n",
    "        \n",
    "myfun('/',a=2,b=4, c= 12 , d= 15)"
   ]
  },
  {
   "cell_type": "code",
   "execution_count": 4,
   "metadata": {},
   "outputs": [
    {
     "name": "stdout",
     "output_type": "stream",
     "text": [
      "{'x': 10, 'y': 2, 'mult': 20, 'add': 12}\n"
     ]
    }
   ],
   "source": [
    "def simple_math_func():\n",
    "  x = 10\n",
    "  y = 2\n",
    "  mult = x * y\n",
    "  add = x + y\n",
    "  print(locals())\n",
    "simple_math_func()"
   ]
  },
  {
   "cell_type": "code",
   "execution_count": null,
   "metadata": {},
   "outputs": [],
   "source": []
  }
 ],
 "metadata": {
  "kernelspec": {
   "display_name": "Python 3",
   "language": "python",
   "name": "python3"
  },
  "language_info": {
   "codemirror_mode": {
    "name": "ipython",
    "version": 3
   },
   "file_extension": ".py",
   "mimetype": "text/x-python",
   "name": "python",
   "nbconvert_exporter": "python",
   "pygments_lexer": "ipython3",
   "version": "3.9.5"
  }
 },
 "nbformat": 4,
 "nbformat_minor": 4
}
