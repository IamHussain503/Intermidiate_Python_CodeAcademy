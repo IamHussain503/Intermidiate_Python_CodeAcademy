{
 "cells": [
  {
   "cell_type": "markdown",
   "metadata": {},
   "source": [
    "# Built-In Higher-Order Functions\n",
    "In this article, you’ll learn about three useful higher-order functions that are built-in to Python.\n",
    "\n",
    "What You’ll Be Learning\n",
    "We’ve already learned about what defines higher-order functions, how to use them, and why they are useful. Now, we will get acquainted with Python’s built-in high-order functions. We will take a look at three distinct higher-order functions:\n",
    "\n",
    "map()\n",
    "filter()\n",
    "reduce()\n",
    "Together, these three functions are some of the most used and powerful higher-order functions in Python and will help us elevate our Python programs!\n",
    "\n",
    "Map\n",
    "The map() higher-order function has the following base structure:\n",
    "\n",
    "returned_map_object = map(function, iterable)\n",
    "When called, map() applies the passed function to each and every element in the iterable and returns a map object. The returned map object holds the results from applying the mapping function to each element in the passed iterable. We will usually convert the map into a list to enable viewing and further use.\n",
    "\n",
    "Map Python Function\n",
    "\n",
    "Let’s see what this looks like in practice if we wanted to double every value in a list of numbers:\n",
    "\n",
    "def double(x):\n",
    " return x*2\n",
    " \n",
    "int_list = [3, 6, 9]\n",
    " \n",
    "doubled = map(double, int_list)\n",
    " \n",
    "print(doubled)\n",
    "Would output:\n",
    "\n",
    "<map at 0x7f1ca0f58090>\n",
    "In our example:\n",
    "\n",
    "We defined a function called double() that takes in a value and returns the value doubled. This function can be used anywhere in our program—not only with map().\n",
    "We also defined an iterable (int_list) that we wanted to apply the function to.\n",
    "We then passed the function reference double as the function argument and int_list as the iterable to map()\n",
    "The map() function proceeded to apply double() onto each element in int_list.\n",
    "When we printed the result, we could see that the output of the map() function was a specific type of object called a map object.\n",
    "If we want to see the actual results of mapping double() to the elements of int_list, we need to convert the map object to a list using the built-in list() function:\n",
    "\n",
    "print(list(doubled))\n",
    "This would output:\n",
    "\n",
    "[6, 12, 18]\n",
    "Higher-order functions like map() work especially well with lambda functions. Because lambda functions are anonymous, we don’t need to define a new named function for map() if that function won’t be used again elsewhere. In this case, if we don’t plan on reusing double() somewhere else in our program, we can rewrite the double() function from the previous example with a lambda function like so:\n",
    "\n",
    "doubled = map(lambda input: input*2, int_list)\n",
    " \n",
    "print(list(doubled))\n",
    "This would output:\n",
    "\n",
    "[6, 12, 18]\n",
    "Using a lambda function with map() produced the same output as when the custom double() function was passed to map(), but it only required one line of code instead of three. Now let’s practice using map() to apply a lambda function to each element in a list.\n",
    "\n",
    "Coding question\n",
    "Say we stored our course grades in a list, but some of the grades were on a four-point scale and others were on a 100-point scale. To get all the grades on the same scale, try using a lambda function with the map() function to multiply just the grades on the four-point scale by 25 to get all of the grades on the same 100-point-scale.\n",
    "\n",
    "Hint\n",
    "123456789101112\n",
    "grade_list = [3.5, 3.7, 2.6, 95, 87]\n",
    "\n",
    "# Your code below:\n",
    "\n",
    "# assign the result of your map function to the variable grades_100scale\n",
    "\n",
    "# convert grades_100scale to a list and save it as updated_grade_list \n",
    "\n",
    "\n",
    "Output:\n",
    " \n",
    "Run\n",
    "\n",
    "\n",
    "Run your code to check your answer\n",
    "Filter\n",
    "Similar to map(), the filter() function takes a function and an iterable as arguments. Just as the name suggests, the goal of the filter() function is to “filter” values out of an iterable.\n",
    "\n",
    "The filter() function accomplishes this goal by applying a passed filtering function to each element in the passed iterable. The filtering function should be a function that returns a boolean value: True or False. The returned filter object will hold only those elements of the passed iterable for which the filtering function returned True.\n",
    "\n",
    "Filter Python Function\n",
    "\n",
    "Let’s see what this looks like in practice with a function that filters a collection of names and returns only the names that start with the letter M or m:\n",
    "\n",
    "names = [\"margarita\", \"Linda\", \"Masako\", \"Maki\", \"Angela\"]\n",
    " \n",
    "M_names = filter(lambda name: name[0] == \"M\" or name[0] == \"m\", names) \n",
    " \n",
    "print(list(M_names))\n",
    "This would output:\n",
    "\n",
    "['margarita', 'Masako', 'Maki']\n",
    "In this example:\n",
    "\n",
    "filter() takes two parameters: the lambda filtering function and the list, names.\n",
    "The filter() function then iterates through names and applies the lambda function to each item in the list.\n",
    "For each item in the list, if the condition in the lambda function evaluates to True, the item is added to a filter object.\n",
    "The filter object is returned and when converted to a list and printed, we saw that it contained [‘margarita’, ‘Masako’, ‘Maki’]—only M-names!\n",
    "Let’s get some more practice using filter() with a lambda function.\n",
    "\n",
    "Coding question\n",
    "We were given a list of lists, where each sublist holds the title of a famous book that has a year as its title and the last name of the author that wrote the book. Unfortunately, when this list was made, each of the books was accidentally entered twice—once with the title as a numeric value and once with the title as a string. Use the filter() function to deduplicate the list and keep only the sublists that have the book title stored as a string:\n",
    "\n",
    "Hint\n",
    "123456789101112131415\n",
    "books = [[\"Burgess\", 1985],\n",
    " [\"Orwell\", \"Nineteen Eighty-four\"],\n",
    "  [\"Murakami\", \"1Q85\"],\n",
    "   [\"Orwell\", 1984],\n",
    "    [\"Burgess\", \"Nineteen Eighty-five\"],\n",
    "     [\"Murakami\", 1985]]\n",
    "\n",
    "# Your code below: \n",
    "\n",
    "# assign the result of your filter \n",
    "Output:\n",
    " \n",
    "Run\n",
    "\n",
    "\n",
    "Run your code to check your answer\n",
    "Reduce\n",
    "Lastly, we have the reduce() function, which has two distinct differences from the built-in higher-order functions that we have learned so far.\n",
    "\n",
    "In contrast to the map() and filter() functions that are always available, the reduce() function must be imported from the functools module to use it.\n",
    "Rather than returning a reduce object as might be expected after learning about map() and filter(), reduce() returns a single value. To get to this single value, reduce() cumulatively applies a passed function to each sequential pair of elements in an iterable.\n",
    "Reduce Python Function\n",
    "\n",
    "Let’s see what this looks like in practice by using reduce() to multiply together all the values in a list:\n",
    "\n",
    "from functools import reduce\n",
    " \n",
    "int_list = [3, 6, 9, 12]\n",
    " \n",
    "reduced_int_list = reduce(lambda x,y: x*y, int_list)\n",
    " \n",
    "print(reduced_int_list)\n",
    "This would output:\n",
    "\n",
    "1944\n",
    "In this example:\n",
    "\n",
    "The reduce() function takes 2 arguments: a lambda function and a list of integers.\n",
    "The lambda function takes 2 numbers, x and y and multiplies them together.\n",
    "The reduce() function applies the lambda function to the first two elements in the list, 3 and 6, to get a product of 18.\n",
    "Next, 18 was multiplied by the following element in the list, 9, to get 162.\n",
    "Continuing on, 162 was multiplied by the next element, 12, to get 1944.\n",
    "This last, final value—1944—is what was returned by reduce().\n",
    "This process was essentially the same as multiplying 3*6*9*12.\n",
    "\n",
    "Let’s get some more practice using the reduce() function with a lambda function but with a list of strings this time.\n",
    "\n",
    "Coding question\n",
    "Given a list of letters, use the reduce() higher-order function with a lambda function to combine the letters into a single word:\n",
    "\n",
    "1234567891011\n",
    "letters = ['r', 'e', 'd', 'u', 'c', 'e']\n",
    "\n",
    "# your code below:\n",
    "\n",
    "# remember to import the reduce function\n",
    "\n",
    "# store the result of your reduce function in the variable word\n",
    "\n",
    "\n",
    "\n",
    "Output:\n",
    " \n",
    "Run\n",
    "\n",
    "\n",
    "Run your code to check your answer\n",
    "Wrap Up\n",
    "Great Job! We learned all about three really important built-in higher-order functions in Python! To summarize, we learned:\n",
    "\n",
    "The map() function applies a passed function to each element in an iterable and returns a map object.\n",
    "The filter() function applies a filtering function (a function that returns a boolean) to each element in an iterable. filter() returns a filter object with only the elements for which the filtering function returned True.\n",
    "reduce() must be imported from the functools module. It reduces an iterable to a single value by cumulatively applying a passed function to the first pair of elements in the iterable and then each sequential element with the return value.\n",
    "These three functions streamline code on their own, but they are even easier to read when they are used in conjunction with lambda functions.\n",
    "As we keep practicing and writing more code, these higher-order functions will make our code faster, more flexible, and easier to understand."
   ]
  },
  {
   "cell_type": "code",
   "execution_count": 5,
   "metadata": {},
   "outputs": [
    {
     "name": "stdout",
     "output_type": "stream",
     "text": [
      "[6, 12, 18]\n"
     ]
    }
   ],
   "source": [
    "def double(x):\n",
    " return x*2\n",
    " \n",
    "int_list = [3, 6, 9]\n",
    " \n",
    "doubled = map(double, int_list)\n",
    " \n",
    "print(list(doubled))"
   ]
  },
  {
   "cell_type": "code",
   "execution_count": 6,
   "metadata": {},
   "outputs": [
    {
     "name": "stdout",
     "output_type": "stream",
     "text": [
      "[87.5, 92.5, 65.0, 95, 87]\n"
     ]
    }
   ],
   "source": [
    "grade_list = [3.5, 3.7, 2.6, 95, 87]\n",
    "\n",
    "# Your code below:\n",
    "lamb = lambda x: x*25 if x < 4 else x\n",
    "# assign the result of your map function to the variable grades_100scale\n",
    "grades_100scale = map(lamb , grade_list)\n",
    "# convert grades_100scale to a list and save it as updated_grade_list \n",
    "updated_grade_list = list(grades_100scale)\n",
    "\n",
    "# print updated_grade_list\n",
    "print(updated_grade_list)"
   ]
  },
  {
   "cell_type": "markdown",
   "metadata": {},
   "source": [
    "direct application of above lambda fucntion without using the map function"
   ]
  },
  {
   "cell_type": "code",
   "execution_count": 9,
   "metadata": {},
   "outputs": [
    {
     "data": {
      "text/plain": [
       "[87.5, 92.5, 65.0, 95, 87]"
      ]
     },
     "execution_count": 9,
     "metadata": {},
     "output_type": "execute_result"
    }
   ],
   "source": [
    "lamb = lambda x: [i*25 if i <=4 else i for i in x ]\n",
    "lamb(grade_list)"
   ]
  },
  {
   "cell_type": "markdown",
   "metadata": {},
   "source": [
    "# assignment 1\n",
    "\n",
    "there is list of names, you will join the persons roll number with his name\n"
   ]
  },
  {
   "cell_type": "code",
   "execution_count": 12,
   "metadata": {},
   "outputs": [],
   "source": [
    "names = ['shaukat', 'Isharab', 'Mahjabeen', 'Hira', 'Farhan' , 'Afra', 'zain' ]\n",
    "roll = [23, 34, 32,23,25, 16 , 17]\n",
    "# use MAP and lambda functions to attach name with roll number for example ['shaukat23', 'Isharab34....']"
   ]
  },
  {
   "cell_type": "markdown",
   "metadata": {},
   "source": [
    "# Filter"
   ]
  },
  {
   "cell_type": "code",
   "execution_count": 10,
   "metadata": {},
   "outputs": [
    {
     "name": "stdout",
     "output_type": "stream",
     "text": [
      "['margarita', 'Masako', 'Maki']\n"
     ]
    }
   ],
   "source": [
    "names = [\"margarita\", \"Linda\", \"Masako\", \"Maki\", \"Angela\"]\n",
    " \n",
    "M_names = filter(lambda name: name[0] == \"M\" or name[0] == \"m\", names) \n",
    " \n",
    "print(list(M_names))"
   ]
  },
  {
   "cell_type": "markdown",
   "metadata": {},
   "source": [
    "# assignment 2\n",
    "\n",
    "write the above program using any of your method without using filter"
   ]
  },
  {
   "cell_type": "markdown",
   "metadata": {},
   "source": [
    "# Assignment 3"
   ]
  },
  {
   "cell_type": "code",
   "execution_count": 17,
   "metadata": {},
   "outputs": [
    {
     "ename": "SyntaxError",
     "evalue": "invalid syntax (<ipython-input-17-51658c76f7d1>, line 9)",
     "output_type": "error",
     "traceback": [
      "\u001b[1;36m  File \u001b[1;32m\"<ipython-input-17-51658c76f7d1>\"\u001b[1;36m, line \u001b[1;32m9\u001b[0m\n\u001b[1;33m    lamb = filter(lambda x:)     # hint\u001b[0m\n\u001b[1;37m                           ^\u001b[0m\n\u001b[1;31mSyntaxError\u001b[0m\u001b[1;31m:\u001b[0m invalid syntax\n"
     ]
    }
   ],
   "source": [
    "books = [[\"Burgess\", 1985],\n",
    " [\"Orwell\", \"Nineteen Eighty-four\"],\n",
    "  [\"Murakami\", \"1Q85\"],\n",
    "   [\"Orwell\", 1984],\n",
    "    [\"Burgess\", \"Nineteen Eighty-five\"],\n",
    "     [\"Murakami\", 1985]]\n",
    "\n",
    "# Your code below: \n",
    "lamb = filter(lambda x:)     # hint \n",
    "# assign the result of your filter function to the variable  string_titles\n",
    "\n",
    "# convert your filter object to a list stored in the variable string_titles_list"
   ]
  },
  {
   "cell_type": "markdown",
   "metadata": {},
   "source": [
    "# reduce"
   ]
  },
  {
   "cell_type": "code",
   "execution_count": 16,
   "metadata": {},
   "outputs": [
    {
     "name": "stdout",
     "output_type": "stream",
     "text": [
      "1944\n"
     ]
    }
   ],
   "source": [
    "from functools import reduce\n",
    " \n",
    "int_list = [3, 6, 9, 12]\n",
    " \n",
    "reduced_int_list = reduce(lambda x,y: x*y, int_list)\n",
    " \n",
    "print(reduced_int_list)"
   ]
  },
  {
   "cell_type": "markdown",
   "metadata": {},
   "source": [
    "# Assignment 1"
   ]
  },
  {
   "cell_type": "code",
   "execution_count": 18,
   "metadata": {},
   "outputs": [],
   "source": [
    "letters = ['r', 'e', 'd', 'u', 'c', 'e']\n",
    "\n",
    "# your code below:\n",
    "\n",
    "# remember to import the reduce function\n",
    "\n",
    "# store the result of your reduce function in the variable word\n",
    "\n",
    "\n",
    "# print word"
   ]
  },
  {
   "cell_type": "code",
   "execution_count": null,
   "metadata": {},
   "outputs": [],
   "source": []
  }
 ],
 "metadata": {
  "kernelspec": {
   "display_name": "Python 3",
   "language": "python",
   "name": "python3"
  },
  "language_info": {
   "codemirror_mode": {
    "name": "ipython",
    "version": 3
   },
   "file_extension": ".py",
   "mimetype": "text/x-python",
   "name": "python",
   "nbconvert_exporter": "python",
   "pygments_lexer": "ipython3",
   "version": "3.9.5"
  }
 },
 "nbformat": 4,
 "nbformat_minor": 4
}
