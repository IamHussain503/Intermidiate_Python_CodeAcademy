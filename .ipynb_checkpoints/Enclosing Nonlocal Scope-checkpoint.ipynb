{
 "cells": [
  {
   "cell_type": "markdown",
   "metadata": {},
   "source": [
    "# variable scope in functions and nested functions"
   ]
  },
  {
   "cell_type": "markdown",
   "metadata": {},
   "source": [
    "Enclosing/Nonlocal Scope\n",
    "Similar to how nested functions form a unique namespace within their enclosing functions (the enclosing namespace), there also exist special rules that apply for accessing nested values. These rules make up the enclosing scope (also known as nonlocal scope). Let’s take a look at a nested function to see the scope in action:\n",
    "\n",
    "def outer_function():\n",
    "  enclosing_value = 'Enclosing Value'\n",
    " \n",
    "  def nested_function():\n",
    "    nested_value = 'Nested Value'\n",
    "    print(enclosing_value)\n",
    " \n",
    "  nested_function()\n",
    " \n",
    "outer_function()\n",
    "Our output would be:\n",
    "\n",
    "Enclosing Value\n",
    "Enclosing scope allows any value defined in an enclosing function to be accessed in nested functions below it. We can observe this scope since nested_function() can access a variable defined one level above in the enclosing function (outer_function()).\n",
    "\n",
    "We can also observe this scoping rule further if we nested a function one level deeper:\n",
    "\n",
    "def outer_function():\n",
    "  enclosing_value = 'Enclosing Value'\n",
    " \n",
    "  def nested_function():\n",
    "    nested_value = 'Nested Value'\n",
    " \n",
    "    def second_nested():\n",
    "       print(enclosing_value)\n",
    "       print(nested_value)\n",
    " \n",
    "     second_nested() \n",
    " \n",
    "  nested_function()\n",
    " \n",
    "outer_function()\n",
    "Would output:\n",
    "\n",
    "Enclosing Value\n",
    "Nested Value\n",
    "There are two caveats to be aware of with enclosing scope:\n",
    "\n",
    "The flow of scope access only flows upwards. This means that the deepest level has access to every enclosing namespace above it, but not the other way around. For example, if we tried to access nested_value from one level above where it was defined:\n",
    "\n",
    "def outer_function():\n",
    "  enclosing_value = 'Enclosing Value'\n",
    "  print(nested_value)\n",
    " \n",
    "  def nested_function():\n",
    "    nested_value = 'Nested Value'\n",
    " \n",
    "  nested_function()\n",
    " \n",
    "outer_function()\n",
    "The program would produce an error:\n",
    "\n",
    "NameError: name 'nested_value' is not defined\n",
    "Immutable objects, such as strings or numbers, can be accessed in nested functions, but cannot be modified. Let’s try to change enclosing_value to see this restriction in action:\n",
    "\n",
    "def outer_function():\n",
    "  enclosing_value = 'Enclosing Value'\n",
    " \n",
    "  def nested_function():\n",
    "    enclosing_value += 'changed'\n",
    " \n",
    "  nested_function()\n",
    "  print(enclosing_value)\n",
    " \n",
    "outer_function()\n",
    "Would output:\n",
    "\n",
    "UnboundLocalError: local variable 'enclosing_value' referenced before assignment\n",
    "Let’s now practice accessing values in the enclosing scope!\n",
    "\n",
    "Instructions\n",
    "1.\n",
    "A new addition to our painting application that we are building for Jiho will be a function that calculates the amount of paint needed to cover a surface.\n",
    "\n",
    "Typically, a gallon of paint can cover about 400 square feet. Using that knowledge, we can use the width and height of a surface to determine how much paint is needed!\n",
    "\n",
    "Throughout these exercises we will use nested functions to add more utility to the calc_paint_amount() function. Remember, this now makes calc_paint_amount() an enclosing function.\n",
    "\n",
    "Run the code to move to the next exercise.\n",
    "\n",
    "Checkpoint 2 Passed\n",
    "2.\n",
    "First inside of calc_paint_amount():\n",
    "\n",
    "Define a nested function called calc_gallons() that has no parameters.\n",
    "Then inside of calc_gallons(), use enclosing scope to access the variable square_feet from the calc_gallons() function.\n",
    "\n",
    "Return the result of square_feet divided by 400.\n",
    "\n",
    "Stuck? Get a hint\n",
    "3.\n",
    "Finally, in the calc_paint_amount() function, call the calc_gallons() function and return the result. Run the code and take a look at the result!"
   ]
  },
  {
   "cell_type": "code",
   "execution_count": 11,
   "metadata": {},
   "outputs": [
    {
     "name": "stdout",
     "output_type": "stream",
     "text": [
      "grand child Value\n"
     ]
    }
   ],
   "source": [
    "def outer_function():\n",
    "    enclosing_value = 'Enclosing Value'\n",
    "\n",
    " \n",
    "    def nested_function():\n",
    "        nested_value = 'Nested Value'\n",
    "    \n",
    "        def grand_child_function():\n",
    "            grand_value = 'grand child Value'\n",
    "            return grand_value\n",
    "        print(grand_child_function())\n",
    "        \n",
    " \n",
    "    nested_function()\n",
    "outer_function()"
   ]
  },
  {
   "cell_type": "code",
   "execution_count": 50,
   "metadata": {},
   "outputs": [
    {
     "name": "stdout",
     "output_type": "stream",
     "text": [
      "Enclosing Valuechanged\n"
     ]
    }
   ],
   "source": [
    "def outer_function():\n",
    "    enclosing_value= 'Enclosing Value'\n",
    " \n",
    "    def nested_function():\n",
    "        nonlocal enclosing_value\n",
    "        enclosing_value += 'changed'\n",
    "\n",
    "    nested_function()\n",
    "    \n",
    "    return enclosing_value\n",
    " \n",
    "print(outer_function())\n",
    "\n"
   ]
  },
  {
   "cell_type": "code",
   "execution_count": 51,
   "metadata": {},
   "outputs": [
    {
     "name": "stdout",
     "output_type": "stream",
     "text": [
      "Number of paint gallons needed: \n",
      "1.5\n"
     ]
    }
   ],
   "source": [
    "def calc_paint_amount(width, height):\n",
    "\n",
    "  square_feet = width * height\n",
    "  # Write your code below!\n",
    "  def calc_gallons():\n",
    "    return square_feet / 400\n",
    "\n",
    "  return calc_gallons()\n",
    "    \n",
    "\n",
    "print('Number of paint gallons needed: ')\n",
    "print(str(calc_paint_amount(30,20)))"
   ]
  },
  {
   "cell_type": "markdown",
   "metadata": {},
   "source": [
    "# Modifying the enclosing scope with nonlocal keyword"
   ]
  },
  {
   "cell_type": "markdown",
   "metadata": {},
   "source": [
    "Modifying Scope Behavior: nonlocal Statement\n",
    "We just witnessed that we can access names from the enclosing scope with nested functions, but we cannot modify them. Python does however provide a way for us to modify names in the enclosing scope, by using the nonlocal statement.\n",
    "\n",
    "Given the following enclosing and nested function, there is a variable defined in the enclosing scope, which is not modifiable from within the nested function.\n",
    "\n",
    "def enclosing_function():\n",
    "  var = \"value\"\n",
    " \n",
    "  def nested_function():\n",
    "    var = \"new_value\"\n",
    " \n",
    "  nested_function()\n",
    " \n",
    "  print(var)\n",
    " \n",
    "enclosing_function()\n",
    "The output would be:\n",
    "\n",
    "value\n",
    "as the value of var was not modified by the nested function. After using the nonlocal statement, the variable is now modifiable from the local scope.\n",
    "\n",
    "def enclosing_function():\n",
    "  var = \"value\"\n",
    " \n",
    "  def nested_function():\n",
    "    nonlocal var\n",
    "    var = \"new_value\"\n",
    " \n",
    "  nested_function()\n",
    "  print(var)\n",
    " \n",
    "enclosing_function()\n",
    "The output would now be:\n",
    "\n",
    "new_value\n",
    "Let’s practice modifying variables in a nested context in our painting application for Jiho!\n",
    "\n",
    "Instructions\n",
    "1.\n",
    "The users of our applications have requested that we add a way of calculating the amount of paint needed for multiple rooms. To accomplish this the function calc_paint_amount() now accepts a single parameter wall_measurements which should be a list of tuples containing the width and height of each wall.\n",
    "\n",
    "The nested function calc_square_feet() has been added to iterate through the list and add up the square footage. This function is then called within calc_paint_amount().\n",
    "\n",
    "Run the code and notice the UnboundLocalError regarding the variable square_feet. Move to the next task to fix this.\n",
    "\n",
    "2.\n",
    "Since we need to modify square_feet in an enclosing scope, make sure to mark the variable as nonlocal in the appropriate place."
   ]
  },
  {
   "cell_type": "code",
   "execution_count": 53,
   "metadata": {},
   "outputs": [
    {
     "name": "stdout",
     "output_type": "stream",
     "text": [
      "Number of paint gallons needed: \n",
      "2.025\n"
     ]
    }
   ],
   "source": [
    "walls = [(20, 9), (25, 9), (20, 9), (25, 9)]\n",
    "\n",
    "\n",
    "def calc_paint_amount(wall_measurements):\n",
    "\n",
    "  square_feet = 0\n",
    "\n",
    "  def calc_square_feet():\n",
    "    \n",
    "    for width, height in wall_measurements:\n",
    "      nonlocal square_feet\n",
    "      square_feet += width * height\n",
    "\n",
    "  def calc_gallons():\n",
    "    return square_feet / 400\n",
    "\n",
    "  calc_square_feet()\n",
    "\n",
    "  return calc_gallons()\n",
    "\n",
    "\n",
    "print('Number of paint gallons needed: ')\n",
    "print(str(calc_paint_amount(walls)))"
   ]
  },
  {
   "cell_type": "code",
   "execution_count": null,
   "metadata": {},
   "outputs": [],
   "source": []
  },
  {
   "cell_type": "code",
   "execution_count": null,
   "metadata": {},
   "outputs": [],
   "source": []
  },
  {
   "cell_type": "code",
   "execution_count": null,
   "metadata": {},
   "outputs": [],
   "source": []
  },
  {
   "cell_type": "code",
   "execution_count": null,
   "metadata": {},
   "outputs": [],
   "source": []
  },
  {
   "cell_type": "code",
   "execution_count": null,
   "metadata": {},
   "outputs": [],
   "source": []
  },
  {
   "cell_type": "code",
   "execution_count": 39,
   "metadata": {},
   "outputs": [],
   "source": [
    "enclosing += 'right'"
   ]
  },
  {
   "cell_type": "code",
   "execution_count": 40,
   "metadata": {},
   "outputs": [
    {
     "data": {
      "text/plain": [
       "'changedagainrightrightright'"
      ]
     },
     "execution_count": 40,
     "metadata": {},
     "output_type": "execute_result"
    }
   ],
   "source": [
    "enclosing"
   ]
  },
  {
   "cell_type": "code",
   "execution_count": 43,
   "metadata": {},
   "outputs": [
    {
     "ename": "NameError",
     "evalue": "name 'total1' is not defined",
     "output_type": "error",
     "traceback": [
      "\u001b[1;31m---------------------------------------------------------------------------\u001b[0m",
      "\u001b[1;31mNameError\u001b[0m                                 Traceback (most recent call last)",
      "\u001b[1;32m<ipython-input-43-d0c4b705daa4>\u001b[0m in \u001b[0;36m<module>\u001b[1;34m\u001b[0m\n\u001b[0;32m     11\u001b[0m     \u001b[1;32mreturn\u001b[0m \u001b[0mtotal1\u001b[0m\u001b[1;33m\u001b[0m\u001b[1;33m\u001b[0m\u001b[0m\n\u001b[0;32m     12\u001b[0m \u001b[1;33m\u001b[0m\u001b[0m\n\u001b[1;32m---> 13\u001b[1;33m \u001b[0msum_list_items\u001b[0m\u001b[1;33m(\u001b[0m\u001b[1;33m[\u001b[0m\u001b[1;36m1\u001b[0m\u001b[1;33m,\u001b[0m \u001b[1;36m2\u001b[0m\u001b[1;33m,\u001b[0m \u001b[1;36m3\u001b[0m\u001b[1;33m]\u001b[0m\u001b[1;33m)\u001b[0m\u001b[1;33m\u001b[0m\u001b[1;33m\u001b[0m\u001b[0m\n\u001b[0m",
      "\u001b[1;32m<ipython-input-43-d0c4b705daa4>\u001b[0m in \u001b[0;36msum_list_items\u001b[1;34m(_list)\u001b[0m\n\u001b[0;32m      9\u001b[0m     \u001b[0mdo_the_sum\u001b[0m\u001b[1;33m(\u001b[0m\u001b[0m_list\u001b[0m\u001b[1;33m)\u001b[0m\u001b[1;33m\u001b[0m\u001b[1;33m\u001b[0m\u001b[0m\n\u001b[0;32m     10\u001b[0m \u001b[1;33m\u001b[0m\u001b[0m\n\u001b[1;32m---> 11\u001b[1;33m     \u001b[1;32mreturn\u001b[0m \u001b[0mtotal1\u001b[0m\u001b[1;33m\u001b[0m\u001b[1;33m\u001b[0m\u001b[0m\n\u001b[0m\u001b[0;32m     12\u001b[0m \u001b[1;33m\u001b[0m\u001b[0m\n\u001b[0;32m     13\u001b[0m \u001b[0msum_list_items\u001b[0m\u001b[1;33m(\u001b[0m\u001b[1;33m[\u001b[0m\u001b[1;36m1\u001b[0m\u001b[1;33m,\u001b[0m \u001b[1;36m2\u001b[0m\u001b[1;33m,\u001b[0m \u001b[1;36m3\u001b[0m\u001b[1;33m]\u001b[0m\u001b[1;33m)\u001b[0m\u001b[1;33m\u001b[0m\u001b[1;33m\u001b[0m\u001b[0m\n",
      "\u001b[1;31mNameError\u001b[0m: name 'total1' is not defined"
     ]
    }
   ],
   "source": [
    "def sum_list_items(_list):\n",
    "    total = 0\n",
    "\n",
    "    def do_the_sum(_list):\n",
    "        total1 = 0\n",
    "        for i in _list:\n",
    "            total1 += i\n",
    "\n",
    "    do_the_sum(_list)\n",
    "\n",
    "    return total1\n",
    "\n",
    "sum_list_items([1, 2, 3])\n"
   ]
  },
  {
   "cell_type": "code",
   "execution_count": 46,
   "metadata": {},
   "outputs": [
    {
     "data": {
      "text/plain": [
       "6"
      ]
     },
     "execution_count": 46,
     "metadata": {},
     "output_type": "execute_result"
    }
   ],
   "source": [
    "def sum_list_items(_list):\n",
    "\n",
    "    # The nonlocal total binds to this variable.\n",
    "    total = 0\n",
    "\n",
    "    def do_the_sum(_list):\n",
    "\n",
    "        def do_core_computations(_list):\n",
    "\n",
    "            # Define the total variable as non-local, causing it to bind\n",
    "            # to the nearest non-global variable also called total.\n",
    "            nonlocal total\n",
    "\n",
    "            for i in _list:\n",
    "                total += i\n",
    "\n",
    "        do_core_computations(_list)\n",
    "\n",
    "    do_the_sum(_list)\n",
    "\n",
    "    return total\n",
    "\n",
    "sum_list_items([1, 2, 3])"
   ]
  }
 ],
 "metadata": {
  "kernelspec": {
   "display_name": "Python 3",
   "language": "python",
   "name": "python3"
  },
  "language_info": {
   "codemirror_mode": {
    "name": "ipython",
    "version": 3
   },
   "file_extension": ".py",
   "mimetype": "text/x-python",
   "name": "python",
   "nbconvert_exporter": "python",
   "pygments_lexer": "ipython3",
   "version": "3.9.5"
  }
 },
 "nbformat": 4,
 "nbformat_minor": 4
}
