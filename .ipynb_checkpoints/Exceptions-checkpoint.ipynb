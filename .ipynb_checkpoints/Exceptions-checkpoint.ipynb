{
 "cells": [
  {
   "cell_type": "code",
   "execution_count": 3,
   "metadata": {},
   "outputs": [],
   "source": [
    "def open_register(employee_status):\n",
    "  if employee_status == 'Authorized':\n",
    "    print('Successfully opened cash register')\n",
    "  else:\n",
    "    # Alternatives: raise TypeError() or TypeError('Message')\n",
    "    raise TypeError(\"You are not authorized\")"
   ]
  },
  {
   "cell_type": "code",
   "execution_count": 4,
   "metadata": {},
   "outputs": [
    {
     "ename": "TypeError",
     "evalue": "You are not authorized",
     "output_type": "error",
     "traceback": [
      "\u001b[1;31m---------------------------------------------------------------------------\u001b[0m",
      "\u001b[1;31mTypeError\u001b[0m                                 Traceback (most recent call last)",
      "\u001b[1;32m<ipython-input-4-bf45ae29b4a7>\u001b[0m in \u001b[0;36m<module>\u001b[1;34m\u001b[0m\n\u001b[1;32m----> 1\u001b[1;33m \u001b[0mopen_register\u001b[0m\u001b[1;33m(\u001b[0m\u001b[1;34m\"not authorized\"\u001b[0m\u001b[1;33m)\u001b[0m\u001b[1;33m\u001b[0m\u001b[1;33m\u001b[0m\u001b[0m\n\u001b[0m",
      "\u001b[1;32m<ipython-input-3-e628da5ad7dc>\u001b[0m in \u001b[0;36mopen_register\u001b[1;34m(employee_status)\u001b[0m\n\u001b[0;32m      4\u001b[0m   \u001b[1;32melse\u001b[0m\u001b[1;33m:\u001b[0m\u001b[1;33m\u001b[0m\u001b[1;33m\u001b[0m\u001b[0m\n\u001b[0;32m      5\u001b[0m     \u001b[1;31m# Alternatives: raise TypeError() or TypeError('Message')\u001b[0m\u001b[1;33m\u001b[0m\u001b[1;33m\u001b[0m\u001b[1;33m\u001b[0m\u001b[0m\n\u001b[1;32m----> 6\u001b[1;33m     \u001b[1;32mraise\u001b[0m \u001b[0mTypeError\u001b[0m\u001b[1;33m(\u001b[0m\u001b[1;34m\"You are not authorized\"\u001b[0m\u001b[1;33m)\u001b[0m\u001b[1;33m\u001b[0m\u001b[1;33m\u001b[0m\u001b[0m\n\u001b[0m",
      "\u001b[1;31mTypeError\u001b[0m: You are not authorized"
     ]
    }
   ],
   "source": [
    "open_register(\"not authorized\")"
   ]
  },
  {
   "cell_type": "code",
   "execution_count": 5,
   "metadata": {},
   "outputs": [
    {
     "name": "stdout",
     "output_type": "stream",
     "text": [
      "The price of a Marimba is 1999\n",
      "The price of a Flute is 899\n"
     ]
    },
    {
     "ename": "KeyError",
     "evalue": "'Piano is not found in instrument catalog!'",
     "output_type": "error",
     "traceback": [
      "\u001b[1;31m---------------------------------------------------------------------------\u001b[0m",
      "\u001b[1;31mKeyError\u001b[0m                                  Traceback (most recent call last)",
      "\u001b[1;32m<ipython-input-5-9eee82fae065>\u001b[0m in \u001b[0;36m<module>\u001b[1;34m\u001b[0m\n\u001b[0;32m     15\u001b[0m \u001b[0mprint_instrument_price\u001b[0m\u001b[1;33m(\u001b[0m\u001b[1;34m'Marimba'\u001b[0m\u001b[1;33m)\u001b[0m\u001b[1;33m\u001b[0m\u001b[1;33m\u001b[0m\u001b[0m\n\u001b[0;32m     16\u001b[0m \u001b[0mprint_instrument_price\u001b[0m\u001b[1;33m(\u001b[0m\u001b[1;34m'Flute'\u001b[0m\u001b[1;33m)\u001b[0m\u001b[1;33m\u001b[0m\u001b[1;33m\u001b[0m\u001b[0m\n\u001b[1;32m---> 17\u001b[1;33m \u001b[0mprint_instrument_price\u001b[0m\u001b[1;33m(\u001b[0m\u001b[1;34m'Piano'\u001b[0m\u001b[1;33m)\u001b[0m\u001b[1;33m\u001b[0m\u001b[1;33m\u001b[0m\u001b[0m\n\u001b[0m",
      "\u001b[1;32m<ipython-input-5-9eee82fae065>\u001b[0m in \u001b[0;36mprint_instrument_price\u001b[1;34m(instrument)\u001b[0m\n\u001b[0;32m     11\u001b[0m     \u001b[0mprint\u001b[0m\u001b[1;33m(\u001b[0m\u001b[1;34m'The price of a '\u001b[0m \u001b[1;33m+\u001b[0m \u001b[0minstrument\u001b[0m \u001b[1;33m+\u001b[0m \u001b[1;34m' is '\u001b[0m \u001b[1;33m+\u001b[0m \u001b[0mstr\u001b[0m\u001b[1;33m(\u001b[0m\u001b[0minstrument_catalog\u001b[0m\u001b[1;33m[\u001b[0m\u001b[0minstrument\u001b[0m\u001b[1;33m]\u001b[0m\u001b[1;33m)\u001b[0m\u001b[1;33m)\u001b[0m\u001b[1;33m\u001b[0m\u001b[1;33m\u001b[0m\u001b[0m\n\u001b[0;32m     12\u001b[0m   \u001b[1;32melse\u001b[0m\u001b[1;33m:\u001b[0m\u001b[1;33m\u001b[0m\u001b[1;33m\u001b[0m\u001b[0m\n\u001b[1;32m---> 13\u001b[1;33m     \u001b[1;32mraise\u001b[0m \u001b[0mKeyError\u001b[0m\u001b[1;33m(\u001b[0m\u001b[0minstrument\u001b[0m \u001b[1;33m+\u001b[0m \u001b[1;34m' is not found in instrument catalog!'\u001b[0m\u001b[1;33m)\u001b[0m\u001b[1;33m\u001b[0m\u001b[1;33m\u001b[0m\u001b[0m\n\u001b[0m\u001b[0;32m     14\u001b[0m \u001b[1;33m\u001b[0m\u001b[0m\n\u001b[0;32m     15\u001b[0m \u001b[0mprint_instrument_price\u001b[0m\u001b[1;33m(\u001b[0m\u001b[1;34m'Marimba'\u001b[0m\u001b[1;33m)\u001b[0m\u001b[1;33m\u001b[0m\u001b[1;33m\u001b[0m\u001b[0m\n",
      "\u001b[1;31mKeyError\u001b[0m: 'Piano is not found in instrument catalog!'"
     ]
    }
   ],
   "source": [
    "instrument_catalog = {\n",
    "  'Marimba': 1999,\n",
    "  'Kora': 499,\n",
    "  'Flute': 899\n",
    "}\n",
    "\n",
    "def print_instrument_price(instrument):\n",
    "  # Write your code below:\n",
    "  if instrument in instrument_catalog:\n",
    "\n",
    "    print('The price of a ' + instrument + ' is ' + str(instrument_catalog[instrument]))\n",
    "  else:\n",
    "    raise KeyError(instrument + ' is not found in instrument catalog!')\n",
    "\n",
    "print_instrument_price('Marimba')\n",
    "print_instrument_price('Flute')\n",
    "print_instrument_price('Piano')\n"
   ]
  },
  {
   "cell_type": "code",
   "execution_count": 6,
   "metadata": {},
   "outputs": [
    {
     "name": "stdout",
     "output_type": "stream",
     "text": [
      "The hex value of red is #FF0000\n",
      "Loop continues...\n",
      "An exception occurred! Color does not exist.\n",
      "Loop continues...\n",
      "The hex value of yellow is #FFFF00\n",
      "Loop continues...\n"
     ]
    }
   ],
   "source": [
    "colors = {\n",
    "    'red': '#FF0000',\n",
    "    'blue': '#0000FF',\n",
    "    'yellow': '#FFFF00',\n",
    "}\n",
    " \n",
    "for color in ('red', 'green', 'yellow'):\n",
    "  try:\n",
    "    print('The hex value of ' + color + ' is ' + colors[color])\n",
    "  except:\n",
    "    print('An exception occurred! Color does not exist.')\n",
    "  print('Loop continues...')"
   ]
  },
  {
   "cell_type": "code",
   "execution_count": 17,
   "metadata": {},
   "outputs": [],
   "source": [
    "staff = {\n",
    "  'Austin': {\n",
    "      'floor managers': 1,\n",
    "      'sales associates': 5\n",
    "  },\n",
    "  'Melbourne': {\n",
    "      'floor managers': 0,\n",
    "      'sales associates': 8\n",
    "  },\n",
    "  'Beijing': {\n",
    "      'floor managers': 2,\n",
    "      'sales associates': 5\n",
    "  },\n",
    "}\n",
    "\n",
    "def print_staff_report(location, staff_dict):\n",
    "  managers = staff_dict['floor managers']\n",
    "  sales_people = staff_dict['sales associates']\n",
    "  try:\n",
    "      ratio = sales_people / managers\n",
    "      print('The ratio of sales people to managers is ' + str(ratio))\n",
    "  except ZeroDivisionError:\n",
    "      print(\"Divsion by zero is not allowed\")                         \n",
    "    \n",
    "  print('Instrument World ' + location + ' has:')\n",
    "  print(str(sales_people) + ' sales employees')\n",
    "  print(str(managers) + ' floor managers')\n",
    "      \n",
    "  print()\n",
    "\n"
   ]
  },
  {
   "cell_type": "code",
   "execution_count": 18,
   "metadata": {},
   "outputs": [
    {
     "name": "stdout",
     "output_type": "stream",
     "text": [
      "The ratio of sales people to managers is 5.0\n",
      "Instrument World Austin has:\n",
      "5 sales employees\n",
      "1 floor managers\n",
      "\n",
      "Divsion by zero is not allowed\n",
      "Instrument World Melbourne has:\n",
      "8 sales employees\n",
      "0 floor managers\n",
      "\n",
      "The ratio of sales people to managers is 2.5\n",
      "Instrument World Beijing has:\n",
      "5 sales employees\n",
      "2 floor managers\n",
      "\n"
     ]
    }
   ],
   "source": [
    "for location, staff in staff.items():\n",
    "  # Write your code below:\n",
    "  print_staff_report(location, staff)"
   ]
  },
  {
   "cell_type": "code",
   "execution_count": 16,
   "metadata": {},
   "outputs": [
    {
     "name": "stdout",
     "output_type": "stream",
     "text": [
      "Instrument World Austin has:\n",
      "5 sales employees\n",
      "1 floor managers\n",
      "The ratio of sales people to managers is 5.0\n",
      "\n",
      "Could not print sales report for Melbourne\n",
      "Instrument World Beijing has:\n",
      "5 sales employees\n",
      "2 floor managers\n",
      "The ratio of sales people to managers is 2.5\n",
      "\n"
     ]
    }
   ],
   "source": [
    "staff = {\n",
    "  'Austin': {\n",
    "      'floor managers': 1,\n",
    "      'sales associates': 5\n",
    "  },\n",
    "  'Melbourne': {\n",
    "      'floor managers': 0,\n",
    "      'sales associates': 8\n",
    "  },\n",
    "  'Beijing': {\n",
    "      'floor managers': 2,\n",
    "      'sales associates': 5\n",
    "  },\n",
    "}\n",
    "\n",
    "def print_staff_report(location, staff_dict):\n",
    "  managers = staff_dict['floor managers']\n",
    "  sales_people = staff_dict['sales associates']\n",
    "  ratio = sales_people / managers\n",
    "  print('Instrument World ' + location + ' has:')\n",
    "  print(str(sales_people) + ' sales employees')\n",
    "  print(str(managers) + ' floor managers')\n",
    "  print('The ratio of sales people to managers is ' + str(ratio))\n",
    "  print()\n",
    "\n",
    "for location, staff in staff.items():\n",
    "  try:\n",
    "    print_staff_report(location, staff)\n",
    "  except:\n",
    "    print('Could not print sales report for ' + location)\n"
   ]
  },
  {
   "cell_type": "code",
   "execution_count": null,
   "metadata": {},
   "outputs": [],
   "source": [
    "# 1.txt 2.txt 4.txt ...10.txt\n",
    "# make some dummy text files in a folder and try to read the files in loop , delibrately miss two files in folder,\n",
    "# then run program with out error., program will out put the line in text file\n",
    "for i in range(1,10):\n",
    "    try:\n",
    "        with file open {i}.txt:\n",
    "            print(content)\n",
    "    except:\n",
    "        print(\" File does not exit\" + str(i.txt))\n",
    "        pass"
   ]
  },
  {
   "cell_type": "markdown",
   "metadata": {},
   "source": [
    "# Mulltiple Excceptions"
   ]
  },
  {
   "cell_type": "code",
   "execution_count": 4,
   "metadata": {},
   "outputs": [
    {
     "ename": "TypeError",
     "evalue": "unsupported operand type(s) for /: 'str' and 'int'",
     "output_type": "error",
     "traceback": [
      "\u001b[1;31m---------------------------------------------------------------------------\u001b[0m",
      "\u001b[1;31mTypeError\u001b[0m                                 Traceback (most recent call last)",
      "\u001b[1;32m<ipython-input-4-d676340b2f2a>\u001b[0m in \u001b[0;36m<module>\u001b[1;34m\u001b[0m\n\u001b[0;32m     16\u001b[0m \u001b[1;31m# Write your code below:\u001b[0m\u001b[1;33m\u001b[0m\u001b[1;33m\u001b[0m\u001b[1;33m\u001b[0m\u001b[0m\n\u001b[0;32m     17\u001b[0m \u001b[1;33m\u001b[0m\u001b[0m\n\u001b[1;32m---> 18\u001b[1;33m \u001b[0mdisplay_discounted_price\u001b[0m\u001b[1;33m(\u001b[0m\u001b[0minstrument\u001b[0m\u001b[1;33m,\u001b[0m \u001b[0mdiscount\u001b[0m\u001b[1;33m)\u001b[0m\u001b[1;33m\u001b[0m\u001b[1;33m\u001b[0m\u001b[0m\n\u001b[0m",
      "\u001b[1;32m<ipython-input-4-d676340b2f2a>\u001b[0m in \u001b[0;36mdisplay_discounted_price\u001b[1;34m(instrument, discount)\u001b[0m\n\u001b[0;32m      7\u001b[0m \u001b[1;32mdef\u001b[0m \u001b[0mdisplay_discounted_price\u001b[0m\u001b[1;33m(\u001b[0m\u001b[0minstrument\u001b[0m\u001b[1;33m,\u001b[0m \u001b[0mdiscount\u001b[0m\u001b[1;33m)\u001b[0m\u001b[1;33m:\u001b[0m\u001b[1;33m\u001b[0m\u001b[1;33m\u001b[0m\u001b[0m\n\u001b[0;32m      8\u001b[0m \u001b[1;31m#   full_price = instrument_prices[instrument]\u001b[0m\u001b[1;33m\u001b[0m\u001b[1;33m\u001b[0m\u001b[1;33m\u001b[0m\u001b[0m\n\u001b[1;32m----> 9\u001b[1;33m   \u001b[0mdiscount_percentage\u001b[0m \u001b[1;33m=\u001b[0m \u001b[0mdiscount\u001b[0m \u001b[1;33m/\u001b[0m \u001b[1;36m100\u001b[0m\u001b[1;33m\u001b[0m\u001b[1;33m\u001b[0m\u001b[0m\n\u001b[0m\u001b[0;32m     10\u001b[0m   \u001b[0mdiscounted_price\u001b[0m \u001b[1;33m=\u001b[0m \u001b[0mfull_price\u001b[0m \u001b[1;33m-\u001b[0m \u001b[1;33m(\u001b[0m\u001b[0mfull_price\u001b[0m \u001b[1;33m*\u001b[0m \u001b[0mdiscount_percentage\u001b[0m\u001b[1;33m)\u001b[0m\u001b[1;33m\u001b[0m\u001b[1;33m\u001b[0m\u001b[0m\n\u001b[0;32m     11\u001b[0m   \u001b[0mprint\u001b[0m\u001b[1;33m(\u001b[0m\u001b[1;34m\"The instrument's discounted price is: \"\u001b[0m \u001b[1;33m+\u001b[0m \u001b[0mstr\u001b[0m\u001b[1;33m(\u001b[0m\u001b[0mdiscounted_price\u001b[0m\u001b[1;33m)\u001b[0m\u001b[1;33m)\u001b[0m\u001b[1;33m\u001b[0m\u001b[1;33m\u001b[0m\u001b[0m\n",
      "\u001b[1;31mTypeError\u001b[0m: unsupported operand type(s) for /: 'str' and 'int'"
     ]
    }
   ],
   "source": [
    "instrument_prices = {\n",
    "  'Banjo': 200,\n",
    "  'Cello': 1000,\n",
    "  'Flute': 100,\n",
    "}\n",
    "\n",
    "def display_discounted_price(instrument, discount):\n",
    "#   full_price = instrument_prices[instrument]\n",
    "  discount_percentage = discount / 100\n",
    "  discounted_price = full_price - (full_price * discount_percentage)\n",
    "  print(\"The instrument's discounted price is: \" + str(discounted_price))\n",
    "\n",
    "instrument = 'Clarinet'\n",
    "discount = '20'\n",
    "\n",
    "# Write your code below:\n",
    "\n",
    "display_discounted_price(instrument, discount)"
   ]
  },
  {
   "cell_type": "code",
   "execution_count": null,
   "metadata": {},
   "outputs": [],
   "source": [
    "instrument_prices = {\n",
    "  'Banjo': 200,\n",
    "  'Cello': 1000,\n",
    "  'Flute': 100,\n",
    "}\n",
    "\n",
    "def display_discounted_price(instrument, discount):\n",
    "  full_price = instrument_prices[instrument]\n",
    "  discount_percentage = discount / 100\n",
    "  discounted_price = full_price - (full_price * discount_percentage)\n",
    "  print(\"The instrument's discounted price is: \" + str(discounted_price))\n",
    "\n",
    "instrument = 'Banjo'\n",
    "discount = 30\n",
    "\n",
    "# Write your code below:\n",
    "\n",
    "try:\n",
    "  display_discounted_price(instrument, discount)\n",
    "except KeyError:\n",
    "  print('An invalid instrument was entered!')\n",
    "except TypeError:\n",
    "  print('Discount percentage must be a number!')\n",
    "except Exception:\n",
    "  print('Hit an exception other than KeyError or TypeError!')\n",
    "\n"
   ]
  },
  {
   "cell_type": "code",
   "execution_count": 10,
   "metadata": {},
   "outputs": [
    {
     "name": "stdout",
     "output_type": "stream",
     "text": [
      "Discount percentage must be a number!:unsupported operand type(s) for /: 'str' and 'int'\n"
     ]
    }
   ],
   "source": [
    "instrument_prices = {\n",
    "  'Banjo': 200,\n",
    "  'Cello': 1000,\n",
    "  'Flute': 100,\n",
    "}\n",
    "\n",
    "def display_discounted_price(instrument, discount):\n",
    "  full_price = instrument_prices[instrument]\n",
    "  discount_percentage = discount / 100\n",
    "  discounted_price = full_price - (full_price * discount_percentage)\n",
    "  print(\"The instrument's discounted price is: \" + str(discounted_price))\n",
    "\n",
    "instrument = 'Banjo'\n",
    "discount = '30'\n",
    "\n",
    "# Write your code below:\n",
    "\n",
    "try:\n",
    "  display_discounted_price(instrument, discount)\n",
    "except KeyError as k:\n",
    "  print('An invalid instrument was entered!:{}'.format(k))\n",
    "except TypeError as t:\n",
    "  print('Discount percentage must be a number!:{}'.format(t))\n",
    "except Exception as e:\n",
    "  print('Hit an exception other than KeyError or TypeError!')\n",
    "  print(e)"
   ]
  },
  {
   "cell_type": "markdown",
   "metadata": {},
   "source": [
    "# The else Clause"
   ]
  },
  {
   "cell_type": "code",
   "execution_count": 11,
   "metadata": {},
   "outputs": [
    {
     "ename": "KeyError",
     "evalue": "'Zuigly'",
     "output_type": "error",
     "traceback": [
      "\u001b[1;31m---------------------------------------------------------------------------\u001b[0m",
      "\u001b[1;31mKeyError\u001b[0m                                  Traceback (most recent call last)",
      "\u001b[1;32m<ipython-input-11-bbf1ef5aab09>\u001b[0m in \u001b[0;36m<module>\u001b[1;34m\u001b[0m\n\u001b[0;32m     12\u001b[0m \u001b[1;33m\u001b[0m\u001b[0m\n\u001b[0;32m     13\u001b[0m \u001b[0mcustomer\u001b[0m \u001b[1;33m=\u001b[0m \u001b[1;34m'Zuigly'\u001b[0m\u001b[1;33m\u001b[0m\u001b[1;33m\u001b[0m\u001b[0m\n\u001b[1;32m---> 14\u001b[1;33m \u001b[0mdisplay_rewards_account\u001b[0m\u001b[1;33m(\u001b[0m\u001b[0mcustomer\u001b[0m\u001b[1;33m)\u001b[0m\u001b[1;33m\u001b[0m\u001b[1;33m\u001b[0m\u001b[0m\n\u001b[0m",
      "\u001b[1;32m<ipython-input-11-bbf1ef5aab09>\u001b[0m in \u001b[0;36mdisplay_rewards_account\u001b[1;34m(customer)\u001b[0m\n\u001b[0;32m      7\u001b[0m \u001b[1;32mdef\u001b[0m \u001b[0mdisplay_rewards_account\u001b[0m\u001b[1;33m(\u001b[0m\u001b[0mcustomer\u001b[0m\u001b[1;33m)\u001b[0m\u001b[1;33m:\u001b[0m\u001b[1;33m\u001b[0m\u001b[1;33m\u001b[0m\u001b[0m\n\u001b[0;32m      8\u001b[0m   \u001b[1;31m# Write your code below:\u001b[0m\u001b[1;33m\u001b[0m\u001b[1;33m\u001b[0m\u001b[1;33m\u001b[0m\u001b[0m\n\u001b[1;32m----> 9\u001b[1;33m   \u001b[0mrewards_number\u001b[0m \u001b[1;33m=\u001b[0m \u001b[0mcustomer_rewards\u001b[0m\u001b[1;33m[\u001b[0m\u001b[0mcustomer\u001b[0m\u001b[1;33m]\u001b[0m\u001b[1;33m\u001b[0m\u001b[1;33m\u001b[0m\u001b[0m\n\u001b[0m\u001b[0;32m     10\u001b[0m   \u001b[0mprint\u001b[0m\u001b[1;33m(\u001b[0m\u001b[1;34m'Rewards account number is: '\u001b[0m \u001b[1;33m+\u001b[0m \u001b[0mstr\u001b[0m\u001b[1;33m(\u001b[0m\u001b[0mrewards_number\u001b[0m\u001b[1;33m)\u001b[0m\u001b[1;33m)\u001b[0m\u001b[1;33m\u001b[0m\u001b[1;33m\u001b[0m\u001b[0m\n\u001b[0;32m     11\u001b[0m \u001b[1;33m\u001b[0m\u001b[0m\n",
      "\u001b[1;31mKeyError\u001b[0m: 'Zuigly'"
     ]
    }
   ],
   "source": [
    "customer_rewards = {\n",
    "  'Zoltan': 82570,\n",
    "  'Guadalupe': 29850,\n",
    "  'Mario': 17849\n",
    "}\n",
    "\n",
    "def display_rewards_account(customer):\n",
    "  # Write your code below:\n",
    "  rewards_number = customer_rewards[customer]\n",
    "  print('Rewards account number is: ' + str(rewards_number))\n",
    "\n",
    "\n",
    "customer = 'Zuigly'\n",
    "display_rewards_account(customer)"
   ]
  },
  {
   "cell_type": "code",
   "execution_count": 12,
   "metadata": {},
   "outputs": [
    {
     "name": "stdout",
     "output_type": "stream",
     "text": [
      "Rewards account number is: 17849\n"
     ]
    }
   ],
   "source": [
    "customer_rewards = {\n",
    "  'Zoltan': 82570,\n",
    "  'Guadalupe': 29850,\n",
    "  'Mario': 17849\n",
    "}\n",
    "\n",
    "def display_rewards_account(customer):\n",
    "  # Write your code below:\n",
    "  try:\n",
    "    rewards_number = customer_rewards[customer]\n",
    "\n",
    "  except KeyError:\n",
    "    print('Customer was not found in rewards program!')\n",
    "\n",
    "  else:\n",
    "    print('Rewards account number is: ' + str(rewards_number))\n",
    "\n",
    "  \n",
    "\n",
    "\n",
    "customer = 'Mario'\n",
    "display_rewards_account(customer)\n",
    "\n"
   ]
  },
  {
   "cell_type": "markdown",
   "metadata": {},
   "source": [
    "# Finally"
   ]
  },
  {
   "cell_type": "code",
   "execution_count": 13,
   "metadata": {},
   "outputs": [],
   "source": [
    "instruments = {\n",
    "    'Kora': {\n",
    "        'Family': 'Strings',\n",
    "        'Origin': 'West Africa',\n",
    "    },\n",
    "    'Didgeridoo': {\n",
    "        'Family': 'Wind',\n",
    "        'Origin': 'Northern Australia',\n",
    "    },\n",
    "    'Guitar': {\n",
    "        'Family': 'Strings',\n",
    "        'Origin': 'Spain',\n",
    "    }\n",
    "}\n",
    "\n",
    "def connect_to_database():\n",
    "    print('Establishing connection to instrument database server...')\n",
    "\n",
    "def disconnect_from_database():\n",
    "    print('Destroying connection to instrument database server...')\n",
    "\n",
    "def get_instrument_info(instrument):\n",
    "    return instruments[instrument]\n",
    "\n",
    "def display_instrument_info(instrument):\n",
    "    info = get_instrument_info(instrument)\n",
    "    print('Instrument: ' + instrument)\n",
    "    print('Family: ' + info['Family'])\n",
    "    print('Origin: ' + info['Origin'])"
   ]
  },
  {
   "cell_type": "code",
   "execution_count": 14,
   "metadata": {},
   "outputs": [
    {
     "name": "stdout",
     "output_type": "stream",
     "text": [
      "Establishing connection to instrument database server...\n",
      "Oh no! This instrument does not exist.\n"
     ]
    }
   ],
   "source": [
    "\n",
    "instrument = 'Synthesizer'\n",
    "connect_to_database()\n",
    "\n",
    "try:\n",
    "    display_instrument_info(instrument)\n",
    "except KeyError:\n",
    "  print('Oh no! This instrument does not exist.')\n",
    "else:\n",
    "  print(instrument)"
   ]
  },
  {
   "cell_type": "markdown",
   "metadata": {},
   "source": [
    "# Assignment Try/Except/Else/Finally"
   ]
  },
  {
   "cell_type": "markdown",
   "metadata": {},
   "source": [
    "write a program that prompts the user to enter two numbers, and then divides them. If a ZeroDivisionError occurs, it will be caught and the message \"Cannot divide by zero\" will be printed. If a ValueError occurs, it will be caught and the message \"Please enter a valid number\" will be printed. If a TypeError occurs, it will be caught and the message \"Both operands must be numbers\" will be printed. If no errors occur, the else block will execute and the result will be printed. Finally, the finally block will always execute regardless of whether an exception was raised or not and print the following \" Your program has finished executing, thanks for using my application\" \n",
    "Note: you can use the following lines for taking iunput numbers from the user at runtime of program\n"
   ]
  },
  {
   "cell_type": "code",
   "execution_count": 15,
   "metadata": {},
   "outputs": [],
   "source": [
    "#x = input(\"Enter first number:  \")\n",
    "#y = input(\"Enter second number: \")"
   ]
  },
  {
   "cell_type": "code",
   "execution_count": null,
   "metadata": {},
   "outputs": [],
   "source": []
  },
  {
   "cell_type": "markdown",
   "metadata": {},
   "source": [
    "# Custom Exceptions"
   ]
  },
  {
   "cell_type": "code",
   "execution_count": null,
   "metadata": {},
   "outputs": [],
   "source": []
  },
  {
   "cell_type": "code",
   "execution_count": 3,
   "metadata": {},
   "outputs": [],
   "source": [
    "class LocationTooFarError(Exception):\n",
    "   pass\n",
    " \n",
    "def schedule_delivery(distance_from_store):\n",
    "    if distance_from_store > 10:\n",
    "        raise LocationTooFarError(\" The Location is out of range!!\")\n",
    "    else:\n",
    "        print('Scheduling the delivery...')"
   ]
  },
  {
   "cell_type": "code",
   "execution_count": 4,
   "metadata": {},
   "outputs": [
    {
     "ename": "LocationTooFarError",
     "evalue": " The Location is out of range!!",
     "output_type": "error",
     "traceback": [
      "\u001b[1;31m---------------------------------------------------------------------------\u001b[0m",
      "\u001b[1;31mLocationTooFarError\u001b[0m                       Traceback (most recent call last)",
      "\u001b[1;32m<ipython-input-4-5fdeeb07ca3c>\u001b[0m in \u001b[0;36m<module>\u001b[1;34m\u001b[0m\n\u001b[1;32m----> 1\u001b[1;33m \u001b[0mschedule_delivery\u001b[0m\u001b[1;33m(\u001b[0m\u001b[1;36m20\u001b[0m\u001b[1;33m)\u001b[0m\u001b[1;33m\u001b[0m\u001b[1;33m\u001b[0m\u001b[0m\n\u001b[0m",
      "\u001b[1;32m<ipython-input-3-9f1f921f6d0e>\u001b[0m in \u001b[0;36mschedule_delivery\u001b[1;34m(distance_from_store)\u001b[0m\n\u001b[0;32m      4\u001b[0m \u001b[1;32mdef\u001b[0m \u001b[0mschedule_delivery\u001b[0m\u001b[1;33m(\u001b[0m\u001b[0mdistance_from_store\u001b[0m\u001b[1;33m)\u001b[0m\u001b[1;33m:\u001b[0m\u001b[1;33m\u001b[0m\u001b[1;33m\u001b[0m\u001b[0m\n\u001b[0;32m      5\u001b[0m     \u001b[1;32mif\u001b[0m \u001b[0mdistance_from_store\u001b[0m \u001b[1;33m>\u001b[0m \u001b[1;36m10\u001b[0m\u001b[1;33m:\u001b[0m\u001b[1;33m\u001b[0m\u001b[1;33m\u001b[0m\u001b[0m\n\u001b[1;32m----> 6\u001b[1;33m         \u001b[1;32mraise\u001b[0m \u001b[0mLocationTooFarError\u001b[0m\u001b[1;33m(\u001b[0m\u001b[1;34m\" The Location is out of range!!\"\u001b[0m\u001b[1;33m)\u001b[0m\u001b[1;33m\u001b[0m\u001b[1;33m\u001b[0m\u001b[0m\n\u001b[0m\u001b[0;32m      7\u001b[0m     \u001b[1;32melse\u001b[0m\u001b[1;33m:\u001b[0m\u001b[1;33m\u001b[0m\u001b[1;33m\u001b[0m\u001b[0m\n\u001b[0;32m      8\u001b[0m         \u001b[0mprint\u001b[0m\u001b[1;33m(\u001b[0m\u001b[1;34m'Scheduling the delivery...'\u001b[0m\u001b[1;33m)\u001b[0m\u001b[1;33m\u001b[0m\u001b[1;33m\u001b[0m\u001b[0m\n",
      "\u001b[1;31mLocationTooFarError\u001b[0m:  The Location is out of range!!"
     ]
    }
   ],
   "source": [
    "schedule_delivery(20)"
   ]
  },
  {
   "cell_type": "code",
   "execution_count": 5,
   "metadata": {},
   "outputs": [
    {
     "name": "stdout",
     "output_type": "stream",
     "text": [
      "Successfully placed order! Remaining supply: -2\n"
     ]
    }
   ],
   "source": [
    "inventory = {\n",
    "  'Piano': 3,\n",
    "  'Lute': 1,\n",
    "  'Sitar': 2\n",
    "}\n",
    "\n",
    "\n",
    "#Write your code below (Checkpoint 2):\n",
    "\n",
    "\n",
    "\n",
    "def submit_order(instrument, quantity):\n",
    "  supply = inventory[instrument]\n",
    "  \n",
    "  # Write your code below (Checkpoint 3 & 4): \n",
    "  inventory[instrument] -= quantity\n",
    "  print('Successfully placed order! Remaining supply: ' + str(inventory[instrument]))\n",
    "\n",
    "instrument = 'Piano'\n",
    "quantity = 5\n",
    "submit_order(instrument, quantity)"
   ]
  },
  {
   "cell_type": "code",
   "execution_count": 6,
   "metadata": {},
   "outputs": [
    {
     "name": "stdout",
     "output_type": "stream",
     "text": [
      "Successfully placed order! Remaining supply: 1\n"
     ]
    }
   ],
   "source": [
    "inventory = {\n",
    "  'Piano': 3,\n",
    "  'Lute': 1,\n",
    "  'Sitar': 2\n",
    "}\n",
    "\n",
    "\n",
    "#Write your code below (Checkpoint 2):\n",
    "class InventoryError(Exception):\n",
    "  pass\n",
    "\n",
    "\n",
    "\n",
    "def submit_order(instrument, quantity):\n",
    "  supply = inventory[instrument]\n",
    "  \n",
    "  # Write your code below (Checkpoint 3 & 4):\n",
    "  if quantity > supply:\n",
    "    raise  InventoryError\n",
    "  else:\n",
    "    inventory[instrument] -= quantity\n",
    "    print('Successfully placed order! Remaining supply: ' + str(inventory[instrument]))\n",
    "\n",
    "instrument = 'Piano'\n",
    "quantity = 2\n",
    "submit_order(instrument, quantity)"
   ]
  },
  {
   "cell_type": "markdown",
   "metadata": {},
   "source": [
    "# Customizing User-defined Exceptions\n"
   ]
  },
  {
   "cell_type": "code",
   "execution_count": 8,
   "metadata": {},
   "outputs": [],
   "source": [
    "class LocationTooFarError(Exception):\n",
    "   def __init__(self, distance):\n",
    "       self.distance = distance\n",
    " \n",
    "   def __str__(self):\n",
    "        return 'Location is not within 10 km: ' + str(self.distance)"
   ]
  },
  {
   "cell_type": "code",
   "execution_count": 9,
   "metadata": {},
   "outputs": [],
   "source": [
    "def schedule_delivery(distance_from_store):\n",
    "    if distance_from_store > 10:\n",
    "        raise LocationTooFarError(distance_from_store)\n",
    "    else:\n",
    "        print('Scheduling the delivery...')"
   ]
  },
  {
   "cell_type": "code",
   "execution_count": 10,
   "metadata": {},
   "outputs": [
    {
     "ename": "LocationTooFarError",
     "evalue": "Location is not within 10 km: 20",
     "output_type": "error",
     "traceback": [
      "\u001b[1;31m---------------------------------------------------------------------------\u001b[0m",
      "\u001b[1;31mLocationTooFarError\u001b[0m                       Traceback (most recent call last)",
      "\u001b[1;32m<ipython-input-10-5fdeeb07ca3c>\u001b[0m in \u001b[0;36m<module>\u001b[1;34m\u001b[0m\n\u001b[1;32m----> 1\u001b[1;33m \u001b[0mschedule_delivery\u001b[0m\u001b[1;33m(\u001b[0m\u001b[1;36m20\u001b[0m\u001b[1;33m)\u001b[0m\u001b[1;33m\u001b[0m\u001b[1;33m\u001b[0m\u001b[0m\n\u001b[0m",
      "\u001b[1;32m<ipython-input-9-a213b27e163a>\u001b[0m in \u001b[0;36mschedule_delivery\u001b[1;34m(distance_from_store)\u001b[0m\n\u001b[0;32m      1\u001b[0m \u001b[1;32mdef\u001b[0m \u001b[0mschedule_delivery\u001b[0m\u001b[1;33m(\u001b[0m\u001b[0mdistance_from_store\u001b[0m\u001b[1;33m)\u001b[0m\u001b[1;33m:\u001b[0m\u001b[1;33m\u001b[0m\u001b[1;33m\u001b[0m\u001b[0m\n\u001b[0;32m      2\u001b[0m     \u001b[1;32mif\u001b[0m \u001b[0mdistance_from_store\u001b[0m \u001b[1;33m>\u001b[0m \u001b[1;36m10\u001b[0m\u001b[1;33m:\u001b[0m\u001b[1;33m\u001b[0m\u001b[1;33m\u001b[0m\u001b[0m\n\u001b[1;32m----> 3\u001b[1;33m         \u001b[1;32mraise\u001b[0m \u001b[0mLocationTooFarError\u001b[0m\u001b[1;33m(\u001b[0m\u001b[0mdistance_from_store\u001b[0m\u001b[1;33m)\u001b[0m\u001b[1;33m\u001b[0m\u001b[1;33m\u001b[0m\u001b[0m\n\u001b[0m\u001b[0;32m      4\u001b[0m     \u001b[1;32melse\u001b[0m\u001b[1;33m:\u001b[0m\u001b[1;33m\u001b[0m\u001b[1;33m\u001b[0m\u001b[0m\n\u001b[0;32m      5\u001b[0m         \u001b[0mprint\u001b[0m\u001b[1;33m(\u001b[0m\u001b[1;34m'Scheduling the delivery...'\u001b[0m\u001b[1;33m)\u001b[0m\u001b[1;33m\u001b[0m\u001b[1;33m\u001b[0m\u001b[0m\n",
      "\u001b[1;31mLocationTooFarError\u001b[0m: Location is not within 10 km: 20"
     ]
    }
   ],
   "source": [
    "schedule_delivery(20)"
   ]
  },
  {
   "cell_type": "code",
   "execution_count": 11,
   "metadata": {},
   "outputs": [
    {
     "ename": "InventoryError",
     "evalue": "Available supply is only 3",
     "output_type": "error",
     "traceback": [
      "\u001b[1;31m---------------------------------------------------------------------------\u001b[0m",
      "\u001b[1;31mInventoryError\u001b[0m                            Traceback (most recent call last)",
      "\u001b[1;32m<ipython-input-11-9b426f45e496>\u001b[0m in \u001b[0;36m<module>\u001b[1;34m\u001b[0m\n\u001b[0;32m     26\u001b[0m \u001b[0minstrument\u001b[0m \u001b[1;33m=\u001b[0m \u001b[1;34m'Piano'\u001b[0m\u001b[1;33m\u001b[0m\u001b[1;33m\u001b[0m\u001b[0m\n\u001b[0;32m     27\u001b[0m \u001b[0mquantity\u001b[0m \u001b[1;33m=\u001b[0m \u001b[1;36m5\u001b[0m\u001b[1;33m\u001b[0m\u001b[1;33m\u001b[0m\u001b[0m\n\u001b[1;32m---> 28\u001b[1;33m \u001b[0msubmit_order\u001b[0m\u001b[1;33m(\u001b[0m\u001b[0minstrument\u001b[0m\u001b[1;33m,\u001b[0m \u001b[0mquantity\u001b[0m\u001b[1;33m)\u001b[0m\u001b[1;33m\u001b[0m\u001b[1;33m\u001b[0m\u001b[0m\n\u001b[0m",
      "\u001b[1;32m<ipython-input-11-9b426f45e496>\u001b[0m in \u001b[0;36msubmit_order\u001b[1;34m(instrument, quantity)\u001b[0m\n\u001b[0;32m     19\u001b[0m   \u001b[1;31m# Write your code below (Checkpoint 3)\u001b[0m\u001b[1;33m\u001b[0m\u001b[1;33m\u001b[0m\u001b[1;33m\u001b[0m\u001b[0m\n\u001b[0;32m     20\u001b[0m   \u001b[1;32mif\u001b[0m \u001b[0mquantity\u001b[0m \u001b[1;33m>\u001b[0m \u001b[0msupply\u001b[0m\u001b[1;33m:\u001b[0m\u001b[1;33m\u001b[0m\u001b[1;33m\u001b[0m\u001b[0m\n\u001b[1;32m---> 21\u001b[1;33m     \u001b[1;32mraise\u001b[0m \u001b[0mInventoryError\u001b[0m\u001b[1;33m(\u001b[0m\u001b[0msupply\u001b[0m\u001b[1;33m)\u001b[0m\u001b[1;33m\u001b[0m\u001b[1;33m\u001b[0m\u001b[0m\n\u001b[0m\u001b[0;32m     22\u001b[0m   \u001b[1;32melse\u001b[0m\u001b[1;33m:\u001b[0m\u001b[1;33m\u001b[0m\u001b[1;33m\u001b[0m\u001b[0m\n\u001b[0;32m     23\u001b[0m     \u001b[0minventory\u001b[0m\u001b[1;33m[\u001b[0m\u001b[0minstrument\u001b[0m\u001b[1;33m]\u001b[0m \u001b[1;33m-=\u001b[0m \u001b[0mquantity\u001b[0m\u001b[1;33m\u001b[0m\u001b[1;33m\u001b[0m\u001b[0m\n",
      "\u001b[1;31mInventoryError\u001b[0m: Available supply is only 3"
     ]
    }
   ],
   "source": [
    "# Write your code below (Checkpoint 1 & 2)\n",
    "class InventoryError(Exception):\n",
    "  def __init__(self, supply):\n",
    "    self.supply = supply\n",
    "\n",
    "  def __str__(self):\n",
    "    return 'Available supply is only ' + str(self.supply)\n",
    "\n",
    "\n",
    "\n",
    "inventory = {\n",
    "  'Piano': 3,\n",
    "  'Lute': 1,\n",
    "  'Sitar': 2\n",
    "}\n",
    "\n",
    "def submit_order(instrument, quantity):\n",
    "  supply = inventory[instrument]\n",
    "  # Write your code below (Checkpoint 3)\n",
    "  if quantity > supply:\n",
    "    raise InventoryError(supply)\n",
    "  else:\n",
    "    inventory[instrument] -= quantity\n",
    "    print('Successfully placed order! Remaining supply: ' + str(inventory[instrument]))\n",
    "\n",
    "instrument = 'Piano'\n",
    "quantity = 5\n",
    "submit_order(instrument, quantity)\n"
   ]
  },
  {
   "cell_type": "markdown",
   "metadata": {},
   "source": [
    "# Review Code"
   ]
  },
  {
   "cell_type": "code",
   "execution_count": 14,
   "metadata": {},
   "outputs": [
    {
     "name": "stdout",
     "output_type": "stream",
     "text": [
      "Some instruments in the Stringsfamily are: ['Guitar', 'Banjo', 'Sitar']\n",
      "Some instruments in the Percussionfamily are: ['Conga', 'Cymbal', 'Cajon']\n",
      "Some instruments in the woodwindsfamily are: ['Flute', 'Oboe', 'Clarinet']\n"
     ]
    }
   ],
   "source": [
    "instrument_familes = {\n",
    "  'Strings': ['Guitar', 'Banjo', 'Sitar'],\n",
    "  'Percussion': ['Conga', 'Cymbal', 'Cajon'],\n",
    "  'woodwinds': ['Flute', 'Oboe', 'Clarinet']\n",
    "}\n",
    "\n",
    "def print_instrument_families():\n",
    "  for family in ['Strings', 'Percussion', 'woodwinds']:\n",
    "    print('Some instruments in the ' + family + 'family are: ' + str(instrument_familes[family]))\n",
    "\n",
    "print_instrument_families()\n"
   ]
  },
  {
   "cell_type": "code",
   "execution_count": 22,
   "metadata": {},
   "outputs": [
    {
     "name": "stdout",
     "output_type": "stream",
     "text": [
      "Exceptions can be scary...\n",
      "Although they can also be handled...\n",
      "Coding is fun either way!\n"
     ]
    }
   ],
   "source": [
    "try:\n",
    "    print(\"Exceptions can be scary...\")\n",
    "    5/0\n",
    "except:\n",
    "    print(\"Although they can also be handled...\")\n",
    "else:\n",
    "    print(\"Sometimes they can be avoided...\")\n",
    "finally:\n",
    "    print(\"Coding is fun either way!\")"
   ]
  },
  {
   "cell_type": "code",
   "execution_count": 26,
   "metadata": {},
   "outputs": [
    {
     "name": "stdout",
     "output_type": "stream",
     "text": [
      "1 + 2 = 3\n",
      "2 + 3 = 5\n",
      "3 + 4 = 7\n",
      "4 + 5 = 9\n"
     ]
    }
   ],
   "source": [
    "try:\n",
    "    print('1 + 2 = 3')\n",
    "    print('2 + 3 = 5')\n",
    "    print(3 + 4 + ' = 7')\n",
    "    print('4 + 5 = 9')\n",
    "except TypeError:\n",
    "    print(\"A TypeError occurred!\")"
   ]
  },
  {
   "cell_type": "code",
   "execution_count": 27,
   "metadata": {},
   "outputs": [
    {
     "ename": "TypeError",
     "evalue": "can only concatenate str (not \"int\") to str",
     "output_type": "error",
     "traceback": [
      "\u001b[1;31m---------------------------------------------------------------------------\u001b[0m",
      "\u001b[1;31mTypeError\u001b[0m                                 Traceback (most recent call last)",
      "\u001b[1;32m<ipython-input-27-99b6b91f6431>\u001b[0m in \u001b[0;36m<module>\u001b[1;34m\u001b[0m\n\u001b[1;32m----> 1\u001b[1;33m \u001b[0mprint\u001b[0m\u001b[1;33m(\u001b[0m\u001b[1;34m'3'\u001b[0m \u001b[1;33m+\u001b[0m\u001b[1;36m3\u001b[0m\u001b[1;33m)\u001b[0m\u001b[1;33m\u001b[0m\u001b[1;33m\u001b[0m\u001b[0m\n\u001b[0m",
      "\u001b[1;31mTypeError\u001b[0m: can only concatenate str (not \"int\") to str"
     ]
    }
   ],
   "source": [
    "print('3' +3)"
   ]
  },
  {
   "cell_type": "markdown",
   "metadata": {},
   "source": [
    "# Assigment Custom Exceptions"
   ]
  },
  {
   "cell_type": "markdown",
   "metadata": {},
   "source": [
    "Write a function that takes in a list of integers and raises a custom exception if the following conditions are met:\n",
    "\n",
    "If the list is empty, raise an exception called \"EmptyListException\"\n",
    "If any of the integers in the list are negative, raise an exception called \"NegativeNumberException\"\n",
    "If the sum of all integers in the list is greater than 100, raise an exception called \"SumTooLargeException\""
   ]
  }
 ],
 "metadata": {
  "kernelspec": {
   "display_name": "Python 3",
   "language": "python",
   "name": "python3"
  },
  "language_info": {
   "codemirror_mode": {
    "name": "ipython",
    "version": 3
   },
   "file_extension": ".py",
   "mimetype": "text/x-python",
   "name": "python",
   "nbconvert_exporter": "python",
   "pygments_lexer": "ipython3",
   "version": "3.9.5"
  }
 },
 "nbformat": 4,
 "nbformat_minor": 4
}
