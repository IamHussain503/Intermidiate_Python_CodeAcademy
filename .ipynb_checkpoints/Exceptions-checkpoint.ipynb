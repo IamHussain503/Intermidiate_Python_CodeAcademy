{
 "cells": [
  {
   "cell_type": "code",
   "execution_count": 3,
   "metadata": {},
   "outputs": [],
   "source": [
    "def open_register(employee_status):\n",
    "  if employee_status == 'Authorized':\n",
    "    print('Successfully opened cash register')\n",
    "  else:\n",
    "    # Alternatives: raise TypeError() or TypeError('Message')\n",
    "    raise TypeError(\"You are not authorized\")"
   ]
  },
  {
   "cell_type": "code",
   "execution_count": 4,
   "metadata": {},
   "outputs": [
    {
     "ename": "TypeError",
     "evalue": "You are not authorized",
     "output_type": "error",
     "traceback": [
      "\u001b[1;31m---------------------------------------------------------------------------\u001b[0m",
      "\u001b[1;31mTypeError\u001b[0m                                 Traceback (most recent call last)",
      "\u001b[1;32m<ipython-input-4-bf45ae29b4a7>\u001b[0m in \u001b[0;36m<module>\u001b[1;34m\u001b[0m\n\u001b[1;32m----> 1\u001b[1;33m \u001b[0mopen_register\u001b[0m\u001b[1;33m(\u001b[0m\u001b[1;34m\"not authorized\"\u001b[0m\u001b[1;33m)\u001b[0m\u001b[1;33m\u001b[0m\u001b[1;33m\u001b[0m\u001b[0m\n\u001b[0m",
      "\u001b[1;32m<ipython-input-3-e628da5ad7dc>\u001b[0m in \u001b[0;36mopen_register\u001b[1;34m(employee_status)\u001b[0m\n\u001b[0;32m      4\u001b[0m   \u001b[1;32melse\u001b[0m\u001b[1;33m:\u001b[0m\u001b[1;33m\u001b[0m\u001b[1;33m\u001b[0m\u001b[0m\n\u001b[0;32m      5\u001b[0m     \u001b[1;31m# Alternatives: raise TypeError() or TypeError('Message')\u001b[0m\u001b[1;33m\u001b[0m\u001b[1;33m\u001b[0m\u001b[1;33m\u001b[0m\u001b[0m\n\u001b[1;32m----> 6\u001b[1;33m     \u001b[1;32mraise\u001b[0m \u001b[0mTypeError\u001b[0m\u001b[1;33m(\u001b[0m\u001b[1;34m\"You are not authorized\"\u001b[0m\u001b[1;33m)\u001b[0m\u001b[1;33m\u001b[0m\u001b[1;33m\u001b[0m\u001b[0m\n\u001b[0m",
      "\u001b[1;31mTypeError\u001b[0m: You are not authorized"
     ]
    }
   ],
   "source": [
    "open_register(\"not authorized\")"
   ]
  },
  {
   "cell_type": "code",
   "execution_count": 5,
   "metadata": {},
   "outputs": [
    {
     "name": "stdout",
     "output_type": "stream",
     "text": [
      "The price of a Marimba is 1999\n",
      "The price of a Flute is 899\n"
     ]
    },
    {
     "ename": "KeyError",
     "evalue": "'Piano is not found in instrument catalog!'",
     "output_type": "error",
     "traceback": [
      "\u001b[1;31m---------------------------------------------------------------------------\u001b[0m",
      "\u001b[1;31mKeyError\u001b[0m                                  Traceback (most recent call last)",
      "\u001b[1;32m<ipython-input-5-9eee82fae065>\u001b[0m in \u001b[0;36m<module>\u001b[1;34m\u001b[0m\n\u001b[0;32m     15\u001b[0m \u001b[0mprint_instrument_price\u001b[0m\u001b[1;33m(\u001b[0m\u001b[1;34m'Marimba'\u001b[0m\u001b[1;33m)\u001b[0m\u001b[1;33m\u001b[0m\u001b[1;33m\u001b[0m\u001b[0m\n\u001b[0;32m     16\u001b[0m \u001b[0mprint_instrument_price\u001b[0m\u001b[1;33m(\u001b[0m\u001b[1;34m'Flute'\u001b[0m\u001b[1;33m)\u001b[0m\u001b[1;33m\u001b[0m\u001b[1;33m\u001b[0m\u001b[0m\n\u001b[1;32m---> 17\u001b[1;33m \u001b[0mprint_instrument_price\u001b[0m\u001b[1;33m(\u001b[0m\u001b[1;34m'Piano'\u001b[0m\u001b[1;33m)\u001b[0m\u001b[1;33m\u001b[0m\u001b[1;33m\u001b[0m\u001b[0m\n\u001b[0m",
      "\u001b[1;32m<ipython-input-5-9eee82fae065>\u001b[0m in \u001b[0;36mprint_instrument_price\u001b[1;34m(instrument)\u001b[0m\n\u001b[0;32m     11\u001b[0m     \u001b[0mprint\u001b[0m\u001b[1;33m(\u001b[0m\u001b[1;34m'The price of a '\u001b[0m \u001b[1;33m+\u001b[0m \u001b[0minstrument\u001b[0m \u001b[1;33m+\u001b[0m \u001b[1;34m' is '\u001b[0m \u001b[1;33m+\u001b[0m \u001b[0mstr\u001b[0m\u001b[1;33m(\u001b[0m\u001b[0minstrument_catalog\u001b[0m\u001b[1;33m[\u001b[0m\u001b[0minstrument\u001b[0m\u001b[1;33m]\u001b[0m\u001b[1;33m)\u001b[0m\u001b[1;33m)\u001b[0m\u001b[1;33m\u001b[0m\u001b[1;33m\u001b[0m\u001b[0m\n\u001b[0;32m     12\u001b[0m   \u001b[1;32melse\u001b[0m\u001b[1;33m:\u001b[0m\u001b[1;33m\u001b[0m\u001b[1;33m\u001b[0m\u001b[0m\n\u001b[1;32m---> 13\u001b[1;33m     \u001b[1;32mraise\u001b[0m \u001b[0mKeyError\u001b[0m\u001b[1;33m(\u001b[0m\u001b[0minstrument\u001b[0m \u001b[1;33m+\u001b[0m \u001b[1;34m' is not found in instrument catalog!'\u001b[0m\u001b[1;33m)\u001b[0m\u001b[1;33m\u001b[0m\u001b[1;33m\u001b[0m\u001b[0m\n\u001b[0m\u001b[0;32m     14\u001b[0m \u001b[1;33m\u001b[0m\u001b[0m\n\u001b[0;32m     15\u001b[0m \u001b[0mprint_instrument_price\u001b[0m\u001b[1;33m(\u001b[0m\u001b[1;34m'Marimba'\u001b[0m\u001b[1;33m)\u001b[0m\u001b[1;33m\u001b[0m\u001b[1;33m\u001b[0m\u001b[0m\n",
      "\u001b[1;31mKeyError\u001b[0m: 'Piano is not found in instrument catalog!'"
     ]
    }
   ],
   "source": [
    "instrument_catalog = {\n",
    "  'Marimba': 1999,\n",
    "  'Kora': 499,\n",
    "  'Flute': 899\n",
    "}\n",
    "\n",
    "def print_instrument_price(instrument):\n",
    "  # Write your code below:\n",
    "  if instrument in instrument_catalog:\n",
    "\n",
    "    print('The price of a ' + instrument + ' is ' + str(instrument_catalog[instrument]))\n",
    "  else:\n",
    "    raise KeyError(instrument + ' is not found in instrument catalog!')\n",
    "\n",
    "print_instrument_price('Marimba')\n",
    "print_instrument_price('Flute')\n",
    "print_instrument_price('Piano')\n"
   ]
  },
  {
   "cell_type": "code",
   "execution_count": null,
   "metadata": {},
   "outputs": [],
   "source": []
  }
 ],
 "metadata": {
  "kernelspec": {
   "display_name": "Python 3",
   "language": "python",
   "name": "python3"
  },
  "language_info": {
   "codemirror_mode": {
    "name": "ipython",
    "version": 3
   },
   "file_extension": ".py",
   "mimetype": "text/x-python",
   "name": "python",
   "nbconvert_exporter": "python",
   "pygments_lexer": "ipython3",
   "version": "3.9.5"
  }
 },
 "nbformat": 4,
 "nbformat_minor": 4
}
