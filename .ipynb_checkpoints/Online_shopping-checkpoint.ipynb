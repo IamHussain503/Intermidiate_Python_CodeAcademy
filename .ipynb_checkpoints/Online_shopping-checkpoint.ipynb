{
 "cells": [
  {
   "cell_type": "markdown",
   "metadata": {},
   "source": [
    "# Online shopping app "
   ]
  },
  {
   "cell_type": "code",
   "execution_count": null,
   "metadata": {},
   "outputs": [],
   "source": [
    "class Product():\n",
    "    def __init__(self, name, price, quantity):\n",
    "        self.name = name \n",
    "        self.price = price\n",
    "        self.quantity = quantity\n",
    "        \n",
    "    def get_name(self):\n",
    "        return self.name\n",
    "    \n",
    "    def get_price(self):\n",
    "        return self.price\n",
    "    \n",
    "    def get_quantity(self):\n",
    "        return self.quantity\n",
    "    \n",
    "    def update_quantity(self, delta):\n",
    "        self.quantity -= delta\n",
    "        \n",
    "\n",
    "class ShoppingCartItems(Product):\n",
    "    def __init__(self, name, price, quantity, size , color):\n",
    "        self.name = name \n",
    "        self.price = price\n",
    "        self.quantity = quantity\n",
    "        if size in ['S', 'M' , 'L']:\n",
    "            self.size = size\n",
    "        else:\n",
    "            raise ValueError(\" size can only be S, M , L\")\n",
    "        self.color = color\n",
    "        \n"
   ]
  }
 ],
 "metadata": {
  "kernelspec": {
   "display_name": "Python 3",
   "language": "python",
   "name": "python3"
  },
  "language_info": {
   "codemirror_mode": {
    "name": "ipython",
    "version": 3
   },
   "file_extension": ".py",
   "mimetype": "text/x-python",
   "name": "python",
   "nbconvert_exporter": "python",
   "pygments_lexer": "ipython3",
   "version": "3.9.5"
  }
 },
 "nbformat": 4,
 "nbformat_minor": 4
}
