{
 "cells": [
  {
   "cell_type": "markdown",
   "metadata": {},
   "source": [
    "# OOP"
   ]
  },
  {
   "cell_type": "code",
   "execution_count": 1,
   "metadata": {},
   "outputs": [],
   "source": [
    "class Dog:\n",
    "  sound = \"Woof\"\n",
    " \n",
    "  def __init__(self, name, age):\n",
    "    self.name = name\n",
    "    self.age = age\n",
    " \n",
    "  def bark(self):\n",
    "    print(Dog.sound)"
   ]
  },
  {
   "cell_type": "code",
   "execution_count": 3,
   "metadata": {},
   "outputs": [],
   "source": [
    "german = Dog('puppy', 2)\n",
    "bull = Dog('dogi', 1)"
   ]
  },
  {
   "cell_type": "code",
   "execution_count": 4,
   "metadata": {},
   "outputs": [
    {
     "name": "stdout",
     "output_type": "stream",
     "text": [
      "Woof\n"
     ]
    }
   ],
   "source": [
    "german.bark()"
   ]
  },
  {
   "cell_type": "code",
   "execution_count": 5,
   "metadata": {},
   "outputs": [
    {
     "name": "stdout",
     "output_type": "stream",
     "text": [
      "Woof\n"
     ]
    }
   ],
   "source": [
    "bull.bark()"
   ]
  },
  {
   "cell_type": "code",
   "execution_count": 1,
   "metadata": {},
   "outputs": [],
   "source": [
    "# Write your code below\n",
    "# Write your code below\n",
    "class Employee:\n",
    "  new_id = 1\n",
    "  def __init__(self):\n",
    "    self.id = Employee.new_id\n",
    "    Employee.new_id += 1\n",
    "    print(Employee.new_id)\n",
    "\n",
    "  def say_id(self):\n",
    "    print(\"My id is\" , self.id)"
   ]
  },
  {
   "cell_type": "code",
   "execution_count": 3,
   "metadata": {},
   "outputs": [
    {
     "name": "stdout",
     "output_type": "stream",
     "text": [
      "2\n"
     ]
    }
   ],
   "source": [
    "e1 = Employee()"
   ]
  },
  {
   "cell_type": "code",
   "execution_count": 4,
   "metadata": {},
   "outputs": [
    {
     "data": {
      "text/plain": [
       "1"
      ]
     },
     "execution_count": 4,
     "metadata": {},
     "output_type": "execute_result"
    }
   ],
   "source": [
    "e1.id"
   ]
  },
  {
   "cell_type": "code",
   "execution_count": 5,
   "metadata": {},
   "outputs": [
    {
     "name": "stdout",
     "output_type": "stream",
     "text": [
      "3\n"
     ]
    }
   ],
   "source": [
    "e2 = Employee()"
   ]
  },
  {
   "cell_type": "code",
   "execution_count": 7,
   "metadata": {},
   "outputs": [
    {
     "name": "stdout",
     "output_type": "stream",
     "text": [
      "My id is 2\n"
     ]
    }
   ],
   "source": [
    "e2.say_id()"
   ]
  },
  {
   "cell_type": "markdown",
   "metadata": {},
   "source": [
    "# OOP Pillar: Inheritance\n",
    "When we hear the word “inheritance”, code may not be the first thing that springs to mind; we’re probably more likely to think of inheriting genetic traits, like the eye color from a mother or dimples from a grandfather. In the world of Object-Oriented Programming, inheritance is actually one of the core pillars for creating intricate structures with our classes. To dive into this concept, let’s examine a Dog and Cat class:\n",
    "\n",
    "class Dog:\n",
    " \n",
    "  def bark(self):\n",
    "    print('Woof!')\n",
    " \n",
    "class Cat:\n",
    " \n",
    "  def meow(self):\n",
    "    print('Meow!')\n",
    "These two classes define two distinct animals with their own methods of communication. Now, what if we wanted to give both of these classes the ability to eat by calling a method called eat(). We could write the method twice in both classes but then we would be repeating code! We also may need to write it inside every specific animal class we ever create. Instead, we can utilize the power of inheritance.\n",
    "\n",
    "Since both Cat and Dog fall under the classification of Animal we can create a parent class to represent properties and methods they can both share! Here is what it might look like:\n",
    "\n",
    "class Animal: \n",
    "  def eat(self): \n",
    "    print(\"Nom Nom Nom...eating food!\")\n",
    "Great, we have an Animal class with a eat() method, but how do we actually get the Dog and Cat class to inherit this method so it can be shared with both classes? Well here is what the base structure will look like:\n",
    "\n",
    "class ParentClass:\n",
    "  #class methods/properties...\n",
    " \n",
    "class ChildClass(ParentClass):\n",
    "  #class methods/properties...\n",
    "If we apply this structure to our example, our code looks like this:\n",
    "\n",
    "class Dog(Animal):\n",
    "  def bark(self):\n",
    "    print('Bark!')\n",
    " \n",
    "class Cat(Animal):\n",
    "  def meow(self):\n",
    "    print('Meow!')\n",
    "Now, let’s see inheritance in action:\n",
    "\n",
    "fluffy = Dog()\n",
    "zoomie = Cat()\n",
    " \n",
    "fluffy.eat() # Nom Nom Nom...eating food!\n",
    "zoomie.eat() # Nom Nom Nom...eating food!\n",
    "As we can see, there are some clear advantages of utilizing inheritance. Not only are we able to reuse methods across multiple classes using our parent class, but we are also able to create parent-child relationships between entities!\n",
    "\n",
    "Instructions\n",
    "1.\n",
    "Now that there is an Employee class we want to make a more specific type of employee, Admin.\n",
    "\n",
    "In script.py:\n",
    "\n",
    "Create an Admin class that inherits from the Employee class\n",
    "Inside the body of the class insert the pass statement\n",
    "Checkpoint 2 Passed\n",
    "\n",
    "Stuck? Get a hint\n",
    "2.\n",
    "Now it’s time to test out your inheritance implementation.\n",
    "\n",
    "At the bottom of script.py:\n",
    "\n",
    "Define a variable e3 and set it to an instance of the Admin class\n",
    "Now if you call the .say_id() method of the Admin instance in e3, you will get output with the instance’s id."
   ]
  },
  {
   "cell_type": "code",
   "execution_count": null,
   "metadata": {},
   "outputs": [],
   "source": [
    "class Employee():\n",
    "  new_id = 1\n",
    "  def __init__(self):\n",
    "    self.id = Employee.new_id\n",
    "    Employee.new_id += 1\n",
    "\n",
    "  def say_id(self):\n",
    "    print(\"My id is {}.\".format(self.id))\n",
    "\n",
    "class Admin(Employee):\n",
    "  # Write your code below\n",
    "  \n",
    "\n",
    "e1 = Employee()\n",
    "e2 = Employee()\n",
    "e3 = Admin()\n",
    "e3.say_id()"
   ]
  },
  {
   "cell_type": "markdown",
   "metadata": {},
   "source": [
    "# OBJECT-ORIENTED PROGRAMMING\n",
    "# Overriding Methods\n",
    "When implementing inheritance, a child class may want to change the behavior of a method from its parent class. In Python, all we have to do is override a method definition. An overriding method in a subclass is one that has the same definition as the parent class but contains different behavior.\n",
    "\n",
    "class Animal:\n",
    "  def __init__(self, name):\n",
    "    self.name = name\n",
    " \n",
    "  def make_noise(self):\n",
    "    print(\"{} says, Grrrr\".format(self.name))\n",
    " \n",
    "pet1 = Animal(\"Rex\")\n",
    "pet1.make_noise() # Rex says, Grrrr\n",
    "The animal class above has one attribute, self.name and one method, .make_noise(). The .make_noise() method outputs a somewhat generic animal sound, \"Rex says, Grrrr\". If we define a subclass of Animal we may want to make a different sound.\n",
    "\n",
    "class Cat(Animal):\n",
    " \n",
    "  def make_noise(self):\n",
    "    print(\"{} says, Meow!\".format(self.name))\n",
    " \n",
    "pet2 = Cat(\"Maisy\")\n",
    "pet2.make_noise() # Maisy says, Meow!\n",
    "Now we’ve made a class for a more specific type of animal, Cat. It has all the attributes and methods of Animal. However, if you call the .make_noise() method on this instance of Cat it will say “Maisy says, Meow!”.\n",
    "\n",
    "Instructions\n",
    "1.\n",
    "As an admin, you feel it is not important to give your ID, but just let others know they’re talking to an admin.\n",
    "\n",
    "Inside the Admin class:\n",
    "\n",
    "Define a method say_id()\n",
    "Inside the method, output \"I am an Admin\"\n",
    "Now when you call .say_id() with e3 you should see the .say_id() method output from Admin."
   ]
  },
  {
   "cell_type": "code",
   "execution_count": 8,
   "metadata": {},
   "outputs": [
    {
     "name": "stdout",
     "output_type": "stream",
     "text": [
      "Rex says, Grrrr\n"
     ]
    }
   ],
   "source": [
    "class Animal:\n",
    "  def __init__(self, name):\n",
    "    self.name = name\n",
    " \n",
    "  def make_noise(self):\n",
    "    print(\"{} says, Grrrr\".format(self.name))\n",
    " \n",
    "pet1 = Animal(\"Rex\")\n",
    "pet1.make_noise() #"
   ]
  },
  {
   "cell_type": "code",
   "execution_count": 10,
   "metadata": {},
   "outputs": [
    {
     "name": "stdout",
     "output_type": "stream",
     "text": [
      "Dog says, Grrrr\n"
     ]
    }
   ],
   "source": [
    "pet3 = Animal(\"Dog\")\n",
    "pet3.make_noise()"
   ]
  },
  {
   "cell_type": "code",
   "execution_count": 9,
   "metadata": {},
   "outputs": [
    {
     "name": "stdout",
     "output_type": "stream",
     "text": [
      "Maisy says, Meow!\n"
     ]
    }
   ],
   "source": [
    "class Cat(Animal):\n",
    " \n",
    "  def make_noise(self):\n",
    "    print(\"{} says, Meow!\".format(self.name))\n",
    " \n",
    "pet2 = Cat(\"Maisy\")\n",
    "pet2.make_noise() # Maisy says, Meow!"
   ]
  },
  {
   "cell_type": "code",
   "execution_count": 11,
   "metadata": {},
   "outputs": [],
   "source": [
    "class Employee():\n",
    "  new_id = 1\n",
    "  def __init__(self):\n",
    "    self.id = Employee.new_id\n",
    "    Employee.new_id += 1\n",
    "\n",
    "  def say_id(self):\n",
    "    print(\"My id is {}.\".format(self.id))\n",
    "\n",
    "class Admin(Employee):\n",
    "  # Write your code below\n",
    "  def say_id(self):\n",
    "    print(\"I am an Admin\")"
   ]
  },
  {
   "cell_type": "code",
   "execution_count": 12,
   "metadata": {},
   "outputs": [
    {
     "name": "stdout",
     "output_type": "stream",
     "text": [
      "I am an Admin\n"
     ]
    }
   ],
   "source": [
    "e1 = Employee()\n",
    "e2 = Employee()\n",
    "e3 = Admin()\n",
    "e3.say_id()"
   ]
  },
  {
   "cell_type": "markdown",
   "metadata": {},
   "source": [
    "# OBJECT-ORIENTED PROGRAMMING\n",
    "# super()\n",
    "When overriding methods we sometimes want to still access the behavior of the parent method. In order to do that we need a way to call the method of the parent class. Python gives us a way to do that using super().\n",
    "\n",
    "super() gives us a proxy object. With this proxy object, we can invoke the method of an object’s parent class (also called its superclass). We call the required function as a method on super():\n",
    "\n",
    "class Animal:\n",
    "  def __init__(self, name, sound=\"Grrrr\"):\n",
    "    self.name = name\n",
    "    self.sound = sound\n",
    " \n",
    "  def make_noise(self):\n",
    "    print(\"{} says, {}\".format(self.name, self.sound))\n",
    " \n",
    "class Cat(Animal):\n",
    "  def __init__(self, name):\n",
    "    super().__init__(name, \"Meow!\") \n",
    " \n",
    "pet_cat = Cat(\"Rachel\")\n",
    "pet_cat.make_noise() # Rachel says, Meow!\n",
    "In the above example, we have the class Animal and the subclass Cat. Animal has 2 attributes, name and sound and one method, .make_noise(). The .make_noise() method outputs the name and sound of an instance.\n",
    "\n",
    "The Cat subclass has an .__init__() method which means the .__init__() method of its superclass, Animal will not be called when creating an instance of Cat. The .__init__() method from the subclass is overriding the one from the superclass.\n",
    "\n",
    "To still invoke the .__init__() method of Animal, super().__init__(name, \"Meow!\") is called inside the subclass .__init__() method. This additional logic allows us to add the \"Meow\" sound from within the Cat class, but still use the .__init__() method of the Animal class.\n",
    "\n",
    "super() is used in subclasses to invoke a needed behavior from the superclass alongside the behavior of a subclass method.\n",
    "\n",
    "Instructions\n",
    "1.\n",
    "Once the managers found out that the admins were walking around just telling people they are admins, the managers stepped in and made them also say their ID.\n",
    "\n",
    "Inside the Admin class:\n",
    "\n",
    "Add a line that also calls the Employee class .say_id() method\n",
    "Now the output should be the admin’s ID and that they are an admin"
   ]
  },
  {
   "cell_type": "code",
   "execution_count": 13,
   "metadata": {},
   "outputs": [
    {
     "name": "stdout",
     "output_type": "stream",
     "text": [
      "Rachel says, Meow!\n"
     ]
    }
   ],
   "source": [
    "class Animal:\n",
    "  def __init__(self, name, sound=\"Grrrr\"):\n",
    "    self.name = name\n",
    "    self.sound = sound\n",
    " \n",
    "  def make_noise(self):\n",
    "    print(\"{} says, {}\".format(self.name, self.sound))\n",
    " \n",
    "class Cat(Animal):\n",
    "  def __init__(self, name):\n",
    "    super().__init__(name, \"Meow!\") \n",
    " \n",
    "pet_cat = Cat(\"Rachel\")\n",
    "pet_cat.make_noise() # Rachel says, Meow!"
   ]
  },
  {
   "cell_type": "code",
   "execution_count": 16,
   "metadata": {},
   "outputs": [
    {
     "name": "stdout",
     "output_type": "stream",
     "text": [
      "Maisy says, Roar\n"
     ]
    }
   ],
   "source": [
    "class Lion(Animal):\n",
    "    def __init__(self, name):\n",
    "        super().__init__(name, \"Roar\")\n",
    " \n",
    "pet2 = Lion(\"Maisy\")\n",
    "pet2.make_noise()"
   ]
  },
  {
   "cell_type": "code",
   "execution_count": 17,
   "metadata": {},
   "outputs": [
    {
     "name": "stdout",
     "output_type": "stream",
     "text": [
      "My id is 3.\n",
      "I am an Admin\n"
     ]
    }
   ],
   "source": [
    "class Employee():\n",
    "  new_id = 1\n",
    "  def __init__(self):\n",
    "    self.id = Employee.new_id\n",
    "    Employee.new_id += 1\n",
    "\n",
    "  def say_id(self):\n",
    "    print(\"My id is {}.\".format(self.id))\n",
    "\n",
    "class Admin(Employee):\n",
    "  def say_id(self):\n",
    "    super().say_id()\n",
    "    print(\"I am an Admin\")\n",
    "\n",
    "e1 = Employee()\n",
    "e2 = Employee()\n",
    "e3 = Admin()\n",
    "e3.say_id()"
   ]
  }
 ],
 "metadata": {
  "kernelspec": {
   "display_name": "Python 3",
   "language": "python",
   "name": "python3"
  },
  "language_info": {
   "codemirror_mode": {
    "name": "ipython",
    "version": 3
   },
   "file_extension": ".py",
   "mimetype": "text/x-python",
   "name": "python",
   "nbconvert_exporter": "python",
   "pygments_lexer": "ipython3",
   "version": "3.9.5"
  }
 },
 "nbformat": 4,
 "nbformat_minor": 4
}
