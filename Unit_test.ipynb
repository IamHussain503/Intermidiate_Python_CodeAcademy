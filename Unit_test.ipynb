{
 "cells": [
  {
   "cell_type": "code",
   "execution_count": null,
   "metadata": {},
   "outputs": [],
   "source": []
  },
  {
   "cell_type": "code",
   "execution_count": null,
   "metadata": {},
   "outputs": [],
   "source": []
  },
  {
   "cell_type": "code",
   "execution_count": 2,
   "metadata": {},
   "outputs": [
    {
     "ename": "AssertionError",
     "evalue": "Expected times_ten(20) to return 200, instead got 2000",
     "output_type": "error",
     "traceback": [
      "\u001b[1;31m---------------------------------------------------------------------------\u001b[0m",
      "\u001b[1;31mAssertionError\u001b[0m                            Traceback (most recent call last)",
      "\u001b[1;32m<ipython-input-2-4f0a96443061>\u001b[0m in \u001b[0;36m<module>\u001b[1;34m\u001b[0m\n\u001b[0;32m      3\u001b[0m \u001b[1;33m\u001b[0m\u001b[0m\n\u001b[0;32m      4\u001b[0m \u001b[0mresult\u001b[0m \u001b[1;33m=\u001b[0m \u001b[0mtimes_ten\u001b[0m\u001b[1;33m(\u001b[0m\u001b[1;36m20\u001b[0m\u001b[1;33m)\u001b[0m\u001b[1;33m\u001b[0m\u001b[1;33m\u001b[0m\u001b[0m\n\u001b[1;32m----> 5\u001b[1;33m \u001b[1;32massert\u001b[0m \u001b[0mresult\u001b[0m \u001b[1;33m==\u001b[0m \u001b[1;36m200\u001b[0m\u001b[1;33m,\u001b[0m \u001b[1;34m'Expected times_ten(20) to return 200, instead got '\u001b[0m \u001b[1;33m+\u001b[0m \u001b[0mstr\u001b[0m\u001b[1;33m(\u001b[0m\u001b[0mresult\u001b[0m\u001b[1;33m)\u001b[0m\u001b[1;33m\u001b[0m\u001b[1;33m\u001b[0m\u001b[0m\n\u001b[0m",
      "\u001b[1;31mAssertionError\u001b[0m: Expected times_ten(20) to return 200, instead got 2000"
     ]
    }
   ],
   "source": [
    "def times_ten(number):\n",
    "    return number * 100\n",
    " \n",
    "result = times_ten(20)\n",
    "assert result == 200, 'Expected times_ten(20) to return 200, instead got ' + str(result)"
   ]
  },
  {
   "cell_type": "code",
   "execution_count": null,
   "metadata": {},
   "outputs": [],
   "source": [
    "destinations = {\n",
    "  'BUD': 'Budapest',\n",
    "  'CMN': 'Casablanca',\n",
    "  'IST': 'Istanbul'\n",
    "}\n",
    "print('Welcome to Small World Airlines!')\n",
    "print('What is the airport code of your travel destination?')\n",
    "destination = 'BUD'\n",
    "\n",
    "\n",
    "# Write your code below: \n",
    "assert destination in destinations.keys() , 'Sorry, Small World currently does not fly to this destination!'\n",
    "city_name = destinations[destination]\n",
    "print('Great! Retrieving information for your flight to ...' + city_name)\n"
   ]
  },
  {
   "cell_type": "markdown",
   "metadata": {},
   "source": [
    "# Built-in Unitest in python"
   ]
  },
  {
   "cell_type": "code",
   "execution_count": 4,
   "metadata": {},
   "outputs": [
    {
     "name": "stderr",
     "output_type": "stream",
     "text": [
      "E\n",
      "======================================================================\n",
      "ERROR: C:\\Users\\Administrator\\AppData\\Roaming\\jupyter\\runtime\\kernel-75223d9d-7f27-44e7-84b7-c9d5557f8d4e (unittest.loader._FailedTest)\n",
      "----------------------------------------------------------------------\n",
      "AttributeError: module '__main__' has no attribute 'C:\\Users\\Administrator\\AppData\\Roaming\\jupyter\\runtime\\kernel-75223d9d-7f27-44e7-84b7-c9d5557f8d4e'\n",
      "\n",
      "----------------------------------------------------------------------\n",
      "Ran 1 test in 0.003s\n",
      "\n",
      "FAILED (errors=1)\n"
     ]
    },
    {
     "ename": "SystemExit",
     "evalue": "True",
     "output_type": "error",
     "traceback": [
      "An exception has occurred, use %tb to see the full traceback.\n",
      "\u001b[1;31mSystemExit\u001b[0m\u001b[1;31m:\u001b[0m True\n"
     ]
    },
    {
     "name": "stderr",
     "output_type": "stream",
     "text": [
      "c:\\users\\administrator\\appdata\\local\\programs\\python\\python39\\lib\\site-packages\\IPython\\core\\interactiveshell.py:3426: UserWarning: To exit: use 'exit', 'quit', or Ctrl-D.\n",
      "  warn(\"To exit: use 'exit', 'quit', or Ctrl-D.\", stacklevel=1)\n"
     ]
    }
   ],
   "source": [
    "# Importing unittest framework\n",
    "import unittest\n",
    " \n",
    "# Function that gets tested\n",
    "def times_ten(number):\n",
    "    return number * 100\n",
    " \n",
    "# Test class\n",
    "class TestTimesTen(unittest.TestCase):\n",
    "    def test_multiply_ten_by_zero(self):\n",
    "        self.assertEqual(times_ten(0), 0, 'Expected times_ten(0) to return 0')\n",
    " \n",
    "    def test_multiply_ten_by_one_million(self):\n",
    "        self.assertEqual(times_ten(1000000), 10000000, 'Expected times_ten(1000000) to return 10000000')\n",
    " \n",
    "    def test_multiply_ten_by_negative_number(self):\n",
    "        self.assertEqual(times_ten(-10), -100, 'Expected add_times_ten(-10) to return -100')\n",
    " \n",
    "# Run the tests\n",
    "unittest.main()"
   ]
  },
  {
   "cell_type": "code",
   "execution_count": 7,
   "metadata": {},
   "outputs": [
    {
     "name": "stderr",
     "output_type": "stream",
     "text": [
      "E\n",
      "======================================================================\n",
      "ERROR: C:\\Users\\Administrator\\AppData\\Roaming\\jupyter\\runtime\\kernel-75223d9d-7f27-44e7-84b7-c9d5557f8d4e (unittest.loader._FailedTest)\n",
      "----------------------------------------------------------------------\n",
      "AttributeError: module '__main__' has no attribute 'C:\\Users\\Administrator\\AppData\\Roaming\\jupyter\\runtime\\kernel-75223d9d-7f27-44e7-84b7-c9d5557f8d4e'\n",
      "\n",
      "----------------------------------------------------------------------\n",
      "Ran 1 test in 0.002s\n",
      "\n",
      "FAILED (errors=1)\n"
     ]
    },
    {
     "ename": "SystemExit",
     "evalue": "True",
     "output_type": "error",
     "traceback": [
      "An exception has occurred, use %tb to see the full traceback.\n",
      "\u001b[1;31mSystemExit\u001b[0m\u001b[1;31m:\u001b[0m True\n"
     ]
    },
    {
     "name": "stderr",
     "output_type": "stream",
     "text": [
      "c:\\users\\administrator\\appdata\\local\\programs\\python\\python39\\lib\\site-packages\\IPython\\core\\interactiveshell.py:3426: UserWarning: To exit: use 'exit', 'quit', or Ctrl-D.\n",
      "  warn(\"To exit: use 'exit', 'quit', or Ctrl-D.\", stacklevel=1)\n"
     ]
    }
   ],
   "source": [
    "# your code below:\n",
    "import unittest\n",
    "class NearestExitTests(unittest.TestCase):\n",
    "  # Write your code below:\n",
    "  def test_row_1(self):\n",
    "    self.assertEqual(get_nearest_exit(1),'front', 'The nearest exit to row 1 is in the front!')\n",
    "\n",
    "  def test_row_20(self):\n",
    "    self.assertEqual(get_nearest_exit(20),'middle', 'The nearest exit to row 20 is in the middle!')\n",
    "\n",
    "  def test_row_40(self):\n",
    "    self.assertEqual(get_nearest_exit(40),'back', 'The nearest exit to row 40 is in the back!')\n",
    "\n",
    "  \n",
    "def get_nearest_exit(row_number):\n",
    "  if row_number < 15:\n",
    "    location = 'front'\n",
    "  elif row_number < 30:\n",
    "    location = 'middle'\n",
    "  else:\n",
    "    location = 'back'\n",
    "  return location\n",
    "\n",
    "unittest.main()"
   ]
  },
  {
   "cell_type": "code",
   "execution_count": 9,
   "metadata": {},
   "outputs": [
    {
     "ename": "TypeError",
     "evalue": "assertTrue() missing 1 required positional argument: 'expr'",
     "output_type": "error",
     "traceback": [
      "\u001b[1;31m---------------------------------------------------------------------------\u001b[0m",
      "\u001b[1;31mTypeError\u001b[0m                                 Traceback (most recent call last)",
      "\u001b[1;32m<ipython-input-9-d401db54f41a>\u001b[0m in \u001b[0;36m<module>\u001b[1;34m\u001b[0m\n\u001b[1;32m----> 1\u001b[1;33m \u001b[0munittest\u001b[0m\u001b[1;33m.\u001b[0m\u001b[0mTestCase\u001b[0m\u001b[1;33m.\u001b[0m\u001b[0massertTrue\u001b[0m\u001b[1;33m(\u001b[0m\u001b[1;36m0\u001b[0m\u001b[1;33m)\u001b[0m\u001b[1;33m\u001b[0m\u001b[1;33m\u001b[0m\u001b[0m\n\u001b[0m",
      "\u001b[1;31mTypeError\u001b[0m: assertTrue() missing 1 required positional argument: 'expr'"
     ]
    }
   ],
   "source": [
    "unittest.TestCase.assertTrue(0)"
   ]
  },
  {
   "cell_type": "code",
   "execution_count": 10,
   "metadata": {},
   "outputs": [],
   "source": [
    "def get_daily_movie():\n",
    "    print('Retrieving the movie set to play on today\\'s flight...')\n",
    "    return 'Parasite'\n",
    "\n",
    "\n",
    "def get_licensed_movies():\n",
    "    print('Retrieving the list of licensed movies from the database...')\n",
    "    licensed_movies = ['Parasite','Nomadland', 'Roma']\n",
    "    return licensed_movies\n",
    "\n",
    "\n",
    "def get_wifi_status():\n",
    "    print('Checking WiFi signal...')\n",
    "    print('WiFi is inactive')\n",
    "    return False"
   ]
  },
  {
   "cell_type": "code",
   "execution_count": null,
   "metadata": {},
   "outputs": [],
   "source": []
  },
  {
   "cell_type": "code",
   "execution_count": 12,
   "metadata": {},
   "outputs": [
    {
     "name": "stderr",
     "output_type": "stream",
     "text": [
      "E\n",
      "======================================================================\n",
      "ERROR: C:\\Users\\Administrator\\AppData\\Roaming\\jupyter\\runtime\\kernel-75223d9d-7f27-44e7-84b7-c9d5557f8d4e (unittest.loader._FailedTest)\n",
      "----------------------------------------------------------------------\n",
      "AttributeError: module '__main__' has no attribute 'C:\\Users\\Administrator\\AppData\\Roaming\\jupyter\\runtime\\kernel-75223d9d-7f27-44e7-84b7-c9d5557f8d4e'\n",
      "\n",
      "----------------------------------------------------------------------\n",
      "Ran 1 test in 0.002s\n",
      "\n",
      "FAILED (errors=1)\n"
     ]
    },
    {
     "ename": "SystemExit",
     "evalue": "True",
     "output_type": "error",
     "traceback": [
      "An exception has occurred, use %tb to see the full traceback.\n",
      "\u001b[1;31mSystemExit\u001b[0m\u001b[1;31m:\u001b[0m True\n"
     ]
    },
    {
     "name": "stderr",
     "output_type": "stream",
     "text": [
      "c:\\users\\administrator\\appdata\\local\\programs\\python\\python39\\lib\\site-packages\\IPython\\core\\interactiveshell.py:3426: UserWarning: To exit: use 'exit', 'quit', or Ctrl-D.\n",
      "  warn(\"To exit: use 'exit', 'quit', or Ctrl-D.\", stacklevel=1)\n"
     ]
    }
   ],
   "source": [
    "import unittest\n",
    "\n",
    "# Write your code below: \n",
    "class EntertainmentSystemTests(unittest.TestCase):\n",
    "\n",
    "  def test_movie_license(self):\n",
    "    daily_movie = get_daily_movie()\n",
    "    licensed_movies = get_licensed_movies()\n",
    "    self.assertIn( daily_movie,licensed_movies)\n",
    "\n",
    "\n",
    "  def test_wifi_status(self):\n",
    "    wifi_enabled = get_wifi_status()\n",
    "    self.assertTrue(wifi_enabled) \n",
    "\n",
    "\n",
    "unittest.main()\n"
   ]
  },
  {
   "cell_type": "code",
   "execution_count": 13,
   "metadata": {},
   "outputs": [],
   "source": [
    "def get_daily_movie():\n",
    "    print('Retrieving the movie set to play on today\\'s flight...')\n",
    "    return 'Parasite'\n",
    "\n",
    "\n",
    "def get_licensed_movies():\n",
    "    print('Retrieving the list of licenses movies from the database...')\n",
    "    licensed_movies = ['Parasite', 'Nomadland', 'Roma']\n",
    "    return licensed_movies\n",
    "\n",
    "\n",
    "def get_wifi_status():\n",
    "    print('Checking WiFi signal...')\n",
    "    print('WiFi is active')\n",
    "    return True\n",
    "\n",
    "def get_device_temp():\n",
    "    print('Reading the temperature of the entertainment system device...')\n",
    "    return 40\n",
    "\n",
    "def get_maximum_display_brightness():\n",
    "    print('Calculating maximum display brightness in nits...')\n",
    "    return 399.99999999"
   ]
  },
  {
   "cell_type": "code",
   "execution_count": 14,
   "metadata": {},
   "outputs": [
    {
     "name": "stderr",
     "output_type": "stream",
     "text": [
      "E\n",
      "======================================================================\n",
      "ERROR: C:\\Users\\Administrator\\AppData\\Roaming\\jupyter\\runtime\\kernel-75223d9d-7f27-44e7-84b7-c9d5557f8d4e (unittest.loader._FailedTest)\n",
      "----------------------------------------------------------------------\n",
      "AttributeError: module '__main__' has no attribute 'C:\\Users\\Administrator\\AppData\\Roaming\\jupyter\\runtime\\kernel-75223d9d-7f27-44e7-84b7-c9d5557f8d4e'\n",
      "\n",
      "----------------------------------------------------------------------\n",
      "Ran 1 test in 0.002s\n",
      "\n",
      "FAILED (errors=1)\n"
     ]
    },
    {
     "ename": "SystemExit",
     "evalue": "True",
     "output_type": "error",
     "traceback": [
      "An exception has occurred, use %tb to see the full traceback.\n",
      "\u001b[1;31mSystemExit\u001b[0m\u001b[1;31m:\u001b[0m True\n"
     ]
    },
    {
     "name": "stderr",
     "output_type": "stream",
     "text": [
      "c:\\users\\administrator\\appdata\\local\\programs\\python\\python39\\lib\\site-packages\\IPython\\core\\interactiveshell.py:3426: UserWarning: To exit: use 'exit', 'quit', or Ctrl-D.\n",
      "  warn(\"To exit: use 'exit', 'quit', or Ctrl-D.\", stacklevel=1)\n"
     ]
    }
   ],
   "source": [
    "import unittest\n",
    "\n",
    "class EntertainmentSystemTests(unittest.TestCase):\n",
    "\n",
    "  def test_movie_license(self):\n",
    "    daily_movie = get_daily_movie()\n",
    "    licensed_movies = get_licensed_movies()\n",
    "    self.assertIn(daily_movie, licensed_movies)\n",
    "\n",
    "  def test_wifi_status(self):\n",
    "    wifi_enabled = get_wifi_status()\n",
    "    self.assertTrue(wifi_enabled)\n",
    "\n",
    "  # Write your code below:\n",
    "  def test_maximum_display_brightness(self):\n",
    "    brightness =  get_maximum_display_brightness()\n",
    "    self.assertAlmostEqual(brightness, 400)\n",
    "  \n",
    "  def test_device_temperature(self):\n",
    "    device_temp = get_device_temp()\n",
    "    self.assertLess(device_temp, 35)\n",
    "\n",
    "unittest.main()"
   ]
  },
  {
   "cell_type": "markdown",
   "metadata": {},
   "source": [
    "# Unittest -Parameterizing Tests"
   ]
  },
  {
   "cell_type": "code",
   "execution_count": 15,
   "metadata": {},
   "outputs": [],
   "source": [
    "import unittest\n",
    " \n",
    "# The function we want to test\n",
    "def times_ten(number):\n",
    "    return number * 100\n",
    " \n",
    "# Our test class\n",
    "class TestTimesTen(unittest.TestCase):\n",
    " \n",
    "    # A test method\n",
    "    def test_times_ten(self):\n",
    "        for num in [0, 1000000, -10]:\n",
    "            with self.subTest():\n",
    "                expected_result = num * 10\n",
    "                message = 'Expected times_ten(' + str(num) + ') to return ' + str(expected_result)\n",
    "                self.assertEqual(times_ten(num), expected_result, message)"
   ]
  },
  {
   "cell_type": "code",
   "execution_count": 16,
   "metadata": {},
   "outputs": [
    {
     "name": "stderr",
     "output_type": "stream",
     "text": [
      "E\n",
      "======================================================================\n",
      "ERROR: C:\\Users\\Administrator\\AppData\\Roaming\\jupyter\\runtime\\kernel-75223d9d-7f27-44e7-84b7-c9d5557f8d4e (unittest.loader._FailedTest)\n",
      "----------------------------------------------------------------------\n",
      "AttributeError: module '__main__' has no attribute 'C:\\Users\\Administrator\\AppData\\Roaming\\jupyter\\runtime\\kernel-75223d9d-7f27-44e7-84b7-c9d5557f8d4e'\n",
      "\n",
      "----------------------------------------------------------------------\n",
      "Ran 1 test in 0.004s\n",
      "\n",
      "FAILED (errors=1)\n"
     ]
    },
    {
     "ename": "SystemExit",
     "evalue": "True",
     "output_type": "error",
     "traceback": [
      "An exception has occurred, use %tb to see the full traceback.\n",
      "\u001b[1;31mSystemExit\u001b[0m\u001b[1;31m:\u001b[0m True\n"
     ]
    },
    {
     "name": "stderr",
     "output_type": "stream",
     "text": [
      "c:\\users\\administrator\\appdata\\local\\programs\\python\\python39\\lib\\site-packages\\IPython\\core\\interactiveshell.py:3426: UserWarning: To exit: use 'exit', 'quit', or Ctrl-D.\n",
      "  warn(\"To exit: use 'exit', 'quit', or Ctrl-D.\", stacklevel=1)\n"
     ]
    }
   ],
   "source": [
    "unittest.main()"
   ]
  },
  {
   "cell_type": "code",
   "execution_count": null,
   "metadata": {},
   "outputs": [],
   "source": [
    "def get_daily_movies():\n",
    "    print('Retrieving the movie set to play on today\\'s flight...')\n",
    "    return ['Parasite', 'Nomadla', 'Roma', 'Black Widow', 'Spiral']\n",
    "\n",
    "\n",
    "def get_licensed_movies():\n",
    "    print('Retrieving the list of licenses movies from the database...')\n",
    "    licensed_movies = ['Parasite', 'Nomadland', 'Roma']\n",
    "    return licensed_movies\n"
   ]
  },
  {
   "cell_type": "code",
   "execution_count": 17,
   "metadata": {},
   "outputs": [
    {
     "name": "stderr",
     "output_type": "stream",
     "text": [
      "E\n",
      "======================================================================\n",
      "ERROR: C:\\Users\\Administrator\\AppData\\Roaming\\jupyter\\runtime\\kernel-75223d9d-7f27-44e7-84b7-c9d5557f8d4e (unittest.loader._FailedTest)\n",
      "----------------------------------------------------------------------\n",
      "AttributeError: module '__main__' has no attribute 'C:\\Users\\Administrator\\AppData\\Roaming\\jupyter\\runtime\\kernel-75223d9d-7f27-44e7-84b7-c9d5557f8d4e'\n",
      "\n",
      "----------------------------------------------------------------------\n",
      "Ran 1 test in 0.002s\n",
      "\n",
      "FAILED (errors=1)\n"
     ]
    },
    {
     "ename": "SystemExit",
     "evalue": "True",
     "output_type": "error",
     "traceback": [
      "An exception has occurred, use %tb to see the full traceback.\n",
      "\u001b[1;31mSystemExit\u001b[0m\u001b[1;31m:\u001b[0m True\n"
     ]
    },
    {
     "name": "stderr",
     "output_type": "stream",
     "text": [
      "c:\\users\\administrator\\appdata\\local\\programs\\python\\python39\\lib\\site-packages\\IPython\\core\\interactiveshell.py:3426: UserWarning: To exit: use 'exit', 'quit', or Ctrl-D.\n",
      "  warn(\"To exit: use 'exit', 'quit', or Ctrl-D.\", stacklevel=1)\n"
     ]
    }
   ],
   "source": [
    "import unittest\n",
    "\n",
    "\n",
    "class EntertainmentSystemTests(unittest.TestCase):\n",
    "\n",
    "  def test_movie_license(self):\n",
    "    daily_movies = get_daily_movies()\n",
    "    licensed_movies = get_licensed_movies()\n",
    "\n",
    "    # Write your code below:\n",
    "    for movie in daily_movies:\n",
    "      print(movie)\n",
    "      self.assertIn(movie, licensed_movies)\n",
    "\n",
    "unittest.main()"
   ]
  },
  {
   "cell_type": "code",
   "execution_count": null,
   "metadata": {},
   "outputs": [],
   "source": []
  }
 ],
 "metadata": {
  "kernelspec": {
   "display_name": "Python 3",
   "language": "python",
   "name": "python3"
  },
  "language_info": {
   "codemirror_mode": {
    "name": "ipython",
    "version": 3
   },
   "file_extension": ".py",
   "mimetype": "text/x-python",
   "name": "python",
   "nbconvert_exporter": "python",
   "pygments_lexer": "ipython3",
   "version": "3.9.5"
  }
 },
 "nbformat": 4,
 "nbformat_minor": 4
}
