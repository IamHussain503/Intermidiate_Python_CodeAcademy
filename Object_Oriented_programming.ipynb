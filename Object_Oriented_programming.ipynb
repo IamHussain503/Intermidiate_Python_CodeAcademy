{
 "cells": [
  {
   "cell_type": "markdown",
   "metadata": {},
   "source": [
    "# OOP"
   ]
  },
  {
   "cell_type": "code",
   "execution_count": 1,
   "metadata": {},
   "outputs": [],
   "source": [
    "class Dog:\n",
    "  sound = \"Woof\"\n",
    " \n",
    "  def __init__(self, name, age):\n",
    "    self.name = name\n",
    "    self.age = age\n",
    " \n",
    "  def bark(self):\n",
    "    print(Dog.sound)"
   ]
  },
  {
   "cell_type": "code",
   "execution_count": 3,
   "metadata": {},
   "outputs": [],
   "source": [
    "german = Dog('puppy', 2)\n",
    "bull = Dog('dogi', 1)"
   ]
  },
  {
   "cell_type": "code",
   "execution_count": 4,
   "metadata": {},
   "outputs": [
    {
     "name": "stdout",
     "output_type": "stream",
     "text": [
      "Woof\n"
     ]
    }
   ],
   "source": [
    "german.bark()"
   ]
  },
  {
   "cell_type": "code",
   "execution_count": 5,
   "metadata": {},
   "outputs": [
    {
     "name": "stdout",
     "output_type": "stream",
     "text": [
      "Woof\n"
     ]
    }
   ],
   "source": [
    "bull.bark()"
   ]
  },
  {
   "cell_type": "code",
   "execution_count": 1,
   "metadata": {},
   "outputs": [],
   "source": [
    "# Write your code below\n",
    "# Write your code below\n",
    "class Employee:\n",
    "  new_id = 1\n",
    "  def __init__(self):\n",
    "    self.id = Employee.new_id\n",
    "    Employee.new_id += 1\n",
    "    print(Employee.new_id)\n",
    "\n",
    "  def say_id(self):\n",
    "    print(\"My id is\" , self.id)"
   ]
  },
  {
   "cell_type": "code",
   "execution_count": 3,
   "metadata": {},
   "outputs": [
    {
     "name": "stdout",
     "output_type": "stream",
     "text": [
      "2\n"
     ]
    }
   ],
   "source": [
    "e1 = Employee()"
   ]
  },
  {
   "cell_type": "code",
   "execution_count": 4,
   "metadata": {},
   "outputs": [
    {
     "data": {
      "text/plain": [
       "1"
      ]
     },
     "execution_count": 4,
     "metadata": {},
     "output_type": "execute_result"
    }
   ],
   "source": [
    "e1.id"
   ]
  },
  {
   "cell_type": "code",
   "execution_count": 5,
   "metadata": {},
   "outputs": [
    {
     "name": "stdout",
     "output_type": "stream",
     "text": [
      "3\n"
     ]
    }
   ],
   "source": [
    "e2 = Employee()"
   ]
  },
  {
   "cell_type": "code",
   "execution_count": 7,
   "metadata": {},
   "outputs": [
    {
     "name": "stdout",
     "output_type": "stream",
     "text": [
      "My id is 2\n"
     ]
    }
   ],
   "source": [
    "e2.say_id()"
   ]
  },
  {
   "cell_type": "markdown",
   "metadata": {},
   "source": [
    "# OOP Pillar: Inheritance\n",
    "When we hear the word “inheritance”, code may not be the first thing that springs to mind; we’re probably more likely to think of inheriting genetic traits, like the eye color from a mother or dimples from a grandfather. In the world of Object-Oriented Programming, inheritance is actually one of the core pillars for creating intricate structures with our classes. To dive into this concept, let’s examine a Dog and Cat class:\n",
    "\n",
    "class Dog:\n",
    " \n",
    "  def bark(self):\n",
    "    print('Woof!')\n",
    " \n",
    "class Cat:\n",
    " \n",
    "  def meow(self):\n",
    "    print('Meow!')\n",
    "These two classes define two distinct animals with their own methods of communication. Now, what if we wanted to give both of these classes the ability to eat by calling a method called eat(). We could write the method twice in both classes but then we would be repeating code! We also may need to write it inside every specific animal class we ever create. Instead, we can utilize the power of inheritance.\n",
    "\n",
    "Since both Cat and Dog fall under the classification of Animal we can create a parent class to represent properties and methods they can both share! Here is what it might look like:\n",
    "\n",
    "class Animal: \n",
    "  def eat(self): \n",
    "    print(\"Nom Nom Nom...eating food!\")\n",
    "Great, we have an Animal class with a eat() method, but how do we actually get the Dog and Cat class to inherit this method so it can be shared with both classes? Well here is what the base structure will look like:\n",
    "\n",
    "class ParentClass:\n",
    "  #class methods/properties...\n",
    " \n",
    "class ChildClass(ParentClass):\n",
    "  #class methods/properties...\n",
    "If we apply this structure to our example, our code looks like this:\n",
    "\n",
    "class Dog(Animal):\n",
    "  def bark(self):\n",
    "    print('Bark!')\n",
    " \n",
    "class Cat(Animal):\n",
    "  def meow(self):\n",
    "    print('Meow!')\n",
    "Now, let’s see inheritance in action:\n",
    "\n",
    "fluffy = Dog()\n",
    "zoomie = Cat()\n",
    " \n",
    "fluffy.eat() # Nom Nom Nom...eating food!\n",
    "zoomie.eat() # Nom Nom Nom...eating food!\n",
    "As we can see, there are some clear advantages of utilizing inheritance. Not only are we able to reuse methods across multiple classes using our parent class, but we are also able to create parent-child relationships between entities!\n",
    "\n",
    "Instructions\n",
    "1.\n",
    "Now that there is an Employee class we want to make a more specific type of employee, Admin.\n",
    "\n",
    "In script.py:\n",
    "\n",
    "Create an Admin class that inherits from the Employee class\n",
    "Inside the body of the class insert the pass statement\n",
    "Checkpoint 2 Passed\n",
    "\n",
    "Stuck? Get a hint\n",
    "2.\n",
    "Now it’s time to test out your inheritance implementation.\n",
    "\n",
    "At the bottom of script.py:\n",
    "\n",
    "Define a variable e3 and set it to an instance of the Admin class\n",
    "Now if you call the .say_id() method of the Admin instance in e3, you will get output with the instance’s id."
   ]
  },
  {
   "cell_type": "code",
   "execution_count": null,
   "metadata": {},
   "outputs": [],
   "source": [
    "class Employee():\n",
    "  new_id = 1\n",
    "  def __init__(self):\n",
    "    self.id = Employee.new_id\n",
    "    Employee.new_id += 1\n",
    "\n",
    "  def say_id(self):\n",
    "    print(\"My id is {}.\".format(self.id))\n",
    "\n",
    "class Admin(Employee):\n",
    "  # Write your code below\n",
    "  \n",
    "\n",
    "e1 = Employee()\n",
    "e2 = Employee()\n",
    "e3 = Admin()\n",
    "e3.say_id()"
   ]
  },
  {
   "cell_type": "markdown",
   "metadata": {},
   "source": [
    "# OBJECT-ORIENTED PROGRAMMING\n",
    "# Overriding Methods\n",
    "When implementing inheritance, a child class may want to change the behavior of a method from its parent class. In Python, all we have to do is override a method definition. An overriding method in a subclass is one that has the same definition as the parent class but contains different behavior.\n",
    "\n",
    "class Animal:\n",
    "  def __init__(self, name):\n",
    "    self.name = name\n",
    " \n",
    "  def make_noise(self):\n",
    "    print(\"{} says, Grrrr\".format(self.name))\n",
    " \n",
    "pet1 = Animal(\"Rex\")\n",
    "pet1.make_noise() # Rex says, Grrrr\n",
    "The animal class above has one attribute, self.name and one method, .make_noise(). The .make_noise() method outputs a somewhat generic animal sound, \"Rex says, Grrrr\". If we define a subclass of Animal we may want to make a different sound.\n",
    "\n",
    "class Cat(Animal):\n",
    " \n",
    "  def make_noise(self):\n",
    "    print(\"{} says, Meow!\".format(self.name))\n",
    " \n",
    "pet2 = Cat(\"Maisy\")\n",
    "pet2.make_noise() # Maisy says, Meow!\n",
    "Now we’ve made a class for a more specific type of animal, Cat. It has all the attributes and methods of Animal. However, if you call the .make_noise() method on this instance of Cat it will say “Maisy says, Meow!”.\n",
    "\n",
    "Instructions\n",
    "1.\n",
    "As an admin, you feel it is not important to give your ID, but just let others know they’re talking to an admin.\n",
    "\n",
    "Inside the Admin class:\n",
    "\n",
    "Define a method say_id()\n",
    "Inside the method, output \"I am an Admin\"\n",
    "Now when you call .say_id() with e3 you should see the .say_id() method output from Admin."
   ]
  },
  {
   "cell_type": "code",
   "execution_count": 8,
   "metadata": {},
   "outputs": [
    {
     "name": "stdout",
     "output_type": "stream",
     "text": [
      "Rex says, Grrrr\n"
     ]
    }
   ],
   "source": [
    "class Animal:\n",
    "  def __init__(self, name):\n",
    "    self.name = name\n",
    " \n",
    "  def make_noise(self):\n",
    "    print(\"{} says, Grrrr\".format(self.name))\n",
    " \n",
    "pet1 = Animal(\"Rex\")\n",
    "pet1.make_noise() #"
   ]
  },
  {
   "cell_type": "code",
   "execution_count": 10,
   "metadata": {},
   "outputs": [
    {
     "name": "stdout",
     "output_type": "stream",
     "text": [
      "Dog says, Grrrr\n"
     ]
    }
   ],
   "source": [
    "pet3 = Animal(\"Dog\")\n",
    "pet3.make_noise()"
   ]
  },
  {
   "cell_type": "code",
   "execution_count": 9,
   "metadata": {},
   "outputs": [
    {
     "name": "stdout",
     "output_type": "stream",
     "text": [
      "Maisy says, Meow!\n"
     ]
    }
   ],
   "source": [
    "class Cat(Animal):\n",
    " \n",
    "  def make_noise(self):\n",
    "    print(\"{} says, Meow!\".format(self.name))\n",
    " \n",
    "pet2 = Cat(\"Maisy\")\n",
    "pet2.make_noise() # Maisy says, Meow!"
   ]
  },
  {
   "cell_type": "code",
   "execution_count": 11,
   "metadata": {},
   "outputs": [],
   "source": [
    "class Employee():\n",
    "  new_id = 1\n",
    "  def __init__(self):\n",
    "    self.id = Employee.new_id\n",
    "    Employee.new_id += 1\n",
    "\n",
    "  def say_id(self):\n",
    "    print(\"My id is {}.\".format(self.id))\n",
    "\n",
    "class Admin(Employee):\n",
    "  # Write your code below\n",
    "  def say_id(self):\n",
    "    print(\"I am an Admin\")"
   ]
  },
  {
   "cell_type": "code",
   "execution_count": 12,
   "metadata": {},
   "outputs": [
    {
     "name": "stdout",
     "output_type": "stream",
     "text": [
      "I am an Admin\n"
     ]
    }
   ],
   "source": [
    "e1 = Employee()\n",
    "e2 = Employee()\n",
    "e3 = Admin()\n",
    "e3.say_id()"
   ]
  },
  {
   "cell_type": "markdown",
   "metadata": {},
   "source": [
    "# OBJECT-ORIENTED PROGRAMMING\n",
    "# super()\n",
    "When overriding methods we sometimes want to still access the behavior of the parent method. In order to do that we need a way to call the method of the parent class. Python gives us a way to do that using super().\n",
    "\n",
    "super() gives us a proxy object. With this proxy object, we can invoke the method of an object’s parent class (also called its superclass). We call the required function as a method on super():\n",
    "\n",
    "class Animal:\n",
    "  def __init__(self, name, sound=\"Grrrr\"):\n",
    "    self.name = name\n",
    "    self.sound = sound\n",
    " \n",
    "  def make_noise(self):\n",
    "    print(\"{} says, {}\".format(self.name, self.sound))\n",
    " \n",
    "class Cat(Animal):\n",
    "  def __init__(self, name):\n",
    "    super().__init__(name, \"Meow!\") \n",
    " \n",
    "pet_cat = Cat(\"Rachel\")\n",
    "pet_cat.make_noise() # Rachel says, Meow!\n",
    "In the above example, we have the class Animal and the subclass Cat. Animal has 2 attributes, name and sound and one method, .make_noise(). The .make_noise() method outputs the name and sound of an instance.\n",
    "\n",
    "The Cat subclass has an .__init__() method which means the .__init__() method of its superclass, Animal will not be called when creating an instance of Cat. The .__init__() method from the subclass is overriding the one from the superclass.\n",
    "\n",
    "To still invoke the .__init__() method of Animal, super().__init__(name, \"Meow!\") is called inside the subclass .__init__() method. This additional logic allows us to add the \"Meow\" sound from within the Cat class, but still use the .__init__() method of the Animal class.\n",
    "\n",
    "super() is used in subclasses to invoke a needed behavior from the superclass alongside the behavior of a subclass method.\n",
    "\n",
    "Instructions\n",
    "1.\n",
    "Once the managers found out that the admins were walking around just telling people they are admins, the managers stepped in and made them also say their ID.\n",
    "\n",
    "Inside the Admin class:\n",
    "\n",
    "Add a line that also calls the Employee class .say_id() method\n",
    "Now the output should be the admin’s ID and that they are an admin"
   ]
  },
  {
   "cell_type": "code",
   "execution_count": 26,
   "metadata": {},
   "outputs": [
    {
     "name": "stdout",
     "output_type": "stream",
     "text": [
      "Rachel says, mew age is 12\n",
      "puppy says, wow age is 4\n"
     ]
    }
   ],
   "source": [
    "class Animal:\n",
    "  def __init__(self, name, sound=\"Grrrr\"):\n",
    "    self.name = name\n",
    "    self.sound = sound\n",
    " \n",
    "  def make_noise(self,age):\n",
    "    self.age = age\n",
    "    print(\"{} says, {} age is {}\".format(self.name, self.sound, self.age))\n",
    " \n",
    "class Cat(Animal):\n",
    "  def __init__(self, name, sound):\n",
    "    super().__init__(name, sound)\n",
    "  \n",
    "  def make_noise(self, age):\n",
    "        super().make_noise(age)\n",
    "        \n",
    "class Dog(Animal):\n",
    "  def __init__(self, name, sound):\n",
    "    super().__init__(name, sound)\n",
    "  \n",
    "  def make_noise(self, age):\n",
    "        super().make_noise(age)\n",
    "    \n",
    "    \n",
    " \n",
    "pet_cat = Cat(\"Rachel\", \"mew\")\n",
    "pet_dog = Dog(\"puppy\" , \"wow\")\n",
    "pet_cat.make_noise(12) # Rachel says, Meow!\n",
    "pet_dog.make_noise(4)"
   ]
  },
  {
   "cell_type": "code",
   "execution_count": 16,
   "metadata": {},
   "outputs": [
    {
     "name": "stdout",
     "output_type": "stream",
     "text": [
      "Maisy says, Roar\n"
     ]
    }
   ],
   "source": [
    "class Lion(Animal):\n",
    "    def __init__(self, name):\n",
    "        super().__init__(name, \"Roar\")\n",
    " \n",
    "pet2 = Lion(\"Maisy\")\n",
    "pet2.make_noise()"
   ]
  },
  {
   "cell_type": "code",
   "execution_count": 17,
   "metadata": {},
   "outputs": [
    {
     "name": "stdout",
     "output_type": "stream",
     "text": [
      "My id is 3.\n",
      "I am an Admin\n"
     ]
    }
   ],
   "source": [
    "class Employee():\n",
    "  new_id = 1\n",
    "  def __init__(self):\n",
    "    self.id = Employee.new_id\n",
    "    Employee.new_id += 1\n",
    "\n",
    "  def say_id(self):\n",
    "    print(\"My id is {}.\".format(self.id))\n",
    "\n",
    "class Admin(Employee):\n",
    "  def say_id(self):\n",
    "    super().say_id()\n",
    "    print(\"I am an Admin\")\n",
    "\n",
    "e1 = Employee()\n",
    "e2 = Employee()\n",
    "e3 = Admin()\n",
    "e3.say_id()"
   ]
  },
  {
   "cell_type": "markdown",
   "metadata": {},
   "source": [
    "# Multiple Inheritance: Part 1\n",
    "Let’s now look at a feature allowed by Python called multiple inheritance. As you may have guessed from the name, this is when a subclass inherits from more than one superclass. One form of multiple inheritance is when there are multiple levels of inheritance. This means a class inherits members from its superclass and its super-superclass.\n",
    "\n",
    "class Animal:\n",
    "  def __init__(self, name):\n",
    "    self.name = name\n",
    " \n",
    "  def say_hi(self):\n",
    "    print(\"{} says, Hi!\".format(self.name))\n",
    " \n",
    "class Cat(Animal):\n",
    "  pass\n",
    " \n",
    "class Angry_Cat(Cat):\n",
    "  pass\n",
    " \n",
    "my_pet = Angry_Cat(\"Mr. Cranky\")\n",
    "my_pet.say_hi() # Mr. Cranky says, Hi!\n",
    "In the above example, Angry_Cat inherits from Cat and Cat inherits from Animal. Both Angry_Cat and Cat have access to the Animal class name attribute and .say_hi() method. Any feature added to Cat, Angry_Cat will also have access to.\n",
    "\n",
    "Instructions\n",
    "1.\n",
    "Managers decide to start walking around more to let people know who is in charge.\n",
    "\n",
    "Inside script.py:\n",
    "\n",
    "Define a Manager class and have it inherit from the Admin class\n",
    "Inside the Manager class, define a method say_id() that outputs that they are in charge.\n",
    "\n",
    "Stuck? Get a hint\n",
    "2.\n",
    "The Managers want to set a good example so they also let people know their ID and that they are an admin.\n",
    "\n",
    "Inside the .say_id() method of Manager:\n",
    "\n",
    "Call the Admin class .say_id() method\n",
    "\n",
    "Stuck? Get a hint\n",
    "3.\n",
    "Now test it out.\n",
    "\n",
    "At the bottom of script.py:\n",
    "\n",
    "Define a variable e4 and set it to an instance of the Manager class\n",
    "Call the .say_id() method of the instance in e4\n",
    "Now you will get output from all 3 classes."
   ]
  },
  {
   "cell_type": "code",
   "execution_count": 28,
   "metadata": {},
   "outputs": [
    {
     "name": "stdout",
     "output_type": "stream",
     "text": [
      "Mr. Cranky says, Hi!\n",
      "Mr. Cranky says , hello\n"
     ]
    }
   ],
   "source": [
    "class Animal:\n",
    "  def __init__(self, name):\n",
    "    self.name = name\n",
    " \n",
    "  def say_hi(self):\n",
    "    print(\"{} says, Hi!\".format(self.name))\n",
    " \n",
    "class Cat(Animal):\n",
    "    \n",
    "    def say_hello(self):\n",
    "        print(\"{} says , hello\".format(self.name))\n",
    " \n",
    "class Angry_Cat(Cat):\n",
    "  pass\n",
    " \n",
    "my_pet = Angry_Cat(\"Mr. Cranky\")\n",
    "my_pet.say_hi() # Mr. Cranky says, Hi!\n",
    "my_pet.say_hello()"
   ]
  },
  {
   "cell_type": "code",
   "execution_count": 29,
   "metadata": {},
   "outputs": [
    {
     "name": "stdout",
     "output_type": "stream",
     "text": [
      "I am incharge\n",
      "My id is 4.\n",
      "I am an admin.\n"
     ]
    }
   ],
   "source": [
    "class Employee():\n",
    "  new_id = 1\n",
    "  def __init__(self):\n",
    "    self.id = Employee.new_id\n",
    "    Employee.new_id += 1\n",
    "\n",
    "  def say_id(self):\n",
    "    print(\"My id is {}.\".format(self.id))\n",
    "\n",
    "class Admin(Employee):\n",
    "  def say_id(self):\n",
    "    super().say_id()\n",
    "    print(\"I am an admin.\")\n",
    "\n",
    "# Write your code below\n",
    "\n",
    "class Manager(Admin):\n",
    "  def say_id(self):\n",
    "    print(\"I am incharge\")\n",
    "    super().say_id()\n",
    "\n",
    "\n",
    "e1 = Employee()\n",
    "e2 = Employee()\n",
    "e3 = Admin()\n",
    "e4 = Manager()\n",
    "e4.say_id()"
   ]
  },
  {
   "cell_type": "markdown",
   "metadata": {},
   "source": [
    "# Multiple Inheritance: Part 2\n",
    "Another form of multiple inhertance involves a subclass that inherits directly from two classes and can use the attributes and methods of both.\n",
    "\n",
    "class Animal:\n",
    "  def __init__(self, name):\n",
    "    self.name = name\n",
    " \n",
    "class Dog(Animal):\n",
    "  def action(self):\n",
    "    print(\"{} wags tail. Awwww\".format(self.name))\n",
    " \n",
    "class Wolf(Animal):\n",
    "  def action(self):\n",
    "    print(\"{} bites. OUCH!\".format(self.name))\n",
    " \n",
    "class Hybrid(Dog, Wolf):\n",
    "  def action(self):\n",
    "    super().action()\n",
    "    Wolf.action(self)\n",
    " \n",
    "my_pet = Hybrid(\"Fluffy\")\n",
    "my_pet.action() # Fluffy wags tail. Awwww\n",
    "                # Fluffy bites. OUCH!\n",
    "The above example shows the class Hybrid is a subclass of both Dog and Wolf which are also both subclasses of Animal. All 3 subclasses can use the features in Animal and Hybrid can use the features of Dog and Wolf. But, Dog and Wolf can not use each other’s features.\n",
    "\n",
    "This form of multiple inheritance can be useful by adding functionality from a class that does not fit in with the current design scheme of the current classes.\n",
    "\n",
    "Care must be taken when creating an inheritance structure like this, especially when using the super() method. In the above example, calling super().action() inside the Hybrid class invokes the .action() method of the Dog class. This is due to it being listed before Wolf in the Hybrid(Dog, Wolf) definition.\n",
    "\n",
    "The line Wolf.action(self) calls the Wolf class .action() method. The important thing to note here is that self is passed as an argument. This ensures that the .action() method in Wolf receives the Hybrid class instance to output the correct name.\n",
    "\n",
    "Instructions\n",
    "1.\n",
    "Admins in the company need access to the consumer-facing website. This means that admins must also be users of the site.\n",
    "\n",
    "The class User has been added and has the attributes username and role and the .say_user_info() method.\n",
    "\n",
    "To get the admins the user access they need:\n",
    "\n",
    "Have the Admin class inherit from the User class alongside the Employee class. Be sure to have the Employee class listed first in the Admin class definition.\n",
    "\n",
    "Stuck? Get a hint\n",
    "2.\n",
    "Now let’s make sure the admins get their user data set up.\n",
    "\n",
    "Inside the .__init__() method of the Admin class:\n",
    "\n",
    "Call the .__init__() method of the User class\n",
    "Pass the Admin class instance, id and the string \"Admin\" as arguments to the .__init__() method call\n",
    "\n",
    "Stuck? Get a hint\n",
    "3.\n",
    "Confirm the user data is set up correctly.\n",
    "\n",
    "Call the .say_user_info() method using the Admin instance in e3"
   ]
  },
  {
   "cell_type": "code",
   "execution_count": 36,
   "metadata": {},
   "outputs": [
    {
     "name": "stdout",
     "output_type": "stream",
     "text": [
      "Fluffy wags tail. Awwww\n",
      "Fluffy bites. OUCH!\n"
     ]
    }
   ],
   "source": [
    "class Animal:\n",
    "  def __init__(self, name):\n",
    "    self.name = name\n",
    " \n",
    "class Dog(Animal):\n",
    "  def action(self):\n",
    "    print(\"{} wags tail. Awwww\".format(self.name))\n",
    " \n",
    "class Wolf(Animal):\n",
    "  def action(self):\n",
    "    print(\"{} bites. OUCH!\".format(self.name))\n",
    " \n",
    "class Hybrid(Dog, Wolf):\n",
    "  def action(self):\n",
    "    super().action()\n",
    "    Wolf.action(self)\n",
    " \n",
    "my_pet = Hybrid(\"Fluffy\")\n",
    "my_pet.action() # Fluffy wags tail. Awwww\n",
    "                # Fluffy bites. OUCH!"
   ]
  },
  {
   "cell_type": "code",
   "execution_count": 30,
   "metadata": {},
   "outputs": [
    {
     "name": "stdout",
     "output_type": "stream",
     "text": [
      "My username is 3\n",
      "My role is Admin\n"
     ]
    }
   ],
   "source": [
    "class Employee():\n",
    "  new_id = 1\n",
    "  def __init__(self):\n",
    "    self.id = Employee.new_id\n",
    "    Employee.new_id += 1\n",
    "\n",
    "  def say_id(self):\n",
    "    print(\"My id is {}.\".format(self.id))\n",
    "\n",
    "class User:\n",
    "  def __init__(self, username, role=\"Customer\"):\n",
    "    self.username = username\n",
    "    self.role = role\n",
    "\n",
    "  def say_user_info(self):\n",
    "    print(\"My username is {}\".format(self.username))\n",
    "    print(\"My role is {}\".format(self.role))\n",
    "\n",
    "# Write your code below\n",
    "class Admin(Employee, User):\n",
    "  def __init__(self):\n",
    "    super().__init__()\n",
    "    User.__init__( self, self.id, \"Admin\")\n",
    "    \n",
    "\n",
    "  def say_id(self):\n",
    "    super().say_id()\n",
    "    print(\"I am an admin.\")\n",
    "\n",
    "e1 = Employee()\n",
    "e2 = Employee()\n",
    "e3 = Admin()\n",
    "e3.say_user_info()\n"
   ]
  },
  {
   "cell_type": "markdown",
   "metadata": {},
   "source": [
    "# OBJECT-ORIENTED PROGRAMMING\n",
    "OOP Pillar: Polymorphism\n",
    "In computer programming, polymorphism is the ability to apply an identical operation onto different types of objects. This can be useful when an object type may not be known at the program runtime. Polymorphism can be applied using Python in multiple ways. We have already experienced a form of it when exploring inheritance.\n",
    "\n",
    "class Animal:\n",
    "  def __init__(self, name):\n",
    "    self.name = name\n",
    " \n",
    "  def make_noise(self):\n",
    "    print(\"{} says, Grrrr\".format(self.name))\n",
    " \n",
    "class Cat(Animal):\n",
    " \n",
    "  def make_noise(self):\n",
    "    print(\"{} says, Meow!\".format(self.name))\n",
    " \n",
    "class Robot:\n",
    " \n",
    "  def make_noise(self):\n",
    "    print(\"beep.boop...BEEEEP!!!\")\n",
    "The example above shows an Animal class, its subclass Cat, and another standalone class Robot. Each class has a method .make_noise() with different outputs. The identical method name with different behaviors is a form of polymorphism.\n",
    "\n",
    " \n",
    "an_animal = Animal(\"Bear\")\n",
    "my_pet = Cat(\"Maisy\")\n",
    "my_vacuum = Robot()\n",
    "objects = [an_animal, my_pet, my_vacuum]\n",
    "for o in objects:\n",
    "  o.make_noise()\n",
    " \n",
    "# OUTPUT\n",
    "# \"Bear says, Grrrr\"\n",
    "# \"Maisy says, Meow!\"\n",
    "# \"beep.boop...BEEEEP!!!\"\n",
    "With the classes instantiated and added to a list, we are able to iterate through the list and call .make_noise(). This is done without needing to know what type of class .make_noise() belongs to.\n",
    "\n",
    "Instructions\n",
    "1.\n",
    "A meeting needs to be scheduled with at least one employee, one admin and one manager.\n",
    "\n",
    "Define a variable meeting and set it equal to a list that contains an instance of each class, Employee(), Admin() and Manager()\n",
    "Checkpoint 2 Passed\n",
    "\n",
    "Stuck? Get a hint\n",
    "2.\n",
    "With the different types of employees in the meeting, have them all say their ID.\n",
    "\n",
    "Using a for loop iterate through the list meeting\n",
    "Using your defined loop variable, call the .say_id() method on each instance in the list"
   ]
  },
  {
   "cell_type": "code",
   "execution_count": 42,
   "metadata": {},
   "outputs": [
    {
     "name": "stdout",
     "output_type": "stream",
     "text": [
      "My id is 1.\n",
      "My id is 2.\n",
      "I am an admin.\n",
      "My id is 3.\n",
      "I am an admin.\n",
      "I am in charge!\n",
      "My id is 4.\n",
      "I am an admin.\n",
      "I am in charge!\n",
      "My id is 5.\n",
      "I am an admin.\n"
     ]
    }
   ],
   "source": [
    "class Employee():\n",
    "  new_id = 1\n",
    "  def __init__(self):\n",
    "    self.id = Employee.new_id\n",
    "    Employee.new_id += 1\n",
    "\n",
    "  def say_id(self):\n",
    "    print(\"My id is {}.\".format(self.id))\n",
    "\n",
    "class Admin(Employee):\n",
    "  def say_id(self):\n",
    "    super().say_id()\n",
    "    print(\"I am an admin.\")\n",
    "\n",
    "class Manager(Admin):\n",
    "  def say_id(self):\n",
    "    super().say_id()\n",
    "    print(\"I am in charge!\")\n",
    "\n",
    "# Write your code below\n",
    "meeting = [Employee(), Admin(), Manager(), Manager(), Admin()]\n",
    "for i in meeting:\n",
    "    i.say_id()"
   ]
  },
  {
   "cell_type": "markdown",
   "metadata": {},
   "source": [
    "# Dunder Methods\n",
    "\n",
    "OBJECT-ORIENTED PROGRAMMING\n",
    "Dunder Methods\n",
    "The code below shows that when working with different object types like, int, str or list, the + operator performs different functions. This is known as operator overloading and is another form of polymorphism.\n",
    "\n",
    "# For an int and an int, + returns an int\n",
    "2 + 4 == 6\n",
    " \n",
    "# For a string and a string, + returns a string\n",
    "\"Is this \" + \"addition?\" == \"Is this addition?\"\n",
    " \n",
    "# For a list and a list, + returns a list\n",
    "[1, 2] + [3, 4] == [1, 2, 3, 4]\n",
    "To implement this behavior, we must first discuss dunder methods. Every defined class in Python has access to a group of these special methods. We’ve explored a few already, the constructor __init__() and the string representation method __repr__(). The name dunder method is derived from the Double UNDERscores that surround the name of each method.\n",
    "\n",
    "Recall that the __repr__() method takes only one parameter, self, and must return a string value. The returned value should be a string representation of the class, which can be seen by using print() on an instance of the class. Review the sample code below for an example of how this method is used.\n",
    "\n",
    "Defining a class’s dunder methods is a way to perform operator overloading.\n",
    "\n",
    "class Animal:\n",
    "  def __init__(self, name):\n",
    "    self.name = name\n",
    " \n",
    "  def __repr__(self):\n",
    "    return self.name\n",
    " \n",
    "  def __add__(self, another_animal):\n",
    "    return Animal(self.name + another_animal.name)\n",
    " \n",
    "a1 = Animal(\"Horse\")\n",
    "a2 = Animal(\"Penguin\")\n",
    "a3 = a1 + a2\n",
    "print(a1) # Prints \"Horse\"\n",
    "print(a2) # Prints \"Penguin\"\n",
    "print(a3) # Prints \"HorsePenguin\"\n",
    "The above code has the class Animal with a dunder method, .__add__(). This defines the + operator behavior when used on objects of this class type. The method returns a new Animal object with the names of the operand objects concatenated. In this example, we have created a \"HorsePenguin\"!\n",
    "\n",
    "The line of code a3 = a1 + a2 invokes the .__add__() method of the left operand, a1, with the right operand a2 passed as an argument. The name attributes of a1 and a2 are concatenated using the .__add__() parameters, self and another_animal. The resulting string is used as the name of a new Animal object which is returned to become the value of a3.\n",
    "\n",
    "Instructions\n",
    "1.\n",
    "There is now a Meeting class with an attendees list attribute and an .__add__() dunder method that adds Employee instances to the attendees list. Before we try and add employees to a meeting, we want to make sure we can know how many employees are in a meeting.\n",
    "\n",
    "Inside the Meeting class:\n",
    "\n",
    "Overload the len() operation by defining a __len__() dunder method\n",
    "Inside the __len__() definition, return the length of the attribute attendees\n",
    "Checkpoint 2 Passed\n",
    "\n",
    "Stuck? Get a hint\n",
    "2.\n",
    "Now add three employees to a meeting:\n",
    "\n",
    "Using the Meeting instance m1, add each of the employee instances e1, e2, and e3. Use one line for each employee instance.\n",
    "Output the length of meeting instance m1\n",
    "You should see the output from each employee being added and then the length of the meeting, 3."
   ]
  },
  {
   "cell_type": "code",
   "execution_count": 37,
   "metadata": {},
   "outputs": [
    {
     "name": "stdout",
     "output_type": "stream",
     "text": [
      "Horse\n",
      "Penguin\n",
      "HorsePenguin\n"
     ]
    }
   ],
   "source": [
    "class Animal:\n",
    "  def __init__(self, name):\n",
    "    self.name = name\n",
    " \n",
    "  def __repr__(self):\n",
    "    return self.name\n",
    " \n",
    "  def __add__(self, another_animal):\n",
    "    return Animal(self.name + another_animal.name)\n",
    " \n",
    "a1 = Animal(\"Horse\")\n",
    "a2 = Animal(\"Penguin\")\n",
    "a3 = a1 + a2\n",
    "print(a1) # Prints \"Horse\"\n",
    "print(a2) # Prints \"Penguin\"\n",
    "print(a3) # Prints \"HorsePenguin\""
   ]
  },
  {
   "cell_type": "code",
   "execution_count": 40,
   "metadata": {},
   "outputs": [
    {
     "name": "stdout",
     "output_type": "stream",
     "text": [
      "ID 1 added.\n",
      "ID 2 added.\n",
      "ID 3 added.\n",
      "3\n"
     ]
    }
   ],
   "source": [
    "class Employee():\n",
    "  new_id = 1\n",
    "  def __init__(self):\n",
    "    self.id = Employee.new_id\n",
    "    Employee.new_id += 1\n",
    "\n",
    "class Meeting:\n",
    "  def __init__(self):\n",
    "    self.attendees = []\n",
    "\n",
    "  def __len__(self):\n",
    "    return len(self.attendees)\n",
    "  \n",
    "  def __add__(self, employee):\n",
    "    print(\"ID {} added.\".format(employee.id))\n",
    "    self.attendees.append(employee)\n",
    "\n",
    "  # Write your code\n",
    "  \n",
    "    \n",
    "e1 = Employee()\n",
    "e2 = Employee()\n",
    "e3 = Employee()\n",
    "m1 = Meeting()\n",
    "\n",
    "m1 + e1\n",
    "m1 + e2\n",
    "m1 + e3\n",
    "print(len(m1))\n",
    "\n",
    "\n",
    "\n",
    "\n"
   ]
  },
  {
   "cell_type": "code",
   "execution_count": 38,
   "metadata": {},
   "outputs": [
    {
     "data": {
      "text/plain": [
       "['__abs__',\n",
       " '__add__',\n",
       " '__and__',\n",
       " '__bool__',\n",
       " '__ceil__',\n",
       " '__class__',\n",
       " '__delattr__',\n",
       " '__dir__',\n",
       " '__divmod__',\n",
       " '__doc__',\n",
       " '__eq__',\n",
       " '__float__',\n",
       " '__floor__',\n",
       " '__floordiv__',\n",
       " '__format__',\n",
       " '__ge__',\n",
       " '__getattribute__',\n",
       " '__getnewargs__',\n",
       " '__gt__',\n",
       " '__hash__',\n",
       " '__index__',\n",
       " '__init__',\n",
       " '__init_subclass__',\n",
       " '__int__',\n",
       " '__invert__',\n",
       " '__le__',\n",
       " '__lshift__',\n",
       " '__lt__',\n",
       " '__mod__',\n",
       " '__mul__',\n",
       " '__ne__',\n",
       " '__neg__',\n",
       " '__new__',\n",
       " '__or__',\n",
       " '__pos__',\n",
       " '__pow__',\n",
       " '__radd__',\n",
       " '__rand__',\n",
       " '__rdivmod__',\n",
       " '__reduce__',\n",
       " '__reduce_ex__',\n",
       " '__repr__',\n",
       " '__rfloordiv__',\n",
       " '__rlshift__',\n",
       " '__rmod__',\n",
       " '__rmul__',\n",
       " '__ror__',\n",
       " '__round__',\n",
       " '__rpow__',\n",
       " '__rrshift__',\n",
       " '__rshift__',\n",
       " '__rsub__',\n",
       " '__rtruediv__',\n",
       " '__rxor__',\n",
       " '__setattr__',\n",
       " '__sizeof__',\n",
       " '__str__',\n",
       " '__sub__',\n",
       " '__subclasshook__',\n",
       " '__truediv__',\n",
       " '__trunc__',\n",
       " '__xor__',\n",
       " 'as_integer_ratio',\n",
       " 'bit_length',\n",
       " 'conjugate',\n",
       " 'denominator',\n",
       " 'from_bytes',\n",
       " 'imag',\n",
       " 'numerator',\n",
       " 'real',\n",
       " 'to_bytes']"
      ]
     },
     "execution_count": 38,
     "metadata": {},
     "output_type": "execute_result"
    }
   ],
   "source": [
    "dir(int)"
   ]
  },
  {
   "cell_type": "code",
   "execution_count": 39,
   "metadata": {},
   "outputs": [
    {
     "data": {
      "text/plain": [
       "15"
      ]
     },
     "execution_count": 39,
     "metadata": {},
     "output_type": "execute_result"
    }
   ],
   "source": [
    "s = 10\n",
    "s.__add__(5)"
   ]
  },
  {
   "cell_type": "markdown",
   "metadata": {},
   "source": [
    "# Assignment #1 Using Inheritance in OOP\n",
    "Assignment on multiple inheritance:\n",
    "\n",
    "Problem\n",
    "You have been asked to create a program for a car dealership to keep track of their inventory. The dealership sells both new and used cars.\n",
    "\n",
    "Create a class hierarchy as follows:\n",
    "\n",
    "A Car class with the following attributes:\n",
    "\n",
    "year: an integer representing the year the car was made.\n",
    "make: a string representing the make of the car (e.g. \"Toyota\").\n",
    "model: a string representing the model of the car (e.g. \"Corolla\").\n",
    "A NewCar class that inherits from Car and has the following additional attribute:\n",
    "\n",
    "price: a float representing the price of the new car.\n",
    "A UsedCar class that inherits from Car and has the following additional attributes:\n",
    "\n",
    "mileage: an integer representing the number of miles on the used car.\n",
    "price: a float representing the price of the used car.\n",
    "Your program should be able to create instances of each of these classes, and should be able to print out a description of the car, including its year, make, model, and price.\n",
    "\n",
    "Requirements\n",
    "Create the Car, NewCar, and UsedCar classes as described above.\n",
    "In the Car class, create a method called description that returns a string describing the car, including its year, make, and model.\n",
    "In the NewCar and UsedCar classes, override the description method to include the price of the car in the description.\n",
    "Create a main function that creates a few instances of each type of car, and prints out their descriptions.\n",
    "Example Output\n",
    "Here is an example of what the output of your program should look like:\n",
    "\n",
    "Copy code\n",
    "2018 Toyota Corolla - $20,000.00\n",
    "2012 Honda Civic - 70,000 miles - $12,000.00\n",
    "Constraints\n",
    "Your solution should use inheritance.\n",
    "The description method should return a string in the format \"YEAR MAKE MODEL - PRICE\" for new cars, and \"YEAR MAKE MODEL - MILEAGE miles - PRICE\" for used cars.\n",
    "Submission\n",
    "To submit your solution, create a file called car_dealership.py and include the classes and main function in that file."
   ]
  },
  {
   "cell_type": "code",
   "execution_count": 48,
   "metadata": {},
   "outputs": [
    {
     "name": "stdout",
     "output_type": "stream",
     "text": [
      "YEAR : 2001 , MAKE : toyota , MODEL : yaris , PRICE : 12000\n",
      "YEAR : 1995 , MAKE : honda , MODEL : accord , PRICE : 1200, MILEAGE: 9\n"
     ]
    }
   ],
   "source": [
    "class Car:\n",
    "    def __init__(self, year, make , model):\n",
    "        self.year = year\n",
    "        self.make = make\n",
    "        self.model = model\n",
    "    \n",
    "    def description(self):\n",
    "        print(\"YEAR : {} , MAKE : {} , MODEL : {}\".format(self.year, self.make, self.model))\n",
    "        \n",
    "class NewCar(Car):\n",
    "    def description(self, price):\n",
    "        self.price = price\n",
    "        print(\"YEAR : {} , MAKE : {} , MODEL : {} , PRICE : {}\".format(self.year, self.make, self.model, self.price))\n",
    "\n",
    "        \n",
    "class OldCar(Car):\n",
    "    def description(self, price, mileage):\n",
    "        self.price = price\n",
    "        self.mileage = mileage\n",
    "        print(\"YEAR : {} , MAKE : {} , MODEL : {} , PRICE : {}, MILEAGE: {}\".format(self.year, self.make, self.model, self.price, self.mileage))\n",
    "    \n",
    "    \n",
    "new = NewCar(2001, \"toyota\", \"yaris\")\n",
    "old  = OldCar(1995, \"honda\", \"accord\")\n",
    "\n",
    "new.description(12000)\n",
    "old.description(1200, 9)"
   ]
  },
  {
   "cell_type": "markdown",
   "metadata": {},
   "source": [
    "# problem 2\n",
    "Write a program that defines a Shape class with a area method and two subclasses, Circle and Rectangle. The Circle class should inherit from the Shape class and have a radius attribute, and the Rectangle class should have a width and a height attribute. The area method of the Circle class should return the area of the circle, and the area method of the Rectangle class should return the area of the rectangle.\n",
    "To implement multiple inheritance, define a third class Square that inherits from both the Shape class and the Rectangle class. The Square class should have a side attribute and the area method should return the area of the square.\n"
   ]
  },
  {
   "cell_type": "code",
   "execution_count": 48,
   "metadata": {},
   "outputs": [
    {
     "data": {
      "text/plain": [
       "12.56"
      ]
     },
     "execution_count": 48,
     "metadata": {},
     "output_type": "execute_result"
    }
   ],
   "source": [
    "class Shape():\n",
    "    def __init__(self):\n",
    "        pass\n",
    "    def area():\n",
    "        pass\n",
    "\n",
    "# class Shape():\n",
    "#     pass\n",
    "    \n",
    "    \n",
    "class Circle(Shape):\n",
    "    def area(self, rad):\n",
    "        return 3.14 * rad **2\n",
    "    \n",
    "class Rectangle(Shape):\n",
    "    def area(self, width , height):\n",
    "        return width  * height\n",
    "    \n",
    "class Square(Rectangle):\n",
    "    def area(self, side):\n",
    "        return side * side\n",
    "    \n",
    "x = Square()\n",
    "x.area(3)\n",
    "r = Rectangle()\n",
    "r.area(3,4)\n",
    "c = Circle()\n",
    "c.area(2)\n"
   ]
  },
  {
   "cell_type": "markdown",
   "metadata": {},
   "source": [
    "# Problem 3\n",
    "Write a program that defines a Person class with a name attribute and a greet method, and a Student class that inherits from the Person class and has a student_id attribute.\n",
    "Define a third class Teacher that inherits from both the Person class and the Student class. The Teacher class should have a teacher_id attribute and the greet method should be overridden to greet the person as a teacher.\n",
    "Create a few instances of the Teacher class and test the name, student_id, and teacher_id attributes, as well as the greet method.\n"
   ]
  },
  {
   "cell_type": "code",
   "execution_count": 47,
   "metadata": {},
   "outputs": [
    {
     "name": "stdout",
     "output_type": "stream",
     "text": [
      "I am a teacher and my id is 4\n",
      "Hello My name is  asim\n",
      "I am a student and my id is 3\n",
      "Hello My name is  shaukat\n"
     ]
    }
   ],
   "source": [
    "class Person():\n",
    "    def __init__(self, name):\n",
    "        self.name = name\n",
    "    def greet(self):\n",
    "        print(\"Hello My name is  {}\".format(self.name))\n",
    "\n",
    "class Student(Person):\n",
    "    def greet(self,id):\n",
    "        self.id = id\n",
    "        print(\"I am a student and my id is {}\".format(self.id))\n",
    "        super().greet()\n",
    "        \n",
    "        \n",
    "class Teacher(Person):\n",
    "    def greet(self,id):\n",
    "        print(\"I am a teacher and my id is {}\".format(id))\n",
    "        super().greet()\n",
    "    \n",
    "t = Teacher('asim')\n",
    "t.greet(4)\n",
    "s = Student('shaukat')\n",
    "s.greet(3)"
   ]
  },
  {
   "cell_type": "markdown",
   "metadata": {},
   "source": [
    "# problem 4\n",
    "Write a program that defines a Shape class with an __init__ method that sets the color attribute and a get_color method that returns the color of the shape.\n",
    "Define two subclasses, Circle and Rectangle, that inherit from the Shape class. The Circle class should have an __init__ method that calls the super().__init__ method to set the color attribute and also sets the radius attribute. The Rectangle class should have an __init__ method that calls the super().__init__ method to set the color attribute and also sets the width and height attributes.\n",
    "Define a third class, Square, that inherits from the Rectangle class. The Square class should have an __init__ method that calls the super().__init__ method to set the color attribute and the width and height attributes, and also sets the side attribute.\n",
    "Create a few instances of the Circle, Rectangle, and Square classes and test the get_color method."
   ]
  },
  {
   "cell_type": "code",
   "execution_count": 57,
   "metadata": {},
   "outputs": [],
   "source": [
    "class Shape():\n",
    "    def __init__(self, color = 'blue'):\n",
    "        self.color = color\n",
    "    def get_color():\n",
    "        return self.color\n",
    "\n",
    "# class Shape():\n",
    "#     pass\n",
    "    \n",
    "    \n",
    "class Circle(Shape):\n",
    "    def __init__(self, color, radius):\n",
    "        super().__init__(self)\n",
    "\n",
    "c = Circle('green', 1.2)"
   ]
  },
  {
   "cell_type": "markdown",
   "metadata": {},
   "source": [
    "# OBJECT-ORIENTED PROGRAMMING OOP Pillar: Abstraction\n",
    "\n",
    "When a program starts to get big, classes might start to share functionality or we may lose sight of the purpose of a class’s inheritance structure. In order to alleviate issues like this, we can use the concept of abstraction.\n",
    "\n",
    "Abstraction helps with the design of code by defining necessary behaviors to be implemented within a class structure. By doing so, abstraction also helps avoid leaving out or overlapping class functionality as class hierarchies get larger.\n",
    "\n",
    "from abc import ABC, abstractmethod\n",
    " \n",
    "class Animal(ABC):\n",
    "  def __init__(self, name):\n",
    "    self.name = name\n",
    " \n",
    "  @abstractmethod\n",
    "  def make_noise(self):\n",
    "    pass\n",
    " \n",
    "class Cat(Animal):\n",
    "  def make_noise(self):\n",
    "    print(\"{} says, Meow!\".format(self.name))\n",
    " \n",
    "class Dog(Animal):\n",
    "  def make_noise(self):\n",
    "    print(\"{} says, Woof!\".format(self.name))\n",
    " \n",
    "kitty = Cat(\"Maisy\")\n",
    "doggy = Dog(\"Amber\")\n",
    "kitty.make_noise() # \"Maisy says, Meow!\"\n",
    "doggy.make_noise() # \"Amber says, Woof!\"\n",
    "Above we have Cat and Dog classes that inherit from Animal. The Animal class now inherits from an imported class ABC, which stands for Abstract Base Class.\n",
    "\n",
    "This is the first step to making Animal an abstract class that cannot be instantiated. The second step is using the imported decorator @abstractmethod on the empty method .make_noise().\n",
    "\n",
    "The below line of code would throw an error.\n",
    "\n",
    "an_animal = Animal(\"Scruffy\")\n",
    " \n",
    "# TypeError: Can't instantiate abstract class Animal with abstract method make_noise\n",
    "The abstraction process defines what an Animal is but does not allow the creation of one. The .__init__() method still requires a name, since we feel all animals deserve a name.\n",
    "\n",
    "The .make_noise() method exists since all animals make some form of noise, but the method is not implemented since each animal makes a different noise. Each subclass of Animal is now required to define their own .make_noise() method or an error will occur.\n",
    "\n",
    "These are some of the ways abstraction supports the design of an organized class structure.\n",
    "\n",
    "Instructions\n",
    "1.\n",
    "Take a look at the code in script.py. The abstract class AbstractEmployee is defined. It has all the logic that has previously existed in the Employee class, except that the .say_id() method is not implemented and has the @abstractmethod decorator.\n",
    "\n",
    "The Employee class currently has no implementation.\n",
    "\n",
    "Run the code and observe that e1.say_id() is causing an AttributeError since the Employee class has no implementation.\n",
    "\n",
    "\n",
    "Stuck? Get a hint\n",
    "2.\n",
    "Let’s fix this error:\n",
    "\n",
    "Make the Employee class inherit from the AbstractEmployee class\n",
    "\n",
    "Stuck? Get a hint\n",
    "3.\n",
    "Nice work! But wait, there’s still an error!\n",
    "\n",
    "TypeError: Can't instantiate abstract class Employee with abstract methods say_id\n",
    "The .say_id() method in the AbstractEmployee class uses the @abstractmethod decorator. This means any class that inherits from AbstractEmployee must implement a .say_id() method.\n",
    "\n",
    "Inside the Employee class replace the pass statement, then:\n",
    "\n",
    "Define a say_id() method that outputs a message with self.id\n",
    "When complete you should see the output in the console"
   ]
  },
  {
   "cell_type": "code",
   "execution_count": 67,
   "metadata": {},
   "outputs": [
    {
     "name": "stdout",
     "output_type": "stream",
     "text": [
      "Maisy says, mew!\n",
      "Amber says, Woof!\n"
     ]
    }
   ],
   "source": [
    "from abc import ABC, abstractmethod\n",
    " \n",
    "class Animal(ABC):\n",
    "  def __init__(self, name):\n",
    "    self.name = name\n",
    " \n",
    "  @abstractmethod\n",
    "  def make_noise(self):\n",
    "    pass\n",
    " \n",
    "class Cat(Animal):\n",
    "  def make_noise(self , sound):\n",
    "    print(\"{} says, {}!\".format(self.name, sound))\n",
    " \n",
    "class Dog(Animal):\n",
    "  def make_noise(self):\n",
    "    print(\"{} says, Woof!\".format(self.name))\n",
    " \n",
    "kitty = Cat(\"Maisy\")\n",
    "doggy = Dog(\"Amber\")\n",
    "kitty.make_noise('mew') # \"Maisy says, Meow!\"\n",
    "doggy.make_noise() # \"Amber says, Woof!\""
   ]
  },
  {
   "cell_type": "code",
   "execution_count": 63,
   "metadata": {},
   "outputs": [
    {
     "ename": "TypeError",
     "evalue": "Can't instantiate abstract class Animal with abstract method make_noise",
     "output_type": "error",
     "traceback": [
      "\u001b[1;31m---------------------------------------------------------------------------\u001b[0m",
      "\u001b[1;31mTypeError\u001b[0m                                 Traceback (most recent call last)",
      "\u001b[1;32m<ipython-input-63-06beaafe01bf>\u001b[0m in \u001b[0;36m<module>\u001b[1;34m\u001b[0m\n\u001b[1;32m----> 1\u001b[1;33m \u001b[0man_animal\u001b[0m \u001b[1;33m=\u001b[0m \u001b[0mAnimal\u001b[0m\u001b[1;33m(\u001b[0m\u001b[1;34m\"Scruffy\"\u001b[0m\u001b[1;33m)\u001b[0m\u001b[1;33m\u001b[0m\u001b[1;33m\u001b[0m\u001b[0m\n\u001b[0m",
      "\u001b[1;31mTypeError\u001b[0m: Can't instantiate abstract class Animal with abstract method make_noise"
     ]
    }
   ],
   "source": [
    "an_animal = Animal(\"Scruffy\")"
   ]
  },
  {
   "cell_type": "code",
   "execution_count": 65,
   "metadata": {},
   "outputs": [
    {
     "name": "stdout",
     "output_type": "stream",
     "text": [
      "1\n"
     ]
    }
   ],
   "source": [
    "from abc import ABC, abstractmethod\n",
    "\n",
    "class AbstractEmployee(ABC):\n",
    "  new_id = 1\n",
    "  def __init__(self):\n",
    "    self.id = AbstractEmployee.new_id\n",
    "    AbstractEmployee.new_id += 1\n",
    "\n",
    "  @abstractmethod\n",
    "  def say_id(self):\n",
    "    pass\n",
    "\n",
    "# Write your code below\n",
    "class Employee(AbstractEmployee):\n",
    "    def say_id(self):\n",
    "      print(self.id)\n",
    "\n",
    "e1 = Employee()\n",
    "e1.say_id()"
   ]
  }
 ],
 "metadata": {
  "kernelspec": {
   "display_name": "Python 3",
   "language": "python",
   "name": "python3"
  },
  "language_info": {
   "codemirror_mode": {
    "name": "ipython",
    "version": 3
   },
   "file_extension": ".py",
   "mimetype": "text/x-python",
   "name": "python",
   "nbconvert_exporter": "python",
   "pygments_lexer": "ipython3",
   "version": "3.9.5"
  }
 },
 "nbformat": 4,
 "nbformat_minor": 4
}
