{
 "cells": [
  {
   "cell_type": "code",
   "execution_count": 18,
   "metadata": {},
   "outputs": [
    {
     "name": "stdout",
     "output_type": "stream",
     "text": [
      "100\n"
     ]
    }
   ],
   "source": [
    "# function\n",
    "def print_order(*order_items):\n",
    "  print(order_items[-1])\n",
    "\n",
    "print_order('Egg', 'Bread', 'tea', 'milk', 'sugar', 100)"
   ]
  },
  {
   "cell_type": "code",
   "execution_count": 17,
   "metadata": {},
   "outputs": [
    {
     "name": "stdout",
     "output_type": "stream",
     "text": [
      "WORKING ON\n",
      "LEARNING\n",
      "ARGUMENT UNPACKING!\n"
     ]
    }
   ],
   "source": [
    "def shout_strings(*args):\n",
    "  for argument in args:\n",
    "    print(argument.upper())\n",
    " \n",
    "shout_strings('Working on', 'learning', 'argument unpacking!')"
   ]
  },
  {
   "cell_type": "code",
   "execution_count": 13,
   "metadata": {},
   "outputs": [
    {
     "name": "stdout",
     "output_type": "stream",
     "text": [
      "(8, \"What's going on here\", \"Looks like we've been cut off\") False\n"
     ]
    }
   ],
   "source": [
    "def truncate_sentences(*sentences, length = False):\n",
    "    print(sentences, length)\n",
    " \n",
    "truncate_sentences(8, \"What's going on here\", \"Looks like we've been cut off\")"
   ]
  },
  {
   "cell_type": "markdown",
   "metadata": {},
   "source": [
    "Truncate sentence Length"
   ]
  },
  {
   "cell_type": "code",
   "execution_count": 9,
   "metadata": {},
   "outputs": [
    {
     "name": "stdout",
     "output_type": "stream",
     "text": [
      "What's g\n",
      "Looks li\n"
     ]
    }
   ],
   "source": [
    "def truncate_sentences(length, *sentences):\n",
    "  for sentence in sentences:\n",
    "    print(sentence[:length])\n",
    " \n",
    "truncate_sentences(8, \"What's going on here\", \"Looks like we've been cut off\")"
   ]
  },
  {
   "cell_type": "code",
   "execution_count": 14,
   "metadata": {},
   "outputs": [
    {
     "name": "stdout",
     "output_type": "stream",
     "text": [
      "{1: {'name': 'Jiho', 'vip_status': False, 'order': 'Orange Juice, Apple Juice'}, 2: {}, 3: {}, 4: {}, 5: {}, 6: {}, 7: {}}\n"
     ]
    }
   ],
   "source": [
    "tables = {\n",
    "  1: {\n",
    "    'name': 'Jiho',\n",
    "    'vip_status': False,\n",
    "    'order': 'Orange Juice, Apple Juice'\n",
    "  },\n",
    "  2: {},\n",
    "  3: {},\n",
    "  4: {},\n",
    "  5: {},\n",
    "  6: {},\n",
    "  7: {},\n",
    "}\n",
    "print(tables)\n",
    "\n",
    "def assign_table(table_number, name, vip_status=False): \n",
    "  tables[table_number]['name'] = name\n",
    "  tables[table_number]['vip_status'] = vip_status\n",
    "  tables[table_number]['order'] = ''\n",
    "\n",
    "# Write your code below: \n",
    "def assign_and_print_order(table_number , *order_items):\n",
    "  tables[table_number]['order'] = order_items"
   ]
  },
  {
   "cell_type": "markdown",
   "metadata": {},
   "source": [
    "FUNCTION ARGUMENTS\n",
    "Working with *args\n",
    "Now that we have seen the basics of working with positional argument unpacking let’s examine how to use it in a more meaningful way.\n",
    "\n",
    "Say we wanted to build a function that works similarly to our trusty print() statement but instead prints all of the arguments in uppercase form. Using our knowledge of iteration, combined with the power of the unpacking operator, our solution might look like this:\n",
    "\n",
    "def shout_strings(*args):\n",
    "  for argument in args:\n",
    "    print(argument.upper())\n",
    " \n",
    "shout_strings('Working on', 'learning', 'argument unpacking!')\n",
    "Would output:\n",
    "\n",
    "WORKING ON\n",
    "LEARNING\n",
    "ARGUMENT UNPACKING!\n",
    "In our function shout_strings(), we use a for loop (although we could use any iterator) to iterate through each element of the tuple that exists inside of args. Then we use the built-in function .upper() to capitalize each argument.\n",
    "\n",
    "The unpacking operator is not limited to being used alone, but rather it can be combined with other positional arguments. Let’s examine a function that truncates (cuts off) sentences based on a provided length:\n",
    "\n",
    "def truncate_sentences(length, *sentences):\n",
    "  for sentence in sentences:\n",
    "    print(sentence[:length])\n",
    " \n",
    "truncate_sentences(8, \"What's going on here\", \"Looks like we've been cut off\")\n",
    "Would output:\n",
    "\n",
    "What's g\n",
    "Looks li\n",
    "Let’s break this down:\n",
    "\n",
    "We have two parameters that our function truncate_sentences() defines. The first is a length parameter that will specify how many characters we want to keep. The second is a parameter called sentences that is paired with the unpacking operator, signifying it will take a variable number of arguments.\n",
    "\n",
    "On each iteration of the function, we are looping through the tuple created by the sentences argument (because it is paired with the unpacking operator) and perform a slice on the sentence based on the provided length argument. This forces every value in the sentences tuple to be cut down in length.\n",
    "\n",
    "Utilizing iteration and other positional arguments are two common ways we can increase the utility of our functions when using the unpacking operator (*). Let’s practice using these techniques to see how powerful they are!\n",
    "\n",
    "Instructions\n",
    "1.\n",
    "Jiho is having a lot of success with our restaurant application. Unfortunately, our original design did not account for storing orders for each specific table. Jiho asked us to adjust our application to be able to store the orders that come in for each specific table and also be able to print out the order for the kitchen staff.\n",
    "\n",
    "Take some time to review the adjusted structure of the program we created earlier. Note that tables is now dictionary with the table numbers as the keys. It also accounts for a new property called order. The assign_table function has also been adjusted to account for the changes.\n",
    "\n",
    "Run the code to move onto the next checkpoint.\n",
    "\n",
    "Checkpoint 2 Passed\n",
    "2.\n",
    "To help Jiho implement the ability to store the order in a specific table, let’s define a function called assign_and_print_order().\n",
    "\n",
    "The function should have two parameters called table_number and order_items. The parameter of order_items should be grouped with an unpacking operator (*) so we can capture a variable number of order items per table.\n",
    "\n",
    "For now, our program will error out if we run it. Don’t worry we will fill in the function in the next step!\n",
    "\n",
    "Checkpoint 3 Passed\n",
    "\n",
    "Stuck? Get a hint\n",
    "3.\n",
    "Our function assign_and_print_order() should then assign an order to a table. Inside of our function, access the nested order key for the specific table (using the table_number argument) from tables and set it to the order_items parameter.\n",
    "\n",
    "Checkpoint 4 Passed\n",
    "\n",
    "Stuck? Get a hint\n",
    "4.\n",
    "In addition to assigning the order to our tables dictionary, we also want to print every ordered item so the kitchen knows what to cook!\n",
    "\n",
    "Inside of assign_and_print_order() use a for loop to iterate through order_items and print each individual order item.\n",
    "\n",
    "Checkpoint 5 Passed\n",
    "\n",
    "Stuck? Get a hint\n",
    "5.\n",
    "Lastly, let’s see our function in action. Luckily we just had a new customer come in for their reservation. Use the assign_table() function to add a new customer named 'Arwa' to table 2 with a VIP status set to True.\n",
    "\n",
    "Checkpoint 6 Passed\n",
    "\n",
    "Stuck? Get a hint\n",
    "6.\n",
    "Now that Arwa is seated and ready to order, call our assign_and_print_order() function for table 2 with the order items of 'Steak', 'Seabass', and 'Wine Bottle'.\n",
    "\n",
    "Print tables to see the result!"
   ]
  },
  {
   "cell_type": "code",
   "execution_count": 15,
   "metadata": {},
   "outputs": [
    {
     "name": "stdout",
     "output_type": "stream",
     "text": [
      "{1: {'name': 'Jiho', 'vip_status': False, 'order': 'Orange Juice, Apple Juice'}, 2: {}, 3: {}, 4: {}, 5: {}, 6: {}, 7: {}}\n",
      "Steak\n",
      "Seabass\n",
      "Wine Bottle\n",
      "{1: {'name': 'Jiho', 'vip_status': False, 'order': 'Orange Juice, Apple Juice'}, 2: {'name': 'Arwa', 'vip_status': True, 'order': ('Steak', 'Seabass', 'Wine Bottle')}, 3: {}, 4: {}, 5: {}, 6: {}, 7: {}}\n"
     ]
    }
   ],
   "source": [
    "tables = {\n",
    "  1: {\n",
    "    'name': 'Jiho',\n",
    "    'vip_status': False,\n",
    "    'order': 'Orange Juice, Apple Juice'\n",
    "  },\n",
    "  2: {},\n",
    "  3: {},\n",
    "  4: {},\n",
    "  5: {},\n",
    "  6: {},\n",
    "  7: {},\n",
    "}\n",
    "print(tables)\n",
    "\n",
    "def assign_table(table_number, name, vip_status=False): \n",
    "  tables[table_number]['name'] = name\n",
    "  tables[table_number]['vip_status'] = vip_status\n",
    "  tables[table_number]['order'] = ''\n",
    "\n",
    "# Write your code below: \n",
    "def assign_and_print_order(table_number , *order_items):\n",
    "  tables[table_number]['order'] = order_items\n",
    "  for i in order_items:\n",
    "    print(i)\n",
    "\n",
    "assign_table(2, 'Arwa' , True)\n",
    "assign_and_print_order(2, 'Steak', 'Seabass','Wine Bottle')\n",
    "print(tables)"
   ]
  },
  {
   "cell_type": "code",
   "execution_count": null,
   "metadata": {},
   "outputs": [],
   "source": []
  }
 ],
 "metadata": {
  "kernelspec": {
   "display_name": "Python 3",
   "language": "python",
   "name": "python3"
  },
  "language_info": {
   "codemirror_mode": {
    "name": "ipython",
    "version": 3
   },
   "file_extension": ".py",
   "mimetype": "text/x-python",
   "name": "python",
   "nbconvert_exporter": "python",
   "pygments_lexer": "ipython3",
   "version": "3.9.5"
  }
 },
 "nbformat": 4,
 "nbformat_minor": 4
}
