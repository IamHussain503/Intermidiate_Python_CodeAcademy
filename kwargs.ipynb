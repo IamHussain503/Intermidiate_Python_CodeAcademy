{
 "cells": [
  {
   "cell_type": "markdown",
   "metadata": {},
   "source": [
    "FUNCTION ARGUMENTS\n",
    "Variable number of arguments: **kwargs\n",
    "Python doesn’t stop at allowing us to accept unlimited positional arguments; it also gives us the power to define functions with unlimited keyword arguments. The syntax is very similar but uses two asterisks ** instead of one. We typically call these kwargs as a shorthand for keyword arguments.\n",
    "\n",
    "Let’s examine a function that prints out some useful information about kwargs to see it in action:\n",
    "\n",
    "def arbitrary_keyword_args(**kwargs):\n",
    "  print(type(kwargs))\n",
    "  print(kwargs)\n",
    "  # See if there's an 'anything_goes' keyword arg and print it\n",
    "  print(kwargs.get('anything_goes'))\n",
    " \n",
    "arbitrary_keyword_args(this_arg='wowzers', anything_goes=101)\n",
    "Would output:\n",
    "\n",
    "<class 'dict'>\n",
    "{'this_arg': 'wowzers', 'anything_goes': 101}\n",
    "101\n",
    "We can observe two things:\n",
    "\n",
    "**kwargs takes the form of a dictionary with all the keyword argument values passed to arbitrary_keyword_args. Since **kwargs is a dictionary, we can use standard dictionary functions like .get() to retrieve values.\n",
    "\n",
    "Just as we saw with *args, the name of kwargs is completely arbitrary, and this example works exactly the same with the name becoming data:\n",
    "\n",
    "def arbitrary_keyword_args(**data):\n",
    "  # ...\n",
    "Let’s practice using **kwargs to get a feel of how it works in a function!\n",
    "\n",
    "Instructions\n",
    "1.\n",
    "Jiho is pleased with how we can store orders for our tables. However, the staff now wants to distinguish between food items and drinks.\n",
    "\n",
    "Since food items get prepared in the kitchen and drinks are prepared at the bar, it’s important to distinguish between the two in our application.\n",
    "\n",
    "The tables dictionary has been changed to support the staff’s requests. Take some time to examine the changed structure.\n",
    "\n",
    "Run the code to move on to the next checkpoint!\n",
    "\n",
    "Checkpoint 2 Passed\n",
    "2.\n",
    "Since our program now requires a distinction between food items and drinks, this is a great place to utilize the power of **kwargs.\n",
    "\n",
    "Define a function called assign_food_items() that has one parameter, order_items. Pair this parameter with a ** operator to handle any keyword arguments.\n",
    "\n",
    "For now, just have the function print order_items.\n",
    "\n",
    "Checkpoint 3 Passed\n",
    "\n",
    "Stuck? Get a hint\n",
    "3.\n",
    "Now we want to capture the food items and drinks in order_items. Use the .get() method to do the following:\n",
    "\n",
    "Capture the values from a keyword argument called food and assign it to a variable called food\n",
    "Capture the values from a keyword argument called drinks and assign it to a variable called drinks\n",
    "Refer to the commented example call at the bottom of the script for a reference on how we will call this function later on.\n",
    "\n",
    "Checkpoint 4 Passed\n",
    "\n",
    "Stuck? Get a hint\n",
    "4.\n",
    "Lastly, inside of our function use print() to output the food variable and another print() to output the drinks variable.\n",
    "\n",
    "Checkpoint 5 Passed\n",
    "\n",
    "Stuck? Get a hint\n",
    "5.\n",
    "Uncomment the example call provided to test our function!"
   ]
  },
  {
   "cell_type": "code",
   "execution_count": 1,
   "metadata": {},
   "outputs": [
    {
     "name": "stdout",
     "output_type": "stream",
     "text": [
      "{1: {'name': 'Chioma', 'vip_status': False, 'order': {'drinks': 'Orange Juice, Apple Juice', 'food_items': 'Pancakes'}}, 2: {}, 3: {}, 4: {}, 5: {}, 6: {}, 7: {}}\n",
      "{'food': 'Pancakes, Poached Egg', 'drinks': 'Water'}\n",
      "Pancakes, Poached Egg\n",
      "Water\n"
     ]
    }
   ],
   "source": [
    "\n",
    "\n",
    "tables = {\n",
    "  1: {\n",
    "    'name': 'Chioma',\n",
    "    'vip_status': False,\n",
    "    'order': {\n",
    "      'drinks': 'Orange Juice, Apple Juice',\n",
    "      'food_items': 'Pancakes'\n",
    "    }\n",
    "  },\n",
    "  2: {},\n",
    "  3: {},\n",
    "  4: {},\n",
    "  5: {},\n",
    "  6: {},\n",
    "  7: {},\n",
    "}\n",
    "print(tables)\n",
    "\n",
    "\n",
    "# Write your code below: \n",
    "def assign_food_items(**order_items):\n",
    "  print(order_items)\n",
    "  food = order_items.get('food')\n",
    "  drinks = order_items.get('drinks')\n",
    "  print(food)\n",
    "  print(drinks)\n",
    "  \n",
    "\n",
    "\n",
    "\n",
    "\n",
    "# Example Call\n",
    "assign_food_items(food='Pancakes, Poached Egg', drinks='Water')"
   ]
  },
  {
   "cell_type": "markdown",
   "metadata": {},
   "source": []
  },
  {
   "cell_type": "code",
   "execution_count": 2,
   "metadata": {},
   "outputs": [
    {
     "name": "stdout",
     "output_type": "stream",
     "text": [
      "arg1\n",
      "True\n",
      "100\n"
     ]
    }
   ],
   "source": [
    "def print_data(**data):\n",
    "  for arg in data.values():\n",
    "    print(arg)\n",
    " \n",
    "print_data(a='arg1', b=True, c=100)"
   ]
  },
  {
   "cell_type": "code",
   "execution_count": 3,
   "metadata": {},
   "outputs": [
    {
     "name": "stdout",
     "output_type": "stream",
     "text": [
      "position 1\n",
      "arg1\n",
      "True\n",
      "100\n"
     ]
    }
   ],
   "source": [
    "def print_data(positional_arg ,  **data ):\n",
    "  print(positional_arg)\n",
    "  for arg in data.values():\n",
    "    print(arg)\n",
    " \n",
    "print_data('position 1', a='arg1', b=True, c=100)"
   ]
  },
  {
   "cell_type": "markdown",
   "metadata": {},
   "source": [
    "FUNCTION ARGUMENTS\n",
    "Working with **kwargs\n",
    "Working with **kwargs looks very similar to its *args counterpart. Since ** generates a standard dictionary, we can use iteration just like we did earlier by taking advantage of the .values() method. Here is an example:\n",
    "\n",
    "def print_data(**data):\n",
    "  for arg in data.values():\n",
    "    print(arg)\n",
    " \n",
    "print_data(a='arg1', b=True, c=100)\n",
    "Would output:\n",
    "\n",
    "arg1\n",
    "True\n",
    "100\n",
    "We can also combine our use of ** with regular positional arguments. However, Python requires that all positional arguments come first in our function definition. Let’s examine how this works:\n",
    "\n",
    "def print_data(positional_arg, **data):\n",
    "  print(positional_arg)\n",
    "  for arg in data.values():\n",
    "    print(arg)\n",
    " \n",
    "print_data('position 1', a='arg1', b=True, c=100)\n",
    "Would output:\n",
    "\n",
    "position 1\n",
    "arg1\n",
    "True\n",
    "100\n",
    "If we were to switch the position of positional_arg to come after **data, we would be met with a SyntaxError.\n",
    "\n",
    "Let’s expand our restaurant application from the previous exercises to apply the flexibility of using **kwargs in our functions.\n",
    "\n",
    "Instructions\n",
    "1.\n",
    "In the last exercise, we saw how using ** allowed us to capture different food items that a table will order. In the next few checkpoints, we will finish implementing the functionality of our assign_food_items() function.\n",
    "\n",
    "Take some time to get reacquainted with the program. Note the changes in the assign_food_items() function.\n",
    "\n",
    "Run the code to move on!\n",
    "\n",
    "Checkpoint 2 Passed\n",
    "2.\n",
    "Unfortunately, when we originally implemented assign_food_items we did not assign the values we capture into our tables dictionary.\n",
    "\n",
    "Adjust the function definition of assign_food_items():\n",
    "\n",
    "Add a positional parameter called table_number followed by the **order_items parameter we already defined.\n",
    "Uncomment the 2 lines inside the function.\n",
    "Adding the parameter and uncommenting the lines will now allow us to assign the food to a specific table."
   ]
  },
  {
   "cell_type": "code",
   "execution_count": null,
   "metadata": {},
   "outputs": [],
   "source": [
    "tables = {\n",
    "  1: {\n",
    "    'name': 'Chioma',\n",
    "    'vip_status': False,\n",
    "    'order': {\n",
    "      'drinks': 'Orange Juice, Apple Juice',\n",
    "      'food_items': 'Pancakes'\n",
    "    }\n",
    "  },\n",
    "  2: {},\n",
    "  3: {},\n",
    "  4: {},\n",
    "  5: {},\n",
    "  6: {},\n",
    "  7: {},\n",
    "}\n",
    "\n",
    "def assign_table(table_number, name, vip_status=False): \n",
    "  tables[table_number]['name'] = name\n",
    "  tables[table_number]['vip_status'] = vip_status\n",
    "  tables[table_number]['order'] = {}\n",
    "\n",
    "assign_table(2, 'Douglas', True)\n",
    "print('--- tables with Douglas --- \\n', tables)\n",
    "\n",
    "def assign_food_items(table_number, **order_items):\n",
    "  food = order_items.get('food')\n",
    "  drinks = order_items.get('drinks')\n",
    "  tables[table_number]['order']['food_items'] = food\n",
    "  tables[table_number]['order']['drinks'] = drinks\n",
    "\n",
    "print('\\n --- tables after update --- \\n')\n",
    "\n",
    "assign_food_items(2, food = 'Seabass, Gnocchi, Pizza' , drinks = 'Margarita, Water'  )\n",
    "\n",
    "print(tables)\n"
   ]
  },
  {
   "cell_type": "code",
   "execution_count": null,
   "metadata": {},
   "outputs": [],
   "source": []
  },
  {
   "cell_type": "markdown",
   "metadata": {},
   "source": [
    "FUNCTION ARGUMENTS\n",
    "All together now!\n",
    "So far we have seen how both *args and **kwargs can be combined with standard arguments. This is useful, but in some cases, we may want to use all three types together! Thankfully Python allows us to do so as long as we follow the correct order in our function definition. The order is as follows:\n",
    "\n",
    "Standard positional arguments\n",
    "*args\n",
    "Standard keyword arguments\n",
    "**kwargs\n",
    "As an example, this is what our function definition might look like if we wanted a function that printed animals utilizing all three types:\n",
    "\n",
    "def print_animals(animal1, animal2, *args, animal4, **kwargs):\n",
    "  print(animal1, animal2)\n",
    "  print(args)\n",
    "  print(animal4)\n",
    "  print(kwargs)\n",
    "We could call our function like so:\n",
    "\n",
    "print_animals('Snake', 'Fish', 'Guinea Pig', 'Owl', animal4='Cat', animal5='Dog')\n",
    "And our result would be:\n",
    "\n",
    "Snake Fish\n",
    "('Guinea Pig', 'Owl')\n",
    "Cat\n",
    "{'animal5': 'Dog'}\n",
    "That is a whole lot of arguments! Let’s break it down:\n",
    "\n",
    "The first two arguments that our function accepts will take the form of standard positional arguments. When we call the function, the first two values provided will map to animal1 and animal2. Thus, the first line of output is Snake Fish\n",
    "\n",
    "The non-keyword arguments that follow after Snake and Fish in our function call are all mapped to the args tuple. Thus, our result is ('Guinea Pig', 'Owl')\n",
    "\n",
    "Then we transition to regular keyword arguments. Since we called animal4 as a keyword, our result for the print statement is Cat\n",
    "\n",
    "Lastly, we have one more keyword argument that is mapped to **kwargs. Thus, our last line of output is {'animal_5': 'Dog'}\n",
    "\n",
    "Let’s practice putting it all together in our restaurant application for Jiho!\n",
    "\n",
    "Instructions\n",
    "1.\n",
    "For an upcoming holiday, Jiho plans on making a prix fixe menu for the restaurant. Customers at the restaurant will be able to choose the following:\n",
    "\n",
    "1 Appetizer\n",
    "2 Entrees\n",
    "1 Side dish\n",
    "2 Scoops of different ice cream flavors for dessert.\n",
    "To accomplish all these choices, we are going to utilize the different types of arguments that we have learned so far. Now that we’ve set up our goals, hit “Run” to move on to the next step.\n",
    "\n",
    "Checkpoint 2 Passed\n",
    "2.\n",
    "Let’s start by defining a function called single_prix_fixe_order() which will define four parameters to accept the full order:\n",
    "\n",
    "A parameter named appetizer\n",
    "A parameter named entrees paired with a * operator\n",
    "A parameter named sides\n",
    "A parameter named dessert_scoops paired with a ** operator\n",
    "Our function should simply have four print() statements that print each individual parameter.\n",
    "\n",
    "Checkpoint 3 Passed\n",
    "\n",
    "Stuck? Get a hint\n",
    "3.\n",
    "We got our first prix fixe order in! The customer wants the following:\n",
    "\n",
    "'Baby Beets' as an appetizer\n",
    "'Salmon' and 'Scallops' as entrees\n",
    "'Mashed Potatoes' as a side\n",
    "A scoop of 'Vanilla' ice cream and a scoop of 'Cookies and Cream' for dessert\n",
    "Utilize our function single_prix_fixe_order() to print out all of the customers order."
   ]
  },
  {
   "cell_type": "code",
   "execution_count": null,
   "metadata": {},
   "outputs": [],
   "source": [
    "# Write your code below: \n",
    "def single_prix_fixe_order(appetizer, *entrees, sides, **dessert_scoops):\n",
    "  print(appetizer)\n",
    "  print(entrees)\n",
    "  print(sides)\n",
    "  print(dessert_scoops)\n",
    "\n",
    "single_prix_fixe_order('Baby Beets', 'Salmon','Scallops' , sides = 'Mashed Potatoes' ,  ice_cream = 'Vanilla' , dessert =  'Cookies and Cream')"
   ]
  },
  {
   "cell_type": "code",
   "execution_count": 4,
   "metadata": {},
   "outputs": [
    {
     "name": "stdout",
     "output_type": "stream",
     "text": [
      "6\n"
     ]
    }
   ],
   "source": [
    "my_num_list = [3, 1, 2]\n",
    " \n",
    "def sum(num1, num2, num3):\n",
    "  print(num1 * num2 * num3)\n",
    " \n",
    "sum(*my_num_list)"
   ]
  },
  {
   "cell_type": "code",
   "execution_count": 5,
   "metadata": {},
   "outputs": [
    {
     "name": "stdout",
     "output_type": "stream",
     "text": [
      "18\n"
     ]
    }
   ],
   "source": [
    "numbers  = {'num1': 3, 'num2': 6, 'num3': 9}\n",
    " \n",
    "def sum(num1, num2, num3):\n",
    "  print(num1 + num2 + num3)\n",
    " \n",
    "sum(**numbers)"
   ]
  },
  {
   "cell_type": "code",
   "execution_count": 6,
   "metadata": {},
   "outputs": [
    {
     "name": "stdout",
     "output_type": "stream",
     "text": [
      "[3, 4, 5]\n"
     ]
    }
   ],
   "source": [
    "start_and_stop = [3, 6]\n",
    " \n",
    "range_values = range(*start_and_stop)\n",
    "print(list(range_values))"
   ]
  },
  {
   "cell_type": "code",
   "execution_count": 20,
   "metadata": {},
   "outputs": [
    {
     "name": "stdout",
     "output_type": "stream",
     "text": [
      "<class 'tuple'>\n",
      "9\n",
      "36\n",
      "81\n",
      "<class 'tuple'>\n",
      "9\n",
      "36\n",
      "81\n"
     ]
    }
   ],
   "source": [
    "num_collection = [3, 6, 9]\n",
    " \n",
    "def power_two(*nums):\n",
    "  print(type(nums))\n",
    "  for num in nums:\n",
    "    print(num**2)\n",
    " \n",
    "power_two(*num_collection)\n",
    "power_two(3,6,9)"
   ]
  },
  {
   "cell_type": "markdown",
   "metadata": {},
   "source": [
    "FUNCTION ARGUMENTS\n",
    "Review\n",
    "We covered a lot of ground in this lesson! We learned all about how functions can accept different arguments and different styles in which we can pass those arguments in. We learned:\n",
    "\n",
    "How to pack positional arguments in a function with *args.\n",
    "How to work with *args using iteration and other positional arguments.\n",
    "How to pack keyword arguments in a function with **kwargs.\n",
    "How to work with **kwargs using iteration and other keyword arguments.\n",
    "How to combine all different types of arguments to gain the most flexibility in our function declarations.\n",
    "How to use an unpacking operator (* or **) to unpack arguments in a function call.\n",
    "How to use an unpacking operator (* or **) on iterables.\n",
    "We should now be able to read many different styles of function writing in Python and come up with ways to call those functions with style and clarity.\n",
    "\n",
    "Instructions\n",
    "Take some time to examine the application we built for Jiho. The program has been adjusted to account for the payment calculation from the previous step!\n",
    "\n",
    "Play around and have fun with our new knowledge of function arguments. Here is some additional functionality that Jiho might like:\n",
    "\n",
    "The ability to remove a table’s guests when they leave the restaurant.\n",
    "An adjustment to the calculate_price_per_person() function to access a tables 'total' and return the result.\n",
    "The ability to add and remove order items for both food and drinks if there is ever a mistake.\n",
    "The ability to queue reservations for later times for specific tables."
   ]
  },
  {
   "cell_type": "code",
   "execution_count": 34,
   "metadata": {},
   "outputs": [
    {
     "name": "stdout",
     "output_type": "stream",
     "text": [
      "{1: {'name': 'Jiho', 'vip_status': False, 'order': {'drinks': 'Orange Juice, Apple Juice', 'food_items': 'Pancakes', 'total': [534.5, 20.0, 5]}}, 2: {}, 3: {}, 4: {}, 5: {}, 6: {}, 7: {}}\n",
      "{1: {'name': 'Jiho', 'vip_status': False, 'order': {'drinks': 'Orange Juice, Mango_juice', 'food_items': 'papa', 'total': [534.5, 20.0, 5]}}, 2: {}, 3: {}, 4: {}, 5: {}, 6: {}, 7: {}}\n"
     ]
    }
   ],
   "source": [
    "tables = {\n",
    "  1: {\n",
    "    'name': 'Jiho',\n",
    "    'vip_status': False,\n",
    "    'order': {\n",
    "      'drinks': 'Orange Juice, Apple Juice',\n",
    "      'food_items': 'Pancakes',\n",
    "      'total': [534.50, 20.0, 5]\n",
    "    }\n",
    "  },\n",
    "  2: {},\n",
    "  3: {},\n",
    "  4: {},\n",
    "  5: {},\n",
    "  6: {},\n",
    "  7: {},\n",
    "}\n",
    "print(tables)\n",
    "def assign_table(table_number, name, vip_status=False): \n",
    "  tables[table_number]['name'] = name\n",
    "  tables[table_number]['vip_status'] = vip_status\n",
    "  tables[table_number]['order'] = {}\n",
    "\n",
    "def assign_food_items(table_number, **order_items):\n",
    "  food = order_items.get('food')\n",
    "  drinks = order_items.get('drinks')\n",
    "  tables[table_number]['order']['food_items'] = food\n",
    "  tables[table_number]['order']['drinks'] = drinks\n",
    "\n",
    "def change_order(table_number , **order_items):\n",
    "  food = order_items.get('food')\n",
    "  drinks = order_items.get('drinks')\n",
    "  tables[table_number]['order']['food_items'] = food\n",
    "  tables[table_number]['order']['drinks'] = drinks\n",
    "\n",
    "def calculate_price_per_person(table,total, tip, split):\n",
    "  total_tip = total * (tip/100)\n",
    "  split_price = (total + total_tip) / split\n",
    "  total = total + total_tip\n",
    "  print(split_price)\n",
    "  return (table,total)\n",
    "tabq = {1:[],2:[],3:[],4:[],5:[],6:[],7:[]}\n",
    "def table_queue(tab,**kwargs):\n",
    "    tabq[tab].append(kwargs)\n",
    "    \n",
    "  #dic = {1: [{name:'shaukat', time: 6pm, vip: True}, {name: 'isharab', time:7pm, vip: NA}]}\n",
    "\n",
    "change_order(1 , drinks = 'Orange Juice, Mango_juice',food = 'papa')\n",
    "print(tables)"
   ]
  },
  {
   "cell_type": "code",
   "execution_count": 38,
   "metadata": {},
   "outputs": [
    {
     "name": "stdout",
     "output_type": "stream",
     "text": [
      "{1: [], 2: [], 3: [], 4: [{'name': 'Isharab', 'vip': 'True', 'time': '8:00 PM'}, {'name': 'Isharab', 'vip': 'True', 'time': '8:00 PM'}], 5: [{'name': 'shaukat', 'vip': 'True', 'time': '8:00 PM'}, {'name': 'hussain', 'vip': 'True', 'time': '9:00 PM'}], 6: [], 7: []}\n"
     ]
    }
   ],
   "source": [
    "table_queue(5, name = 'hussain', vip = 'True' , time ='9:00 PM')\n",
    "print(tabq)"
   ]
  },
  {
   "cell_type": "code",
   "execution_count": 24,
   "metadata": {},
   "outputs": [],
   "source": [
    "tab[1].append({'name': 'shaukat', 'vip': 'True', 'time': '6:00 PM'})"
   ]
  },
  {
   "cell_type": "code",
   "execution_count": 25,
   "metadata": {},
   "outputs": [
    {
     "data": {
      "text/plain": [
       "[{'name': 'shaukat', 'vip': 'True', 'time': '6:00 PM'}]"
      ]
     },
     "execution_count": 25,
     "metadata": {},
     "output_type": "execute_result"
    }
   ],
   "source": [
    "tab[1]"
   ]
  },
  {
   "cell_type": "code",
   "execution_count": 40,
   "metadata": {},
   "outputs": [
    {
     "ename": "SyntaxError",
     "evalue": "can't use starred expression here (<ipython-input-40-0c797deb3fe3>, line 2)",
     "output_type": "error",
     "traceback": [
      "\u001b[1;36m  File \u001b[1;32m\"<ipython-input-40-0c797deb3fe3>\"\u001b[1;36m, line \u001b[1;32m2\u001b[0m\n\u001b[1;33m    *r\u001b[0m\n\u001b[1;37m    ^\u001b[0m\n\u001b[1;31mSyntaxError\u001b[0m\u001b[1;31m:\u001b[0m can't use starred expression here\n"
     ]
    }
   ],
   "source": [
    "r = (1,2)"
   ]
  },
  {
   "cell_type": "code",
   "execution_count": 1,
   "metadata": {},
   "outputs": [
    {
     "ename": "ZeroDivisionError",
     "evalue": "division by zero",
     "output_type": "error",
     "traceback": [
      "\u001b[1;31m---------------------------------------------------------------------------\u001b[0m",
      "\u001b[1;31mZeroDivisionError\u001b[0m                         Traceback (most recent call last)",
      "\u001b[1;32m<ipython-input-1-700aace389cf>\u001b[0m in \u001b[0;36m<module>\u001b[1;34m\u001b[0m\n\u001b[1;32m----> 1\u001b[1;33m \u001b[1;36m6\u001b[0m\u001b[1;33m/\u001b[0m\u001b[1;36m0\u001b[0m\u001b[1;33m\u001b[0m\u001b[1;33m\u001b[0m\u001b[0m\n\u001b[0m",
      "\u001b[1;31mZeroDivisionError\u001b[0m: division by zero"
     ]
    }
   ],
   "source": [
    "6/0"
   ]
  },
  {
   "cell_type": "code",
   "execution_count": null,
   "metadata": {},
   "outputs": [],
   "source": []
  }
 ],
 "metadata": {
  "kernelspec": {
   "display_name": "Python 3",
   "language": "python",
   "name": "python3"
  },
  "language_info": {
   "codemirror_mode": {
    "name": "ipython",
    "version": 3
   },
   "file_extension": ".py",
   "mimetype": "text/x-python",
   "name": "python",
   "nbconvert_exporter": "python",
   "pygments_lexer": "ipython3",
   "version": "3.9.5"
  },
  "vscode": {
   "interpreter": {
    "hash": "0b1675e9317923b5c31fd098f2a98d9c30641cbc1674a12de2732e620b16546e"
   }
  }
 },
 "nbformat": 4,
 "nbformat_minor": 2
}
