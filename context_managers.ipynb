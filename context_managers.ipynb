{
 "cells": [
  {
   "cell_type": "code",
   "execution_count": 2,
   "metadata": {},
   "outputs": [],
   "source": [
    "class OpenFile:\n",
    "\n",
    " def __init__(self, file, mode):\n",
    "   self.file = file\n",
    "   self.mode = mode\n",
    "\n",
    " def __enter__(self):\n",
    "   self.opened_file = open(self.file, self.mode)\n",
    "   return self.opened_file\n",
    "\n",
    " def __exit__(self, exc_type, exc_val, traceback):\n",
    "   print(exc_type)\n",
    "   print(exc_val)\n",
    "   print(traceback)\n",
    "   self.opened_file.close()\n"
   ]
  },
  {
   "cell_type": "code",
   "execution_count": 3,
   "metadata": {},
   "outputs": [
    {
     "name": "stdout",
     "output_type": "stream",
     "text": [
      "<class 'AttributeError'>\n",
      "'_io.TextIOWrapper' object has no attribute 'see'\n",
      "<traceback object at 0x000002BE58880D40>\n"
     ]
    },
    {
     "ename": "AttributeError",
     "evalue": "'_io.TextIOWrapper' object has no attribute 'see'",
     "output_type": "error",
     "traceback": [
      "\u001b[1;31m---------------------------------------------------------------------------\u001b[0m",
      "\u001b[1;31mAttributeError\u001b[0m                            Traceback (most recent call last)",
      "\u001b[1;32m<ipython-input-3-0a54be0ce5ac>\u001b[0m in \u001b[0;36m<module>\u001b[1;34m\u001b[0m\n\u001b[0;32m      1\u001b[0m \u001b[1;32mwith\u001b[0m \u001b[0mOpenFile\u001b[0m\u001b[1;33m(\u001b[0m\u001b[1;34m\"file.txt\"\u001b[0m\u001b[1;33m,\u001b[0m \u001b[1;34m\"r\"\u001b[0m\u001b[1;33m)\u001b[0m \u001b[1;32mas\u001b[0m \u001b[0mfile\u001b[0m\u001b[1;33m:\u001b[0m\u001b[1;33m\u001b[0m\u001b[1;33m\u001b[0m\u001b[0m\n\u001b[0;32m      2\u001b[0m   \u001b[1;31m# .see() is not a real method\u001b[0m\u001b[1;33m\u001b[0m\u001b[1;33m\u001b[0m\u001b[1;33m\u001b[0m\u001b[0m\n\u001b[1;32m----> 3\u001b[1;33m   \u001b[0mprint\u001b[0m\u001b[1;33m(\u001b[0m\u001b[0mfile\u001b[0m\u001b[1;33m.\u001b[0m\u001b[0msee\u001b[0m\u001b[1;33m(\u001b[0m\u001b[1;33m)\u001b[0m\u001b[1;33m)\u001b[0m\u001b[1;33m\u001b[0m\u001b[1;33m\u001b[0m\u001b[0m\n\u001b[0m",
      "\u001b[1;31mAttributeError\u001b[0m: '_io.TextIOWrapper' object has no attribute 'see'"
     ]
    }
   ],
   "source": [
    "with OpenFile(\"file.txt\", \"r\") as file:\n",
    "  # .see() is not a real method\n",
    "  print(file.see())\n"
   ]
  },
  {
   "cell_type": "code",
   "execution_count": 11,
   "metadata": {},
   "outputs": [],
   "source": [
    "class OpenFile:\n",
    "\n",
    " def __init__(self, file, mode):\n",
    "   self.file = file\n",
    "   self.mode = mode\n",
    "\n",
    " def __enter__(self):\n",
    "   self.opened_file = open(self.file, self.mode)\n",
    "   return self.opened_file\n",
    "\n",
    " def __exit__(self, exc_type, exc_val, traceback):\n",
    "   print(exc_type, exc_val, traceback)\n",
    "   print(\"The exception has been handled\")\n",
    "   self.opened_file.close()\n",
    "   return True\n"
   ]
  },
  {
   "cell_type": "code",
   "execution_count": 12,
   "metadata": {},
   "outputs": [
    {
     "name": "stdout",
     "output_type": "stream",
     "text": [
      "<class 'AttributeError'> '_io.TextIOWrapper' object has no attribute 'see' <traceback object at 0x000002BE58869B80>\n",
      "The exception has been handled\n"
     ]
    }
   ],
   "source": [
    "with OpenFile(\"file.txt\", \"r\") as file:\n",
    " # .see is not a real method\n",
    " print(file.see())\n",
    "\n",
    "\n"
   ]
  },
  {
   "cell_type": "code",
   "execution_count": 13,
   "metadata": {},
   "outputs": [
    {
     "name": "stdout",
     "output_type": "stream",
     "text": [
      "hello world\n",
      "None None None\n",
      "The exception has been handled\n"
     ]
    }
   ],
   "source": [
    "with OpenFile(\"file.txt\", \"r\") as file:\n",
    " print(file.read())\n"
   ]
  },
  {
   "attachments": {},
   "cell_type": "markdown",
   "metadata": {},
   "source": [
    "## Contextlib"
   ]
  },
  {
   "cell_type": "code",
   "execution_count": 14,
   "metadata": {},
   "outputs": [
    {
     "name": "stdout",
     "output_type": "stream",
     "text": [
      "Opening File\n",
      "Inside yield\n",
      "Closing File\n"
     ]
    }
   ],
   "source": [
    "# Write your code below:\n",
    "from contextlib import contextmanager\n",
    "\n",
    "\n",
    "@contextmanager\n",
    "def poem_files(file, mode):\n",
    "  print('Opening File')\n",
    "  open_poem_file = open(file, mode)\n",
    "\n",
    "  try:\n",
    "    yield open_poem_file\n",
    "  finally:\n",
    "    print('Closing File')\n",
    "    open_poem_file.close()\n",
    "\n",
    "\n",
    "with poem_files('poem.txt', 'a') as opened_file:\n",
    " print('Inside yield')\n",
    " opened_file.write('Rose is beautiful, Just like you.')\n"
   ]
  },
  {
   "attachments": {},
   "cell_type": "markdown",
   "metadata": {},
   "source": [
    "# contextlib exception handling"
   ]
  },
  {
   "cell_type": "code",
   "execution_count": 24,
   "metadata": {},
   "outputs": [
    {
     "name": "stdout",
     "output_type": "stream",
     "text": [
      "We hit an error: '_io.TextIOWrapper' object has no attribute 'sign'\n"
     ]
    }
   ],
   "source": [
    "from contextlib import contextmanager\n",
    "\n",
    "\n",
    "@contextmanager\n",
    "def open_file_contextlib(file, mode):\n",
    "    open_file = open(file, mode)\n",
    "\n",
    "\n",
    "    try:\n",
    "        yield open_file\n",
    "\n",
    "    # Exception Handling\n",
    "    except Exception as exception:\n",
    "        print('We hit an error: ' + str(exception))\n",
    "    \n",
    "    finally:\n",
    "        open_file.close()\n",
    " \n",
    "with open_file_contextlib('file.txt', 'w') as opened_file:\n",
    " opened_file.sign('We just made a context manager using contexlib')\n"
   ]
  },
  {
   "cell_type": "code",
   "execution_count": null,
   "metadata": {},
   "outputs": [],
   "source": [
    "from contextlib import contextmanager\n",
    " \n",
    "@contextmanager\n",
    "def poem_files(file, mode):\n",
    "  print('Opening File')\n",
    "  open_poem_file = open(file, mode)\n",
    "  try:\n",
    "    yield open_poem_file\n",
    "  #Write your code below:\n",
    "  except AttributeError as e:\n",
    "    print(e)\n",
    "\n",
    "  finally:\n",
    "    print('Closing File')\n",
    "    open_poem_file.close()\n",
    "\n",
    "with poem_files('poem.txt', 'a') as opened_file:\n",
    " print('Inside yield')\n",
    " opened_file.write('Buzz is big city. big city is buzz.')"
   ]
  },
  {
   "cell_type": "code",
   "execution_count": null,
   "metadata": {},
   "outputs": [],
   "source": [
    "from contextlib import contextmanager\n",
    "\n",
    "\n",
    "@contextmanager\n",
    "def poem_files(file, mode):\n",
    "  print('Opening File')\n",
    "  open_poem_file = open(file, mode)\n",
    "  try:\n",
    "    yield open_poem_file\n",
    "  #Write your code below:\n",
    "  except AttributeError as e:\n",
    "    print(e)\n",
    "\n",
    "  finally:\n",
    "    print('Closing File')\n",
    "    open_poem_file.close()\n",
    "\n",
    "\n",
    "with poem_files('poem.txt', 'a') as opened_file:\n",
    " print('Inside yield')\n",
    " opened_file.sign('Buzz is big city. big city is buzz.')\n"
   ]
  },
  {
   "attachments": {},
   "cell_type": "markdown",
   "metadata": {},
   "source": [
    "# nested context managers\n"
   ]
  },
  {
   "cell_type": "code",
   "execution_count": null,
   "metadata": {},
   "outputs": [],
   "source": [
    "from contextlib import contextmanager\n",
    "\n",
    "\n",
    "@contextmanager\n",
    "def poem_files(file, mode):\n",
    "  print('Opening File')\n",
    "  open_poem_file = open(file, mode)\n",
    "  try:\n",
    "    yield open_poem_file\n",
    "  finally:\n",
    "    print('Closing File')\n",
    "    open_poem_file.close()\n",
    "\n",
    "\n",
    "@contextmanager\n",
    "def card_files(file, mode):\n",
    "  print('Opening File')\n",
    "  open_card_file = open(file, mode)\n",
    "  try:\n",
    "    yield open_card_file\n",
    "  finally:\n",
    "    print('Closing File')\n",
    "    open_card_file.close()\n",
    "\n",
    "\n",
    "# Write your code below:\n",
    "with poem_files('poem.txt', 'r') as poem:\n",
    "  with card_files('card.txt', 'w') as card:\n",
    "    print(poem)\n",
    "    print(card)\n",
    "    card.write(poem.read())\n"
   ]
  },
  {
   "attachments": {},
   "cell_type": "markdown",
   "metadata": {},
   "source": [
    "https://docs.python.org/3/library/contextlib.html"
   ]
  }
 ],
 "metadata": {
  "kernelspec": {
   "display_name": "Python 3",
   "language": "python",
   "name": "python3"
  },
  "language_info": {
   "codemirror_mode": {
    "name": "ipython",
    "version": 3
   },
   "file_extension": ".py",
   "mimetype": "text/x-python",
   "name": "python",
   "nbconvert_exporter": "python",
   "pygments_lexer": "ipython3",
   "version": "3.9.5"
  },
  "orig_nbformat": 4,
  "vscode": {
   "interpreter": {
    "hash": "6fff98fc3b3d81bd655c2cc48858186e4d9e2db7b515bf1c3221888f12a62f87"
   }
  }
 },
 "nbformat": 4,
 "nbformat_minor": 2
}
