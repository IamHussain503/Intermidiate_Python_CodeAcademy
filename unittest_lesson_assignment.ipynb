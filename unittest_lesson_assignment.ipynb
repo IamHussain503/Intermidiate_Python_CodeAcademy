{
 "cells": [
  {
   "cell_type": "code",
   "execution_count": null,
   "metadata": {},
   "outputs": [],
   "source": [
    "import warnings\n",
    "\n",
    "\n",
    "class CustomerRequestWarning(Warning):\n",
    "  pass\n",
    "\n",
    "\n",
    "def calculate_remaining_time(km):\n",
    "  '''\n",
    "  This function estimates the remaining flight time when given the kilometers that remain for this flight. The function assumes an average speed of 15 km per minute and rounds down when calculating minutes. It returns a tuple of hours and then minutes remaining. \n",
    "  '''\n",
    "  total_minutes = int(km / 15)\n",
    "  minutes = total_minutes % 60\n",
    "  hours = int(total_minutes / 60)\n",
    "  return (hours, minutes)\n",
    "\n",
    "\n",
    "def request_flight_attendant():\n",
    "  '''\n",
    "  This function raises a CustomerRequestWarning to let the flight attendants know that they are requested. \n",
    "  '''\n",
    "  warnings.warn('A customer has requested attention!', CustomerRequestWarning)\n"
   ]
  }
 ],
 "metadata": {
  "language_info": {
   "name": "python"
  },
  "orig_nbformat": 4
 },
 "nbformat": 4,
 "nbformat_minor": 2
}
