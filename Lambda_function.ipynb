{
 "cells": [
  {
   "cell_type": "markdown",
   "metadata": {},
   "source": [
    "# Lambda Functions\n",
    "Learn how to define a Python function in one line!\n",
    "\n",
    "In Python, a lambda function (also commonly called an anonymous function) is a one-line shorthand for function. Let’s start by examining how lambda functions compare to the normal functions we have already been writing.\n",
    "\n",
    "Take for example, a function called add_two():\n",
    "\n",
    "def add_two(my_input):\n",
    "  return my_input + 2\n",
    "The same function could be written as a lambda function:\n",
    "\n",
    "add_two = lambda my_input: my_input + 2\n",
    "So this code using the above lambda function:\n",
    "\n",
    "print(add_two(3))\n",
    "print(add_two(100))\n",
    "print(add_two(-2))\n",
    "Would output:\n",
    "\n",
    "5\n",
    "102\n",
    "0\n",
    "Let’s break this syntax down:\n",
    "\n",
    "The function is stored in a variable called add_two.\n",
    "The lambda keyword declares that this is a lambda function (similar to how we use def to declare a normal function).\n",
    "my_input is a parameter used to hold the value passed to add_two.\n",
    "In the lambda function version, we are returning my_input + 2 without the use of a return keyword (the normal Python function explicitly uses the keyword return).\n",
    "Let’s practice identifying a conversion from a normal function to a lambda function!\n",
    "\n",
    "Multiple choice\n",
    "Which of the following is a proper conversion of the function below into a lambda function?\n",
    "\n",
    "def add_bang(sentence):\n",
    "  print(sentence + '!')\n",
    "\n",
    "add_bang = lambda string: print(string + '!')\n",
    "\n",
    "add_bang = lambda string: return string + '!'\n",
    "\n",
    "add_bang = lambda print(string + '!'): string\n",
    "\n",
    "lambda string: print(string + '!')\n",
    "Our lambda functions can be more complex than the above example. For instance, let’s say we want a function that will perform differently based on different inputs.\n",
    "\n",
    "Let’s say that we have a function check_if_A_grade that outputs 'Got an A!' if a grade is at least 90, and otherwise says you 'Did not get an A.'. So, the code:\n",
    "\n",
    "print(check_if_A_grade(91))\n",
    "print(check_if_A_grade(70))\n",
    "print(check_if_A_grade(20))\n",
    "Would output:\n",
    "\n",
    "'Got an A!'\n",
    "'Did not get an A.'\n",
    "'Did not get an A.'\n",
    "We can do this using a conditional if statement in a lambda function, with syntax that looks like this:\n",
    "\n",
    "check_if_A_grade = lambda grade: 'Got an A!' if grade >= 90 else 'Did not get an A.'\n",
    "This is what our line of code does:\n",
    "\n",
    "lambda grade: declares a lambda function with the parameter grade\n",
    "Return 'Got an A!' if this statement is true:\n",
    "grade >= 90\n",
    "Otherwise, return 'Did not get an A.'\n",
    "Lambda functions are the preferred way of creating one-line functions. The reduced syntax assists code readability and the functions can be implemented where code reuse is not the primary objective. If we wanted our function complexity to extend beyond one line, we would opt for a regular function since making our function longer would impair readability.\n",
    "\n",
    "Now we can make simple Python functions in one line! Let’s get some practice in!"
   ]
  },
  {
   "cell_type": "code",
   "execution_count": 30,
   "metadata": {},
   "outputs": [
    {
     "name": "stdout",
     "output_type": "stream",
     "text": [
      "7\n"
     ]
    }
   ],
   "source": [
    "def add_two(my_input):\n",
    "  return my_input + 2\n",
    "\n",
    "print(add_two(5))"
   ]
  },
  {
   "cell_type": "code",
   "execution_count": 31,
   "metadata": {},
   "outputs": [],
   "source": [
    "add_two = lambda my_input: my_input + 2"
   ]
  },
  {
   "cell_type": "code",
   "execution_count": 32,
   "metadata": {},
   "outputs": [
    {
     "name": "stdout",
     "output_type": "stream",
     "text": [
      "12\n"
     ]
    }
   ],
   "source": [
    "print(add_two(10))"
   ]
  },
  {
   "cell_type": "code",
   "execution_count": 37,
   "metadata": {},
   "outputs": [],
   "source": [
    "check_if_A_grade = lambda grade: 'Got an A!' if grade >= 90 else 'Did not get an A.'"
   ]
  },
  {
   "cell_type": "code",
   "execution_count": 39,
   "metadata": {},
   "outputs": [
    {
     "name": "stdout",
     "output_type": "stream",
     "text": [
      "Got an A!\n",
      "Did not get an A.\n",
      "Did not get an A.\n"
     ]
    }
   ],
   "source": [
    "print(check_if_A_grade(91))\n",
    "print(check_if_A_grade(85))\n",
    "print(check_if_A_grade(20))"
   ]
  },
  {
   "cell_type": "markdown",
   "metadata": {},
   "source": [
    "# Introduction to Higher-Order Functions\n",
    "In this article, you will learn about higher-order functions - a unique type of function!\n",
    "\n",
    "Functions as First-Class Objects\n",
    "So far, we have explored the core benefits of using functions in our programs. We have seen firsthand how using functions allows for better code modularity, readability, and extensibility. Many of these benefits stem from the ability of functions to be extremely flexible. In Python, functions are treated just like any other object, which in turn gives them the power to be used in a variety of ways. In order to truly understand the power of functions, let’s explore what it means for functions to be objects!\n",
    "\n",
    "In Python, all functions, including the ones we’ve written, are classified as first-class objects (sometimes also called first-class citizens or first-class functions). This means they have four important characteristics:\n",
    "\n",
    "First-class objects can be stored as variables.\n",
    "First-class objects can be passed as arguments to a function.\n",
    "First-class objects can be returned by a function.\n",
    "First-class objects can be stored in data structures (e.g., lists, dictionaries, etc.).\n",
    "We may have taken this functionality for granted before if we ever assigned a function to a variable or stored a function in a list, like in these examples:\n",
    "\n",
    "# Here, we assign a function to a variable\n",
    "uppercase = str.upper \n",
    " \n",
    "# And then call it \n",
    "big_pie = uppercase(\"pumpkinpie\")\n",
    "or maybe something like this:\n",
    "\n",
    "# Here we store two functions in a list\n",
    "string_manipulation_functions = [str.upper, str.lower] \n",
    "But the fact that functions are first-class objects in Python, and therefore have all the flexibility of objects, enables us to write even more powerful types of functions called higher-order functions.\n",
    "\n",
    "Higher-order functions operate on other functions via arguments or via return values. This means higher-order functions do one or both of the following:\n",
    "\n",
    "Accept a function as an argument\n",
    "Have a return value that is a function\n",
    "Let’s dive into each of these properties to see this special type of function in action!\n",
    "\n",
    "Functions as Arguments\n",
    "Let’s start with higher-order functions that take another function as an argument. We’ll go through a series of examples using a higher-order function, total_bill(), that takes another function as one of its arguments. This function aims to use other functions (taken in as arguments) to calculate the total bill at say a restaurant or cafe. By examining each example in turn, we will learn how to use higher-order functions and why exactly they are so powerful. Later on, we will come back to higher-order functions that have a function as a return value. Here we go!\n",
    "\n",
    "Take a look at the example higher-order function called total_bill():\n",
    "\n",
    "def total_bill(func, value):\n",
    "  total = func(value)\n",
    "  return total\n",
    "The total_bill() function takes two arguments: func and value. When called, total_bill() applies func() to value and returns the result. In order to see it in action, let’s define a function called, add_tax(), and then pass it to our higher-order total_bill() function along with a numeric value:\n",
    "\n",
    "def add_tax(total):\n",
    "  tax = total * 0.06\n",
    "  new_total = total + tax\n",
    "  return new_total\n",
    " \n",
    "total_bill(add_tax, 100)\n",
    "Would output:\n",
    "\n",
    "106.0\n",
    "Here, total_bill() is classified as a higher-order function because it takes in an argument that is a function (add_tax() in the above example). Right off the bat, this setup may not be very useful compared to simply calling add_tax(100) directly, but what if we wanted to add a tip instead of tax? Let’s see how we can reuse our higher-order function to add a 20% gratuity instead of a 6% sales tax:\n",
    "\n",
    "def add_tip(total):\n",
    "  tip = total * .2\n",
    "  new_total = total + tip\n",
    "  return new_total\n",
    " \n",
    "total_bill(add_tip, 100)\n",
    "Would output:\n",
    "\n",
    "120.0\n",
    "We can see that we can reuse total_bill() for both of these functions! But this still isn’t any more useful than calling the function add_tax() or add_tip() directly on a value. The true power comes when we want to keep a consistent manipulation no matter what function is passed in. We can see this if we modify our total_bill() function so it adds formatting to the total amount owed in a consistent and friendly way, regardless of which function is passed in:\n",
    "\n",
    "def total_bill(func, value):\n",
    "  total = func(value)\n",
    "  return (\"The total amount owed is $\" + \"{:.2f}\".format(total) + \". Thank you! :)\")\n",
    " \n",
    " \n",
    "print(total_bill(add_tax, 100))\n",
    "print(total_bill(add_tip, 100))\n",
    "Would output:\n",
    "\n",
    "'The total amount owed is $106.00. Thank you! :)'\n",
    "'The total amount owed is $120.00. Thank you! :)'\n",
    "Now, no matter the function we pass as the argument and the behavior we want the function to accomplish, we can always consistently format the total and add a friendly message to the returned result. While we are only adding on a small manipulation at this point, we can really do any consistent manipulation that increases our code reuse and makes our programs more modular. This isn’t the only situation where higher-order functions shine, they are also fantastic for situations involving iteration!\n",
    "\n",
    "Functions as Arguments - Iteration\n",
    "Let’s return to our total_bill() example. Now say we have a list of bills instead of just one, and we want to add tax or tip to each bill, depending on the type of sale it is.\n",
    "\n",
    "One way to accomplish this could be to write out separate loops: one for sales that need to have tax added and one for sales that should have a tip added. To get a sense of what this would look like, let’s write out the loop for adding tax first:\n",
    "\n",
    "bills = [115, 120, 42]\n",
    " \n",
    "new_bills = []\n",
    " \n",
    "for i in range(len(bills)):\n",
    "  total = add_tax(bills[i])\n",
    "  new_bills.append(\"Total amount owed is $\" + \"{:.2f}\".format(total) + \". Thank you! :)\")\n",
    " \n",
    "print(new_bills)\n",
    "Would output:\n",
    "\n",
    "['Total amount owed is $121.90. Thank you! :)',\n",
    " 'Total amount owed is $127.20. Thank you! :)',\n",
    " 'Total amount owed is $44.52. Thank you! :)']\n",
    "Now, we could write out another loop for when we need to add a tip instead of tax, but we can probably guess how many repetitions would be involved. A much more powerful solution would be to use a higher-order function to apply add_tax() or add_tip() to each balance in our list. Lets first define a higher-order function, total_bills(), that takes a function and a list as arguments, applies the function to each element in the list, standardizes the format of the result and adds a friendly message, appends the output to a new list, and finally returns the updated new list:\n",
    "\n",
    "def total_bills(func, list):\n",
    "  # This list will store all the new bill values\n",
    "  new_bills = []\n",
    " \n",
    "  # This loop will iterate through our bills\n",
    "  for i in range(len(list)):\n",
    " \n",
    "    # Here we apply the function to each element of the list!\n",
    "    total = func(list[i])\n",
    "    new_bills.append(\"Total amount owed is $\" + \"{:.2f}\".format(total) + \". Thank you! :)\")\n",
    " \n",
    "  return new_bills\n",
    "Next, let’s use the add_tax() function that we wrote before with our new total_bills() higher-order function:\n",
    "\n",
    "bills = [115, 120, 42]\n",
    " \n",
    "bills_w_tax = total_bills(add_tax, bills)\n",
    " \n",
    "print(bills_w_tax)\n",
    "Would output:\n",
    "\n",
    "['Total amount owed is $121.90. Thank you! :)',\n",
    " 'Total amount owed is $127.20. Thank you! :)',\n",
    " 'Total amount owed is $44.52. Thank you! :)']\n",
    "And if we needed to add a tip instead of tax, we could simply swap out the function argument:\n",
    "\n",
    "bills_w_tip = total_bills(add_tip, bills)\n",
    " \n",
    "print(bills_w_tip)\n",
    "Would output:\n",
    "\n",
    "['Total amount owed is $138.00. Thank you! :)',\n",
    " 'Total amount owed is $144.00. Thank you! :)',\n",
    " 'Total amount owed is $50.40. Thank you! :)']\n",
    "As these examples show, being able to pass functions in as arguments can be pretty handy, especially when we want to apply a function multiple times. In fact, it’s so handy that there’s a built-in higher-order function in Python that does just that—the map() function. We will learn more about the map() function in upcoming articles. Now that we have explored functions as arguments, let’s turn toward higher-order functions that have functions as return values.\n",
    "\n",
    "Functions as Return Values\n",
    "So far, we have focused on higher-order functions that take another function as an argument. Remember, though, that a function that returns another function is also a higher-order function. Let’s see what this looks like in practice by considering a higher-order function, make_box_volume_function(), that will help us calculate the volumes of boxes when they have the same height:\n",
    "\n",
    "def make_box_volume_function(height):\n",
    "    # defines and returns a function that takes two numeric arguments,        \n",
    "    # length &  width, and returns the volume given the input height\n",
    "    def volume(length, width):\n",
    "        return length*width*height\n",
    " \n",
    "    return volume\n",
    " \n",
    "box_volume_height15 = make_box_volume_function(15)\n",
    " \n",
    "print(box_volume_height15(3,2))\n",
    "Would output:\n",
    "\n",
    "90\n",
    "And if we had slightly shorter boxes:\n",
    "\n",
    "box_volume_height10 = make_box_volume_function(10)\n",
    " \n",
    "print(box_volume_height10(3,2))\n",
    "Would output:\n",
    "\n",
    "60\n",
    "In the example, we wrote a higher-order function, make_box_volume_function(), that takes a height as an argument and returns a new function that calculates the volume of any box with that height when it is passed the length and width of the box. As we can see, higher-order functions with functions as return values are just as reusable as higher-order functions with functions as arguments and, therefore, also reduce repetition and the chances for mistakes to creep into code. Our appreciation for this will grow as we keep writing more code and our code becomes increasingly complex!\n",
    "\n",
    "Wrap Up\n",
    "Great Job! We have explored many new concepts surrounding higher-order functions! To summarize, we learned:\n",
    "\n",
    "Higher-order functions are possible because functions are first-class objects in Python, meaning that a function can be stored as a variable, passed as an argument to a function, returned by a function, and stored in data structures (lists, dictionaries, etc.).\n",
    "Higher-order functions are functions that operate on other functions by taking another function as an argument, returning another function, or both.\n",
    "Higher-order functions can reduce repetition in code, making code easier to read and less prone to mistakes.\n",
    "As you keep practicing and writing more code, higher-order functions will make your code faster, more elegant, and easier for collaborators to understand and reuse. Next up, we’ll learn about several built-in higher-order functions in Python!\n",
    "\n"
   ]
  },
  {
   "cell_type": "code",
   "execution_count": 5,
   "metadata": {},
   "outputs": [],
   "source": [
    "# Here, we assign a function to a variable\n",
    "uppercase = str.upper \n",
    " \n",
    "# And then call it \n",
    "big_pie = uppercase(\"pumpkinpie\")"
   ]
  },
  {
   "cell_type": "code",
   "execution_count": 6,
   "metadata": {},
   "outputs": [
    {
     "name": "stdout",
     "output_type": "stream",
     "text": [
      "PUMPKINPIE\n"
     ]
    }
   ],
   "source": [
    "print(big_pie)"
   ]
  },
  {
   "cell_type": "code",
   "execution_count": 10,
   "metadata": {},
   "outputs": [
    {
     "name": "stdout",
     "output_type": "stream",
     "text": [
      "MAHJABEEN\n"
     ]
    }
   ],
   "source": [
    "print(\"Mahjabeen\".upper())"
   ]
  },
  {
   "cell_type": "code",
   "execution_count": 14,
   "metadata": {},
   "outputs": [
    {
     "name": "stdout",
     "output_type": "stream",
     "text": [
      "SHAUKAT\n",
      "shaukat\n"
     ]
    }
   ],
   "source": [
    "# Here we store two functions in a list\n",
    "string_manipulation_functions = [str.upper, str.lower] \n",
    "print(string_manipulation_functions[0](\"shaukat\"))\n",
    "print(string_manipulation_functions[1](\"shaukat\"))"
   ]
  },
  {
   "cell_type": "markdown",
   "metadata": {},
   "source": [
    "# Higher order fucntions"
   ]
  },
  {
   "cell_type": "code",
   "execution_count": 16,
   "metadata": {},
   "outputs": [
    {
     "data": {
      "text/plain": [
       "106.0"
      ]
     },
     "execution_count": 16,
     "metadata": {},
     "output_type": "execute_result"
    }
   ],
   "source": [
    "def add_tax(total):\n",
    "  tax = total * 0.06\n",
    "  new_total = total + tax\n",
    "  return new_total\n",
    " \n",
    "total_bill(add_tax, 100)"
   ]
  },
  {
   "cell_type": "code",
   "execution_count": 17,
   "metadata": {},
   "outputs": [
    {
     "data": {
      "text/plain": [
       "120.0"
      ]
     },
     "execution_count": 17,
     "metadata": {},
     "output_type": "execute_result"
    }
   ],
   "source": [
    "def add_tip(total):\n",
    "  tip = total * .2\n",
    "  new_total = total + tip\n",
    "  return new_total\n",
    " \n",
    "total_bill(add_tip, 100)"
   ]
  },
  {
   "cell_type": "code",
   "execution_count": 27,
   "metadata": {},
   "outputs": [
    {
     "name": "stdout",
     "output_type": "stream",
     "text": [
      "The total amount owed is $106.00. Thank you! :)\n",
      "The total amount owed is $120.00. Thank you! :)\n"
     ]
    }
   ],
   "source": [
    "def total_bill(shau, value):\n",
    "  total = shau(value)\n",
    "  return (\"The total amount owed is $\" + \"{:.2f}\".format(total) + \". Thank you! :)\")\n",
    " \n",
    "print(total_bill(add_tax, 100))\n",
    "print(total_bill(add_tip, 100))"
   ]
  },
  {
   "cell_type": "code",
   "execution_count": 28,
   "metadata": {},
   "outputs": [
    {
     "name": "stdout",
     "output_type": "stream",
     "text": [
      "['Total amount owed is $121.90. Thank you! :)', 'Total amount owed is $127.20. Thank you! :)', 'Total amount owed is $44.52. Thank you! :)']\n"
     ]
    }
   ],
   "source": [
    "def total_bills(func, list):\n",
    "  # This list will store all the new bill values\n",
    "  new_bills = []\n",
    " \n",
    "  # This loop will iterate through our bills\n",
    "  for i in range(len(list)):\n",
    " \n",
    "    # Here we apply the function to each element of the list!\n",
    "    total = func(list[i])\n",
    "    new_bills.append(\"Total amount owed is $\" + \"{:.2f}\".format(total) + \". Thank you! :)\")\n",
    " \n",
    "  return new_bills\n",
    "\n",
    "bills = [115, 120, 42]\n",
    " \n",
    "bills_w_tax = total_bills(add_tax, bills)\n",
    " \n",
    "print(bills_w_tax)\n",
    " "
   ]
  },
  {
   "cell_type": "markdown",
   "metadata": {},
   "source": [
    "# Functions that return a function"
   ]
  },
  {
   "cell_type": "code",
   "execution_count": 29,
   "metadata": {},
   "outputs": [
    {
     "name": "stdout",
     "output_type": "stream",
     "text": [
      "90\n"
     ]
    }
   ],
   "source": [
    "def make_box_volume_function(height):\n",
    "    # defines and returns a function that takes two numeric arguments,        \n",
    "    # length &  width, and returns the volume given the input height\n",
    "    def volume(length, width):\n",
    "        return length*width*height\n",
    " \n",
    "    return volume\n",
    " \n",
    "box_volume_height15 = make_box_volume_function(15)\n",
    " \n",
    "print(box_volume_height15(3,2))"
   ]
  }
 ],
 "metadata": {
  "kernelspec": {
   "display_name": "Python 3",
   "language": "python",
   "name": "python3"
  },
  "language_info": {
   "codemirror_mode": {
    "name": "ipython",
    "version": 3
   },
   "file_extension": ".py",
   "mimetype": "text/x-python",
   "name": "python",
   "nbconvert_exporter": "python",
   "pygments_lexer": "ipython3",
   "version": "3.9.5"
  }
 },
 "nbformat": 4,
 "nbformat_minor": 4
}
